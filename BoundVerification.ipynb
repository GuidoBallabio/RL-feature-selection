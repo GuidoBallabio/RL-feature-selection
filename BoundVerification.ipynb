{
 "cells": [
  {
   "cell_type": "markdown",
   "metadata": {},
   "source": [
    "# Bound Verification"
   ]
  },
  {
   "cell_type": "code",
   "execution_count": 3,
   "metadata": {},
   "outputs": [],
   "source": [
    "import pickle\n",
    "\n",
    "import numpy as np\n",
    "import matplotlib.pyplot as plt\n",
    "%matplotlib inline"
   ]
  },
  {
   "cell_type": "code",
   "execution_count": 4,
   "metadata": {},
   "outputs": [],
   "source": [
    "%load_ext autoreload\n",
    "%autoreload 2"
   ]
  },
  {
   "cell_type": "code",
   "execution_count": 5,
   "metadata": {},
   "outputs": [],
   "source": [
    "with open(\"benchmarks/results/backward_errors.pkl\", 'rb') as f:\n",
    "    d = pickle.load(f)"
   ]
  },
  {
   "cell_type": "code",
   "execution_count": 9,
   "metadata": {},
   "outputs": [],
   "source": [
    "if False:\n",
    "    for x in d:\n",
    "        print(x)\n",
    "        for s in d[x]:\n",
    "            print(s)"
   ]
  },
  {
   "cell_type": "code",
   "execution_count": 4,
   "metadata": {},
   "outputs": [
    {
     "data": {
      "text/plain": [
       "[({0, 1, 2, 3, 4, 5, 6, 7}, 0.0, 0.0),\n",
       " ({0, 1, 2, 4, 5, 6, 7}, 7.164711401082311e-07, 17.95976584969519),\n",
       " ({0, 1, 2, 4, 5, 6}, 5.477904187190047e-07, 79.35314991080675),\n",
       " ({0, 1, 4, 5, 6}, 6.18386413910591e-07, 167.32697516418727),\n",
       " ({0, 1, 4, 5}, 6.130033233603387e-07, 213.23801919937358),\n",
       " ({0, 1, 4}, 0.2816886060621435, 517.6060308282014),\n",
       " ({0, 4}, 2.245654026880827, 624.2811111452903),\n",
       " ({0}, 58.419383772436774, 737.3329139573507),\n",
       " (set(), 97.2890628567698, 800.1356761473131)]"
      ]
     },
     "execution_count": 4,
     "metadata": {},
     "output_type": "execute_result"
    }
   ],
   "source": [
    "hist = d[('LQG_nD', 'NpeetEstimator', 5000, 40, 0.9, 'QfunctionFQI')]\n",
    "hist"
   ]
  },
  {
   "cell_type": "code",
   "execution_count": 5,
   "metadata": {},
   "outputs": [],
   "source": [
    "def print_table(hist):\n",
    "    pre =   r\"\\begin{tabular}{@{}lcc@{}}\" \"\\n\" r\"\\toprule\" \"\\n\" \\\n",
    "            r\"\\multicolumn{1}{c}{Set of Selected Features} &\" \"\\n\" \\\n",
    "            r\"$\\Enorm{\\qpi(\\feat)-\\hqpi(\\feat_S)}{2}{\\mu}$ &\" \"\\n\" \\\n",
    "            r\"Bound   \\\\ \\midrule\" \"\\n\"\n",
    "    post = r\"\\bottomrule\" \"\\n\" \"\\end{tabular}\"\n",
    "    tab = []\n",
    "    for t in hist:\n",
    "        if t[0]:\n",
    "            S = \"$\\set{\" + \", \".join([f\"s_{i}\" for i in t[0]]) + \"}$\"\n",
    "        else:\n",
    "            S = \"$\\emptyset$\"\n",
    "        tab.append(S + \" & \" + f\"{t[1]:10.5g}\" + \" & \" + f\"{t[2]:10.5g}\" + \"\\\\\\\\\")\n",
    "    return pre + \"\\n\".join(tab) + post"
   ]
  },
  {
   "cell_type": "code",
   "execution_count": 6,
   "metadata": {},
   "outputs": [
    {
     "name": "stdout",
     "output_type": "stream",
     "text": [
      "\\begin{tabular}{@{}lcc@{}}\n",
      "\\toprule\n",
      "\\multicolumn{1}{c}{Set of Selected Features} &\n",
      "$\\Enorm{\\qpi(\\feat)-\\hqpi(\\feat_S)}{2}{\\mu}$ &\n",
      "Bound   \\\\ \\midrule\n",
      "$\\set{s_0, s_1, s_2, s_3, s_4, s_5, s_6, s_7}$ &          0 &          0\\\\\n",
      "$\\set{s_0, s_1, s_2, s_4, s_5, s_6, s_7}$ & 7.1647e-07 &      17.96\\\\\n",
      "$\\set{s_0, s_1, s_2, s_4, s_5, s_6}$ & 5.4779e-07 &     79.353\\\\\n",
      "$\\set{s_0, s_1, s_4, s_5, s_6}$ & 6.1839e-07 &     167.33\\\\\n",
      "$\\set{s_0, s_1, s_4, s_5}$ &   6.13e-07 &     213.24\\\\\n",
      "$\\set{s_0, s_1, s_4}$ &    0.28169 &     517.61\\\\\n",
      "$\\set{s_0, s_4}$ &     2.2457 &     624.28\\\\\n",
      "$\\set{s_0}$ &     58.419 &     737.33\\\\\n",
      "$\\emptyset$ &     97.289 &     800.14\\\\\\bottomrule\n",
      "\\end{tabular}\n"
     ]
    }
   ],
   "source": [
    "print(print_table(hist))"
   ]
  },
  {
   "cell_type": "code",
   "execution_count": 7,
   "metadata": {},
   "outputs": [],
   "source": [
    "def plot_table(hist):\n",
    "    fig = plt.figure(figsize=(9,5))\n",
    "    ax = plt.subplot(111)\n",
    "    y = np.array(list(map(lambda t: t[1], hist)))\n",
    "    x = np.arange(len(y))\n",
    "    ax.step(x, y, where='mid', label=\"True Estimation\", marker=\"x\")\n",
    "    y = np.array(list(map(lambda t: t[2], hist)))\n",
    "    ax.step(x, y, where='mid', label=\"Bound\", marker=\"o\")\n",
    "    ax.legend()\n",
    "    plt.xlabel(\"Number of Features Removed\")\n",
    "    plt.ylabel(\"Value error\")\n",
    "    plt.title(\"Bound Verification\")\n",
    "    plt.show()\n",
    "    return fig"
   ]
  },
  {
   "cell_type": "code",
   "execution_count": 8,
   "metadata": {},
   "outputs": [
    {
     "data": {
      "image/png": "[encoded data removed]",
      "text/plain": [
       "<Figure size 648x360 with 1 Axes>"
      ]
     },
     "metadata": {
      "needs_background": "light"
     },
     "output_type": "display_data"
    }
   ],
   "source": [
    "fig = plot_table(hist)"
   ]
  },
  {
   "cell_type": "code",
   "execution_count": 9,
   "metadata": {},
   "outputs": [],
   "source": [
    "fig.savefig(\"images/bound-verification.png\")"
   ]
  },
  {
   "cell_type": "code",
   "execution_count": 27,
   "metadata": {},
   "outputs": [],
   "source": [
    "def print_tables(ks, d):\n",
    "    tabs = []\n",
    "    for m in ks:\n",
    "        env, _, n, k, gamma, _ = m\n",
    "        if env == 'LQG_nD':\n",
    "            env = 'LQG'\n",
    "        elif env == 'LunarLander-v2':\n",
    "            env = 'LunarLander'\n",
    "        elif env == 'TaxiUnraveled':\n",
    "            env = 'CustomTaxi'\n",
    "        pre =   r\"\\begin{table}\" \"\\n\" \\\n",
    "                r\"\\centering\" \"\\n\" \\\n",
    "                r\"\\begin{tabular}{@{}lcc@{}}\" \"\\n\" r\"\\toprule\" \"\\n\" \\\n",
    "                r\"\\multicolumn{1}{c}{Set of Selected Features} &\" \"\\n\" \\\n",
    "                r\"$\\Enorm{\\qpi(\\feat)-\\hqpi(\\feat_S)}{2}{\\mu}$ &\" \"\\n\" \\\n",
    "                r\"Bound   \\\\ \\midrule\" \"\\n\"\n",
    "        post =  r\"\\bottomrule\" \"\\n\" \"\\end{tabular}\" \"\\n\" \\\n",
    "                r\"\\caption{Verification of upper bound. Backward FS on \" f\"{env}\" \" environment\" \"\\n\" \\\n",
    "                r\"using bound in \\cref{eq:final-bound}, tested with $\\gamma=\" f\"{gamma},\" \"\\n\" \\\n",
    "                f\"n={n},k={k}$.}}\" \"\\n\" \\\n",
    "                r\"\\end{table}\"\n",
    "        tab = []\n",
    "        for t in d[m]:\n",
    "            if t[0]:\n",
    "                S = \"$\\set{\" + \", \".join([f\"f_{i}\" for i in t[0]]) + \"}$\"\n",
    "            else:\n",
    "                S = \"$\\emptyset$\"\n",
    "            tab.append(S + \" & \" + f\"{t[1]:10.5g}\" + \" & \" + f\"{t[2]:10.5g}\" + \"\\\\\\\\\")\n",
    "        tabs.append(pre + \"\\n\".join(tab) + post)\n",
    "    return \"\\n\\n\".join(tabs)"
   ]
  },
  {
   "cell_type": "code",
   "execution_count": 28,
   "metadata": {},
   "outputs": [
    {
     "name": "stdout",
     "output_type": "stream",
     "text": [
      "\\begin{table}\n",
      "\\centering\n",
      "\\begin{tabular}{@{}lcc@{}}\n",
      "\\toprule\n",
      "\\multicolumn{1}{c}{Set of Selected Features} &\n",
      "$\\Enorm{\\qpi(\\feat)-\\hqpi(\\feat_S)}{2}{\\mu}$ &\n",
      "Bound   \\\\ \\midrule\n",
      "$\\set{f_0, f_1, f_2, f_3, f_4, f_5, f_6, f_7}$ &          0 &          0\\\\\n",
      "$\\set{f_0, f_1, f_3, f_4, f_5, f_6, f_7}$ & 5.0223e-07 &   0.037976\\\\\n",
      "$\\set{f_0, f_1, f_3, f_4, f_5, f_7}$ & 3.9091e-07 &     5.4884\\\\\n",
      "$\\set{f_0, f_1, f_4, f_5, f_7}$ & 3.8924e-07 &     13.548\\\\\n",
      "$\\set{f_0, f_1, f_4, f_5}$ & 4.5416e-07 &     46.459\\\\\n",
      "$\\set{f_0, f_1, f_5}$ &  6.036e-07 &     121.71\\\\\n",
      "$\\set{f_0, f_1}$ &     2.1876 &        179\\\\\n",
      "$\\set{f_0}$ &     7.8781 &     242.55\\\\\n",
      "$\\emptyset$ &     39.937 &     282.19\\\\\\bottomrule\n",
      "\\end{tabular}\n",
      "\\caption{Verification of upper bound. Backward FS on LQG environment\n",
      "using bound in \\cref{eq:final-bound}, tested with $\\gamma=0.5,\n",
      "n=500,k=20$.}\n",
      "\\end{table}\n",
      "\n",
      "\\begin{table}\n",
      "\\centering\n",
      "\\begin{tabular}{@{}lcc@{}}\n",
      "\\toprule\n",
      "\\multicolumn{1}{c}{Set of Selected Features} &\n",
      "$\\Enorm{\\qpi(\\feat)-\\hqpi(\\feat_S)}{2}{\\mu}$ &\n",
      "Bound   \\\\ \\midrule\n",
      "$\\set{f_0, f_1, f_2, f_3, f_4, f_5, f_6, f_7}$ &          0 &          0\\\\\n",
      "$\\set{f_0, f_1, f_3, f_4, f_5, f_6, f_7}$ & 5.8318e-07 &       82.4\\\\\n",
      "$\\set{f_0, f_1, f_3, f_4, f_5, f_7}$ & 6.1474e-07 &     175.49\\\\\n",
      "$\\set{f_0, f_1, f_3, f_4, f_5}$ & 6.5371e-07 &     252.11\\\\\n",
      "$\\set{f_0, f_1, f_4, f_5}$ &   6.13e-07 &     290.14\\\\\n",
      "$\\set{f_0, f_1, f_4}$ &    0.28169 &     509.94\\\\\n",
      "$\\set{f_0, f_4}$ &     2.2457 &     633.72\\\\\n",
      "$\\set{f_0}$ &     58.419 &     764.25\\\\\n",
      "$\\emptyset$ &     97.289 &     842.84\\\\\\bottomrule\n",
      "\\end{tabular}\n",
      "\\caption{Verification of upper bound. Backward FS on LQG environment\n",
      "using bound in \\cref{eq:final-bound}, tested with $\\gamma=0.9,\n",
      "n=1000,k=40$.}\n",
      "\\end{table}\n",
      "\n",
      "\\begin{table}\n",
      "\\centering\n",
      "\\begin{tabular}{@{}lcc@{}}\n",
      "\\toprule\n",
      "\\multicolumn{1}{c}{Set of Selected Features} &\n",
      "$\\Enorm{\\qpi(\\feat)-\\hqpi(\\feat_S)}{2}{\\mu}$ &\n",
      "Bound   \\\\ \\midrule\n",
      "$\\set{f_0, f_1, f_2, f_3, f_4, f_5, f_6, f_7}$ &          0 &          0\\\\\n",
      "$\\set{f_0, f_1, f_2, f_4, f_5, f_6, f_7}$ & 5.7547e-07 &     64.978\\\\\n",
      "$\\set{f_0, f_1, f_2, f_4, f_5, f_6}$ & 7.4872e-07 &     187.92\\\\\n",
      "$\\set{f_0, f_1, f_4, f_5, f_6}$ & 6.1886e-07 &     336.21\\\\\n",
      "$\\set{f_0, f_1, f_4, f_5}$ & 5.0254e-07 &     426.66\\\\\n",
      "$\\set{f_0, f_1, f_5}$ &  0.0077318 &     785.55\\\\\n",
      "$\\set{f_1, f_5}$ &     4.2011 &     929.89\\\\\n",
      "$\\set{f_1}$ &     104.25 &     1057.1\\\\\n",
      "$\\emptyset$ &     162.24 &     1143.6\\\\\\bottomrule\n",
      "\\end{tabular}\n",
      "\\caption{Verification of upper bound. Backward FS on LQG environment\n",
      "using bound in \\cref{eq:final-bound}, tested with $\\gamma=0.95,\n",
      "n=5000,k=40$.}\n",
      "\\end{table}\n",
      "\n",
      "\\begin{table}\n",
      "\\centering\n",
      "\\begin{tabular}{@{}lcc@{}}\n",
      "\\toprule\n",
      "\\multicolumn{1}{c}{Set of Selected Features} &\n",
      "$\\Enorm{\\qpi(\\feat)-\\hqpi(\\feat_S)}{2}{\\mu}$ &\n",
      "Bound   \\\\ \\midrule\n",
      "$\\set{f_0, f_1, f_2, f_3, f_4, f_5, f_6, f_7, f_8}$ &          0 &          0\\\\\n",
      "$\\set{f_1, f_2, f_3, f_4, f_5, f_6, f_7, f_8}$ & 9.5007e-07 &    0.45563\\\\\n",
      "$\\set{f_2, f_3, f_4, f_5, f_6, f_7, f_8}$ & 1.0957e-06 &    0.64437\\\\\n",
      "$\\set{f_2, f_3, f_4, f_5, f_7, f_8}$ & 1.2552e-06 &    0.78919\\\\\n",
      "$\\set{f_2, f_3, f_4, f_5, f_8}$ &  1.006e-06 &    0.91128\\\\\n",
      "$\\set{f_8, f_2, f_3, f_5}$ & 1.8196e-06 &     1.0188\\\\\n",
      "$\\set{f_8, f_2, f_3}$ & 2.1432e-06 &     1.1161\\\\\n",
      "$\\set{f_2, f_3}$ & 2.1947e-06 &     9.5572\\\\\n",
      "$\\set{f_3}$ &    0.32068 &     13.312\\\\\n",
      "$\\emptyset$ &     3.6179 &     15.373\\\\\\bottomrule\n",
      "\\end{tabular}\n",
      "\\caption{Verification of upper bound. Backward FS on LunarLander environment\n",
      "using bound in \\cref{eq:final-bound}, tested with $\\gamma=0.5,\n",
      "n=500,k=20$.}\n",
      "\\end{table}\n",
      "\n",
      "\\begin{table}\n",
      "\\centering\n",
      "\\begin{tabular}{@{}lcc@{}}\n",
      "\\toprule\n",
      "\\multicolumn{1}{c}{Set of Selected Features} &\n",
      "$\\Enorm{\\qpi(\\feat)-\\hqpi(\\feat_S)}{2}{\\mu}$ &\n",
      "Bound   \\\\ \\midrule\n",
      "$\\set{f_0, f_1, f_2, f_3, f_4, f_5, f_6, f_7, f_8}$ &          0 &          0\\\\\n",
      "$\\set{f_0, f_2, f_3, f_4, f_5, f_6, f_7, f_8}$ & 1.2825e-06 &     3.3344\\\\\n",
      "$\\set{f_0, f_2, f_3, f_4, f_6, f_7, f_8}$ & 1.9925e-06 &     4.8078\\\\\n",
      "$\\set{f_2, f_3, f_4, f_6, f_7, f_8}$ & 3.0277e-06 &     5.9624\\\\\n",
      "$\\set{f_2, f_3, f_4, f_7, f_8}$ & 3.1337e-06 &     6.9517\\\\\n",
      "$\\set{f_8, f_2, f_3, f_4}$ & 2.8222e-06 &     7.8355\\\\\n",
      "$\\set{f_8, f_2, f_3}$ & 4.2191e-06 &     8.8411\\\\\n",
      "$\\set{f_2, f_3}$ & 3.9441e-06 &     24.864\\\\\n",
      "$\\set{f_3}$ &     2.0809 &     49.624\\\\\n",
      "$\\emptyset$ &     7.9208 &       60.7\\\\\\bottomrule\n",
      "\\end{tabular}\n",
      "\\caption{Verification of upper bound. Backward FS on LunarLander environment\n",
      "using bound in \\cref{eq:final-bound}, tested with $\\gamma=0.9,\n",
      "n=1000,k=40$.}\n",
      "\\end{table}\n",
      "\n",
      "\\begin{table}\n",
      "\\centering\n",
      "\\begin{tabular}{@{}lcc@{}}\n",
      "\\toprule\n",
      "\\multicolumn{1}{c}{Set of Selected Features} &\n",
      "$\\Enorm{\\qpi(\\feat)-\\hqpi(\\feat_S)}{2}{\\mu}$ &\n",
      "Bound   \\\\ \\midrule\n",
      "$\\set{f_0, f_1, f_2, f_3, f_4, f_5, f_6, f_7, f_8}$ &          0 &          0\\\\\n",
      "$\\set{f_0, f_2, f_3, f_4, f_5, f_6, f_7, f_8}$ & 1.5294e-06 &     2.1802\\\\\n",
      "$\\set{f_0, f_2, f_3, f_5, f_6, f_7, f_8}$ & 1.7211e-06 &     3.4016\\\\\n",
      "$\\set{f_2, f_3, f_5, f_6, f_7, f_8}$ & 2.5789e-06 &     4.4619\\\\\n",
      "$\\set{f_2, f_3, f_5, f_7, f_8}$ &  2.862e-06 &     5.4298\\\\\n",
      "$\\set{f_8, f_2, f_3, f_5}$ &  2.713e-06 &     6.3388\\\\\n",
      "$\\set{f_8, f_2, f_3}$ & 3.0588e-06 &     11.569\\\\\n",
      "$\\set{f_2, f_3}$ & 3.8655e-06 &     39.356\\\\\n",
      "$\\set{f_3}$ &     5.0803 &     96.098\\\\\n",
      "$\\emptyset$ &     12.702 &     123.89\\\\\\bottomrule\n",
      "\\end{tabular}\n",
      "\\caption{Verification of upper bound. Backward FS on LunarLander environment\n",
      "using bound in \\cref{eq:final-bound}, tested with $\\gamma=0.95,\n",
      "n=5000,k=40$.}\n",
      "\\end{table}\n",
      "\n",
      "\\begin{table}\n",
      "\\centering\n",
      "\\begin{tabular}{@{}lcc@{}}\n",
      "\\toprule\n",
      "\\multicolumn{1}{c}{Set of Selected Features} &\n",
      "$\\Enorm{\\qpi(\\feat)-\\hqpi(\\feat_S)}{2}{\\mu}$ &\n",
      "Bound   \\\\ \\midrule\n",
      "$\\set{f_0, f_1, f_2, f_3, f_4}$ &          0 &          0\\\\\n",
      "$\\set{f_0, f_2, f_3, f_4}$ &    0.75487 &     36.516\\\\\n",
      "$\\set{f_2, f_3, f_4}$ &    0.82994 &     43.807\\\\\n",
      "$\\set{f_3, f_4}$ &    0.83284 &     44.507\\\\\n",
      "$\\set{f_4}$ &    0.83406 &     45.091\\\\\n",
      "$\\emptyset$ &     4.2453 &     48.836\\\\\\bottomrule\n",
      "\\end{tabular}\n",
      "\\caption{Verification of upper bound. Backward FS on CustomTaxi environment\n",
      "using bound in \\cref{eq:final-bound}, tested with $\\gamma=0.5,\n",
      "n=500,k=20$.}\n",
      "\\end{table}\n",
      "\n",
      "\\begin{table}\n",
      "\\centering\n",
      "\\begin{tabular}{@{}lcc@{}}\n",
      "\\toprule\n",
      "\\multicolumn{1}{c}{Set of Selected Features} &\n",
      "$\\Enorm{\\qpi(\\feat)-\\hqpi(\\feat_S)}{2}{\\mu}$ &\n",
      "Bound   \\\\ \\midrule\n",
      "$\\set{f_0, f_1, f_2, f_3, f_4}$ &          0 &          0\\\\\n",
      "$\\set{f_0, f_2, f_3, f_4}$ &      1.476 &     181.26\\\\\n",
      "$\\set{f_2, f_3, f_4}$ &     1.6506 &     202.62\\\\\n",
      "$\\set{f_2, f_4}$ &     1.6681 &     203.93\\\\\n",
      "$\\set{f_4}$ &     1.6766 &     204.76\\\\\n",
      "$\\emptyset$ &     4.4977 &     210.36\\\\\\bottomrule\n",
      "\\end{tabular}\n",
      "\\caption{Verification of upper bound. Backward FS on CustomTaxi environment\n",
      "using bound in \\cref{eq:final-bound}, tested with $\\gamma=0.9,\n",
      "n=1000,k=40$.}\n",
      "\\end{table}\n",
      "\n",
      "\\begin{table}\n",
      "\\centering\n",
      "\\begin{tabular}{@{}lcc@{}}\n",
      "\\toprule\n",
      "\\multicolumn{1}{c}{Set of Selected Features} &\n",
      "$\\Enorm{\\qpi(\\feat)-\\hqpi(\\feat_S)}{2}{\\mu}$ &\n",
      "Bound   \\\\ \\midrule\n",
      "$\\set{f_0, f_1, f_2, f_3, f_4}$ &          0 &          0\\\\\n",
      "$\\set{f_0, f_2, f_3, f_4}$ &      2.031 &     188.55\\\\\n",
      "$\\set{f_2, f_3, f_4}$ &     2.2608 &     214.11\\\\\n",
      "$\\set{f_2, f_4}$ &     2.3047 &     222.11\\\\\n",
      "$\\set{f_4}$ &      2.325 &     223.62\\\\\n",
      "$\\emptyset$ &     5.9298 &     233.06\\\\\\bottomrule\n",
      "\\end{tabular}\n",
      "\\caption{Verification of upper bound. Backward FS on CustomTaxi environment\n",
      "using bound in \\cref{eq:final-bound}, tested with $\\gamma=0.95,\n",
      "n=5000,k=40$.}\n",
      "\\end{table}\n"
     ]
    }
   ],
   "source": [
    "ks = [('LQG_nD', 'NpeetEstimator', 500, 20, 0.5, 'QfunctionFQI'),\n",
    "     ('LQG_nD', 'NpeetEstimator', 1000, 40, 0.9, 'QfunctionFQI'),\n",
    "     ('LQG_nD', 'NpeetEstimator', 5000, 40, 0.95, 'QfunctionFQI'),\n",
    "     ('LunarLander-v2', 'NpeetEstimator', 500, 20, 0.5, 'QfunctionFQI'),\n",
    "     ('LunarLander-v2', 'NpeetEstimator', 1000, 40, 0.9, 'QfunctionFQI'),\n",
    "     ('LunarLander-v2', 'NpeetEstimator', 5000, 40, 0.95, 'QfunctionFQI'),\n",
    "     ('TaxiUnraveled', 'NpeetEstimator', 500, 20, 0.5, 'QfunctionFQI'),\n",
    "     ('TaxiUnraveled', 'NpeetEstimator', 1000, 40, 0.9, 'QfunctionFQI'),\n",
    "     ('TaxiUnraveled', 'NpeetEstimator', 5000, 40, 0.95, 'QfunctionFQI')]\n",
    "print(print_tables(ks, d))"
   ]
  }
 ],
 "metadata": {
  "kernelspec": {
   "display_name": "feature_sel",
   "language": "python",
   "name": "feature_sel"
  },
  "language_info": {
   "codemirror_mode": {
    "name": "ipython",
    "version": 3
   },
   "file_extension": ".py",
   "mimetype": "text/x-python",
   "name": "python",
   "nbconvert_exporter": "python",
   "pygments_lexer": "ipython3",
   "version": "3.7.4"
  }
 },
 "nbformat": 4,
 "nbformat_minor": 4
}
