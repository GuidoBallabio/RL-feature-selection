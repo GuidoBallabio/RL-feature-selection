{
 "cells": [
  {
   "cell_type": "markdown",
   "metadata": {},
   "source": [
    "# Bound Verification"
   ]
  },
  {
   "cell_type": "code",
   "execution_count": 1,
   "metadata": {},
   "outputs": [],
   "source": [
    "import pickle\n",
    "\n",
    "import numpy as np\n",
    "import matplotlib.pyplot as plt\n",
    "%matplotlib inline"
   ]
  },
  {
   "cell_type": "code",
   "execution_count": 2,
   "metadata": {},
   "outputs": [],
   "source": [
    "%load_ext autoreload\n",
    "%autoreload 2"
   ]
  },
  {
   "cell_type": "code",
   "execution_count": 3,
   "metadata": {},
   "outputs": [],
   "source": [
    "with open(\"benchmarks/results/correct.pkl\", 'rb') as f:\n",
    "    d = pickle.load(f)"
   ]
  },
  {
   "cell_type": "code",
   "execution_count": 4,
   "metadata": {},
   "outputs": [
    {
     "data": {
      "text/plain": [
       "[({0, 1, 2, 3, 4, 5, 6, 7}, 0.0, 0.0),\n",
       " ({0, 1, 2, 4, 5, 6, 7}, 2.8379676239516546e-05, 17.95976584969519),\n",
       " ({0, 1, 2, 4, 5, 6}, 4.237160047659866e-05, 79.35314991080675),\n",
       " ({0, 1, 4, 5, 6}, 2.9296883417312128e-05, 167.32697516418727),\n",
       " ({0, 1, 4, 5}, 5.561186922119603e-05, 213.23801919937358),\n",
       " ({0, 1, 4}, 19.963624361368243, 517.6060308282014),\n",
       " ({0, 4}, 158.6850670935827, 624.2811111452903),\n",
       " ({0}, 4130.964852209006, 737.3329139573507),\n",
       " (set(), 6879.375607811597, 800.1356761473131)]"
      ]
     },
     "execution_count": 4,
     "metadata": {},
     "output_type": "execute_result"
    }
   ],
   "source": [
    "hist = d[('LQG_nD', 'NpeetEstimator', 5000, 40, 0.9, 'QfunctionFQI')]\n",
    "hist"
   ]
  },
  {
   "cell_type": "code",
   "execution_count": 5,
   "metadata": {},
   "outputs": [],
   "source": [
    "def print_table(hist):\n",
    "    pre =   r\"\\begin{tabular}{@{}lcc@{}}\" \"\\n\" r\"\\toprule\" \"\\n\" \\\n",
    "            r\"\\multicolumn{1}{c}{Set of Selected Features} &\" \"\\n\" \\\n",
    "            r\"$\\Enorm{\\qpi(\\feat)-\\hqpi(\\feat_S)}{2}{\\mu}$ &\" \"\\n\" \\\n",
    "            r\"Bound   \\\\ \\midrule\" \"\\n\"\n",
    "    post = r\"\\bottomrule\" \"\\n\" \"\\end{tabular}\"\n",
    "    tab = []\n",
    "    for t in hist:\n",
    "        if t[0]:\n",
    "            S = \"$\\set{\" + \", \".join([f\"s_{i}\" for i in t[0]]) + \"}$\"\n",
    "        else:\n",
    "            S = \"$\\emptyset$\"\n",
    "        tab.append(S + \" & \" + f\"{t[1]:10.5g}\" + \" & \" + f\"{t[2]:10.5g}\" + \"\\\\\\\\\")\n",
    "    return pre + \"\\n\".join(tab) + post"
   ]
  },
  {
   "cell_type": "code",
   "execution_count": 6,
   "metadata": {},
   "outputs": [
    {
     "name": "stdout",
     "output_type": "stream",
     "text": [
      "\\begin{tabular}{@{}lcc@{}}\n",
      "\\toprule\n",
      "\\multicolumn{1}{c}{Set of Selected Features} &\n",
      "$\\Enorm{\\qpi(\\feat)-\\hqpi(\\feat_S)}{2}{\\mu}$ &\n",
      "Bound   \\\\ \\midrule\n",
      "$\\set{s_0, s_1, s_2, s_3, s_4, s_5, s_6, s_7}$ &          0 &          0\\\\\n",
      "$\\set{s_0, s_1, s_2, s_4, s_5, s_6, s_7}$ &  2.838e-05 &      17.96\\\\\n",
      "$\\set{s_0, s_1, s_2, s_4, s_5, s_6}$ & 4.2372e-05 &     79.353\\\\\n",
      "$\\set{s_0, s_1, s_4, s_5, s_6}$ & 2.9297e-05 &     167.33\\\\\n",
      "$\\set{s_0, s_1, s_4, s_5}$ & 5.5612e-05 &     213.24\\\\\n",
      "$\\set{s_0, s_1, s_4}$ &     19.964 &     517.61\\\\\n",
      "$\\set{s_0, s_4}$ &     158.69 &     624.28\\\\\n",
      "$\\set{s_0}$ &       4131 &     737.33\\\\\n",
      "$\\emptyset$ &     6879.4 &     800.14\\\\\\bottomrule\n",
      "\\end{tabular}\n"
     ]
    }
   ],
   "source": [
    "print(print_table(hist))"
   ]
  },
  {
   "cell_type": "code",
   "execution_count": 7,
   "metadata": {},
   "outputs": [],
   "source": [
    "def plot_table(hist):\n",
    "    fig = plt.figure(figsize=(9,5))\n",
    "    ax = plt.subplot(111)\n",
    "    y = np.array(list(map(lambda t: t[1], hist)))\n",
    "    x = np.arange(len(y))\n",
    "    ax.step(x, y, where='mid', label=\"True Estimation\", marker=\"x\")\n",
    "    y = np.array(list(map(lambda t: t[2], hist)))\n",
    "    ax.step(x, y, where='mid', label=\"Bound\", marker=\"o\")\n",
    "    ax.legend()\n",
    "    plt.xlabel(\"Number of Features Removed\")\n",
    "    plt.ylabel(\"Value error\")\n",
    "    plt.title(\"Bound Verification\")\n",
    "    plt.show()\n",
    "    return fig"
   ]
  },
  {
   "cell_type": "code",
   "execution_count": 8,
   "metadata": {},
   "outputs": [
    {
     "data": {
      "image/png": "[encoded data removed]",
      "text/plain": [
       "<Figure size 648x360 with 1 Axes>"
      ]
     },
     "metadata": {
      "needs_background": "light"
     },
     "output_type": "display_data"
    }
   ],
   "source": [
    "fig = plot_table(hist)"
   ]
  },
  {
   "cell_type": "code",
   "execution_count": 9,
   "metadata": {},
   "outputs": [],
   "source": [
    "fig.savefig(\"images/bound-verification.png\")"
   ]
  }
 ],
 "metadata": {
  "kernelspec": {
   "display_name": "venv",
   "language": "python",
   "name": "venv"
  },
  "language_info": {
   "codemirror_mode": {
    "name": "ipython",
    "version": 3
   },
   "file_extension": ".py",
   "mimetype": "text/x-python",
   "name": "python",
   "nbconvert_exporter": "python",
   "pygments_lexer": "ipython3",
   "version": "3.7.4"
  }
 },
 "nbformat": 4,
 "nbformat_minor": 4
}
