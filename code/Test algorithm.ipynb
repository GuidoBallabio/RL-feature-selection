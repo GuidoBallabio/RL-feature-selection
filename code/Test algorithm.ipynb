{
 "cells": [
  {
   "cell_type": "markdown",
   "metadata": {},
   "source": [
    "# Test of bound and algorithm"
   ]
  },
  {
   "cell_type": "code",
   "execution_count": 1,
   "metadata": {},
   "outputs": [],
   "source": [
    "import numpy as np\n",
    "import gym"
   ]
  },
  {
   "cell_type": "code",
   "execution_count": 2,
   "metadata": {},
   "outputs": [],
   "source": [
    "%load_ext autoreload\n",
    "%autoreload 2"
   ]
  },
  {
   "cell_type": "code",
   "execution_count": 2,
   "metadata": {},
   "outputs": [
    {
     "name": "stderr",
     "output_type": "stream",
     "text": [
      "/home/daibak/.virtualenvs/feature_sel/lib/python3.7/site-packages/tqdm/autonotebook/__init__.py:14: TqdmExperimentalWarning: Using `tqdm.autonotebook.tqdm` in notebook mode. Use `tqdm.tqdm` instead to force console mode (e.g. in jupyter console)\n",
      "  \" (e.g. in jupyter console)\", TqdmExperimentalWarning)\n"
     ]
    }
   ],
   "source": [
    "from src.algorithm.backward_feature_selection import BackwardFeatureSelector\n",
    "from src.algorithm.feature_selection import Bound\n",
    "from src.algorithm.info_theory.entropy import LeveOneOutEntropyEstimator, NNEntropyEstimator\n",
    "from src.wenvs import WrapperEnv\n",
    "from src.algorithm.utils import episodes_with_len"
   ]
  },
  {
   "cell_type": "code",
   "execution_count": 3,
   "metadata": {},
   "outputs": [],
   "source": [
    "est = NNEntropyEstimator()"
   ]
  },
  {
   "cell_type": "code",
   "execution_count": 5,
   "metadata": {},
   "outputs": [],
   "source": [
    "env = gym.make('CartPole-v1')\n",
    "env = WrapperEnv(env, continuous_state=True)\n",
    "wenv = WrapperEnv(env, n_fake_features=1, n_fake_actions=1, continuous_state=True)\n",
    "wenv.seed(0)\n",
    "\n",
    "k = 10\n",
    "num_ep = 1000\n",
    "trajectories = episodes_with_len(wenv, num_ep, k)"
   ]
  },
  {
   "cell_type": "code",
   "execution_count": 6,
   "metadata": {},
   "outputs": [
    {
     "data": {
      "application/vnd.jupyter.widget-view+json": {
       "model_id": "930a201f15ff4a4eb87040fba880e71b",
       "version_major": 2,
       "version_minor": 0
      },
      "text/plain": [
       "HBox(children=(IntProgress(value=0), HTML(value='')))"
      ]
     },
     "metadata": {},
     "output_type": "display_data"
    },
    {
     "data": {
      "application/vnd.jupyter.widget-view+json": {
       "model_id": "",
       "version_major": 2,
       "version_minor": 0
      },
      "text/plain": [
       "HBox(children=(IntProgress(value=0, max=7), HTML(value='')))"
      ]
     },
     "metadata": {},
     "output_type": "display_data"
    },
    {
     "data": {
      "application/vnd.jupyter.widget-view+json": {
       "model_id": "",
       "version_major": 2,
       "version_minor": 0
      },
      "text/plain": [
       "HBox(children=(IntProgress(value=0, max=6), HTML(value='')))"
      ]
     },
     "metadata": {},
     "output_type": "display_data"
    },
    {
     "data": {
      "application/vnd.jupyter.widget-view+json": {
       "model_id": "",
       "version_major": 2,
       "version_minor": 0
      },
      "text/plain": [
       "HBox(children=(IntProgress(value=0, max=5), HTML(value='')))"
      ]
     },
     "metadata": {},
     "output_type": "display_data"
    },
    {
     "data": {
      "application/vnd.jupyter.widget-view+json": {
       "model_id": "",
       "version_major": 2,
       "version_minor": 0
      },
      "text/plain": [
       "HBox(children=(IntProgress(value=0, max=4), HTML(value='')))"
      ]
     },
     "metadata": {},
     "output_type": "display_data"
    },
    {
     "name": "stdout",
     "output_type": "stream",
     "text": [
      "\n"
     ]
    },
    {
     "data": {
      "text/plain": [
       "({1, 3, 4, 6}, 0.9100094568123525)"
      ]
     },
     "execution_count": 6,
     "metadata": {},
     "output_type": "execute_result"
    }
   ],
   "source": [
    "fs = BackwardFeatureSelector(est, trajectories)\n",
    "fs.selectOnError(k, 0.9, 1)"
   ]
  },
  {
   "cell_type": "code",
   "execution_count": 8,
   "metadata": {},
   "outputs": [
    {
     "data": {
      "text/plain": [
       "0.9100094568123525"
      ]
     },
     "execution_count": 8,
     "metadata": {},
     "output_type": "execute_result"
    }
   ],
   "source": [
    "fs.computeError()"
   ]
  },
  {
   "cell_type": "markdown",
   "metadata": {},
   "source": [
    "## LQG n-dim"
   ]
  },
  {
   "cell_type": "code",
   "execution_count": 4,
   "metadata": {},
   "outputs": [],
   "source": [
    "from src.envs import lqgNdim"
   ]
  },
  {
   "cell_type": "code",
   "execution_count": 14,
   "metadata": {},
   "outputs": [],
   "source": [
    "env = lqgNdim.LQG_nD(0.99, n_dim=2)\n",
    "wenv = WrapperEnv(env, continuous_state=True, continuous_actions=True)"
   ]
  },
  {
   "cell_type": "code",
   "execution_count": 15,
   "metadata": {},
   "outputs": [],
   "source": [
    "hist = wenv.run_episode(render=True)\n",
    "wenv.close()"
   ]
  },
  {
   "cell_type": "code",
   "execution_count": 16,
   "metadata": {},
   "outputs": [],
   "source": [
    "K = env.computeOptimalK()\n",
    "pi_opt = lambda x: np.clip(K@x, -env.max_action, env.max_action)"
   ]
  },
  {
   "cell_type": "code",
   "execution_count": 17,
   "metadata": {},
   "outputs": [
    {
     "data": {
      "text/plain": [
       "-57.860930209418036"
      ]
     },
     "execution_count": 17,
     "metadata": {},
     "output_type": "execute_result"
    }
   ],
   "source": [
    "hist = wenv.run_episode(policy=pi_opt)\n",
    "hist[2].sum()"
   ]
  },
  {
   "cell_type": "markdown",
   "metadata": {},
   "source": [
    "## Infinite CartPole"
   ]
  },
  {
   "cell_type": "code",
   "execution_count": 18,
   "metadata": {},
   "outputs": [],
   "source": [
    "from src.envs import cartpole"
   ]
  },
  {
   "cell_type": "code",
   "execution_count": 19,
   "metadata": {},
   "outputs": [],
   "source": [
    "env = cartpole.CartPoleInfinite()\n",
    "wenv = WrapperEnv(env, continuous_state=True)"
   ]
  },
  {
   "cell_type": "code",
   "execution_count": 20,
   "metadata": {},
   "outputs": [],
   "source": [
    "wenv.run_episode(render=True)\n",
    "wenv.close()"
   ]
  },
  {
   "cell_type": "markdown",
   "metadata": {},
   "source": [
    "## Real test"
   ]
  },
  {
   "cell_type": "code",
   "execution_count": 5,
   "metadata": {},
   "outputs": [],
   "source": [
    "env = lqgNdim.LQG_nD(0.99, n_dim=2)\n",
    "wenv = WrapperEnv(env, continuous_state=True, continuous_actions=True)"
   ]
  },
  {
   "cell_type": "code",
   "execution_count": 6,
   "metadata": {},
   "outputs": [],
   "source": [
    "np.random.seed(0)\n",
    "wenv.seed(0)\n",
    "\n",
    "k = 20\n",
    "num_ep = 1000\n",
    "trajectories = episodes_with_len(wenv, num_ep, k)"
   ]
  },
  {
   "cell_type": "code",
   "execution_count": 7,
   "metadata": {},
   "outputs": [],
   "source": [
    "fs = BackwardFeatureSelector(est, trajectories)"
   ]
  },
  {
   "cell_type": "code",
   "execution_count": 8,
   "metadata": {},
   "outputs": [
    {
     "data": {
      "application/vnd.jupyter.widget-view+json": {
       "model_id": "2531e659ef534f699afa90cc0fb7f51d",
       "version_major": 2,
       "version_minor": 0
      },
      "text/plain": [
       "HBox(children=(IntProgress(value=0, max=4), HTML(value='')))"
      ]
     },
     "metadata": {},
     "output_type": "display_data"
    },
    {
     "data": {
      "application/vnd.jupyter.widget-view+json": {
       "model_id": "",
       "version_major": 2,
       "version_minor": 0
      },
      "text/plain": [
       "HBox(children=(IntProgress(value=0, max=4), HTML(value='')))"
      ]
     },
     "metadata": {},
     "output_type": "display_data"
    },
    {
     "name": "stdout",
     "output_type": "stream",
     "text": [
      "{0, 1, 2} 275.1990224396083\n"
     ]
    },
    {
     "data": {
      "application/vnd.jupyter.widget-view+json": {
       "model_id": "",
       "version_major": 2,
       "version_minor": 0
      },
      "text/plain": [
       "HBox(children=(IntProgress(value=0, max=3), HTML(value='')))"
      ]
     },
     "metadata": {},
     "output_type": "display_data"
    },
    {
     "name": "stdout",
     "output_type": "stream",
     "text": [
      "{0, 2} 496.1075058088754\n"
     ]
    },
    {
     "data": {
      "application/vnd.jupyter.widget-view+json": {
       "model_id": "",
       "version_major": 2,
       "version_minor": 0
      },
      "text/plain": [
       "HBox(children=(IntProgress(value=0, max=2), HTML(value='')))"
      ]
     },
     "metadata": {},
     "output_type": "display_data"
    },
    {
     "name": "stdout",
     "output_type": "stream",
     "text": [
      "{0} 935.4788314555569\n"
     ]
    },
    {
     "data": {
      "application/vnd.jupyter.widget-view+json": {
       "model_id": "",
       "version_major": 2,
       "version_minor": 0
      },
      "text/plain": [
       "HBox(children=(IntProgress(value=0, max=1), HTML(value='')))"
      ]
     },
     "metadata": {},
     "output_type": "display_data"
    },
    {
     "name": "stdout",
     "output_type": "stream",
     "text": [
      "set() 943.514515537091\n",
      "\n"
     ]
    }
   ],
   "source": [
    "for S, err in fs.try_remove_all(k, 0.9, bound=Bound.cmi):\n",
    "    print(S, err)"
   ]
  },
  {
   "cell_type": "code",
   "execution_count": 9,
   "metadata": {},
   "outputs": [
    {
     "data": {
      "application/vnd.jupyter.widget-view+json": {
       "model_id": "fc13a0ed7b7143bdb7cd907b2086c412",
       "version_major": 2,
       "version_minor": 0
      },
      "text/plain": [
       "HBox(children=(IntProgress(value=0, max=4), HTML(value='')))"
      ]
     },
     "metadata": {},
     "output_type": "display_data"
    },
    {
     "data": {
      "application/vnd.jupyter.widget-view+json": {
       "model_id": "",
       "version_major": 2,
       "version_minor": 0
      },
      "text/plain": [
       "HBox(children=(IntProgress(value=0, max=4), HTML(value='')))"
      ]
     },
     "metadata": {},
     "output_type": "display_data"
    },
    {
     "name": "stdout",
     "output_type": "stream",
     "text": [
      "{0, 1, 2} 275.1990224396083\n"
     ]
    },
    {
     "data": {
      "application/vnd.jupyter.widget-view+json": {
       "model_id": "",
       "version_major": 2,
       "version_minor": 0
      },
      "text/plain": [
       "HBox(children=(IntProgress(value=0, max=3), HTML(value='')))"
      ]
     },
     "metadata": {},
     "output_type": "display_data"
    },
    {
     "name": "stdout",
     "output_type": "stream",
     "text": [
      "{0, 2} 496.1075058088752\n"
     ]
    },
    {
     "data": {
      "application/vnd.jupyter.widget-view+json": {
       "model_id": "",
       "version_major": 2,
       "version_minor": 0
      },
      "text/plain": [
       "HBox(children=(IntProgress(value=0, max=2), HTML(value='')))"
      ]
     },
     "metadata": {},
     "output_type": "display_data"
    },
    {
     "name": "stdout",
     "output_type": "stream",
     "text": [
      "{0} 935.4788314555569\n"
     ]
    },
    {
     "data": {
      "application/vnd.jupyter.widget-view+json": {
       "model_id": "",
       "version_major": 2,
       "version_minor": 0
      },
      "text/plain": [
       "HBox(children=(IntProgress(value=0, max=1), HTML(value='')))"
      ]
     },
     "metadata": {},
     "output_type": "display_data"
    },
    {
     "name": "stdout",
     "output_type": "stream",
     "text": [
      "set() 943.5145155370909\n",
      "\n"
     ]
    }
   ],
   "source": [
    "for S, err in fs.try_remove_all(k, 0.9, bound=Bound.entropy):\n",
    "    print(S, err)"
   ]
  },
  {
   "cell_type": "code",
   "execution_count": 10,
   "metadata": {},
   "outputs": [
    {
     "data": {
      "application/vnd.jupyter.widget-view+json": {
       "model_id": "7cd3f43ac3d248c08935eabe0a80afc3",
       "version_major": 2,
       "version_minor": 0
      },
      "text/plain": [
       "HBox(children=(IntProgress(value=0, max=4), HTML(value='')))"
      ]
     },
     "metadata": {},
     "output_type": "display_data"
    },
    {
     "data": {
      "application/vnd.jupyter.widget-view+json": {
       "model_id": "",
       "version_major": 2,
       "version_minor": 0
      },
      "text/plain": [
       "HBox(children=(IntProgress(value=0, max=4), HTML(value='')))"
      ]
     },
     "metadata": {},
     "output_type": "display_data"
    },
    {
     "name": "stdout",
     "output_type": "stream",
     "text": [
      "{0, 1, 2} 1241.101718300192\n"
     ]
    },
    {
     "data": {
      "application/vnd.jupyter.widget-view+json": {
       "model_id": "",
       "version_major": 2,
       "version_minor": 0
      },
      "text/plain": [
       "HBox(children=(IntProgress(value=0, max=3), HTML(value='')))"
      ]
     },
     "metadata": {},
     "output_type": "display_data"
    },
    {
     "name": "stdout",
     "output_type": "stream",
     "text": [
      "{0, 2} 2234.4694059057388\n"
     ]
    },
    {
     "data": {
      "application/vnd.jupyter.widget-view+json": {
       "model_id": "",
       "version_major": 2,
       "version_minor": 0
      },
      "text/plain": [
       "HBox(children=(IntProgress(value=0, max=2), HTML(value='')))"
      ]
     },
     "metadata": {},
     "output_type": "display_data"
    },
    {
     "name": "stdout",
     "output_type": "stream",
     "text": [
      "{0} 4168.203698675913\n"
     ]
    },
    {
     "data": {
      "application/vnd.jupyter.widget-view+json": {
       "model_id": "",
       "version_major": 2,
       "version_minor": 0
      },
      "text/plain": [
       "HBox(children=(IntProgress(value=0, max=1), HTML(value='')))"
      ]
     },
     "metadata": {},
     "output_type": "display_data"
    },
    {
     "name": "stdout",
     "output_type": "stream",
     "text": [
      "set() 4317.780379381366\n",
      "\n"
     ]
    }
   ],
   "source": [
    "for S, err in fs.try_remove_all(k, 0.9, bound=Bound.cmi_sqrt):\n",
    "    print(S, err)"
   ]
  },
  {
   "cell_type": "code",
   "execution_count": 11,
   "metadata": {},
   "outputs": [],
   "source": [
    "Q = np.eye(4) * 0.9\n",
    "Q[2:,2:] = 0\n",
    "R = Q.copy()\n",
    "env = lqgNdim.LQG_nD(0.99, n_dim=4, Q=Q, R=R)\n",
    "wenv = WrapperEnv(env, continuous_state=True, continuous_actions=True)"
   ]
  },
  {
   "cell_type": "code",
   "execution_count": 12,
   "metadata": {},
   "outputs": [],
   "source": [
    "np.random.seed(0)\n",
    "wenv.seed(0)\n",
    "\n",
    "k = 20\n",
    "num_ep = 1000\n",
    "trajectories = episodes_with_len(wenv, num_ep, k)"
   ]
  },
  {
   "cell_type": "code",
   "execution_count": 13,
   "metadata": {},
   "outputs": [],
   "source": [
    "fs = BackwardFeatureSelector(est, trajectories)"
   ]
  },
  {
   "cell_type": "code",
   "execution_count": 14,
   "metadata": {},
   "outputs": [
    {
     "data": {
      "application/vnd.jupyter.widget-view+json": {
       "model_id": "7d549c157e51468991ff8fb8e1031891",
       "version_major": 2,
       "version_minor": 0
      },
      "text/plain": [
       "HBox(children=(IntProgress(value=0, max=7), HTML(value='')))"
      ]
     },
     "metadata": {},
     "output_type": "display_data"
    },
    {
     "data": {
      "application/vnd.jupyter.widget-view+json": {
       "model_id": "",
       "version_major": 2,
       "version_minor": 0
      },
      "text/plain": [
       "HBox(children=(IntProgress(value=0, max=8), HTML(value='')))"
      ]
     },
     "metadata": {},
     "output_type": "display_data"
    },
    {
     "data": {
      "application/vnd.jupyter.widget-view+json": {
       "model_id": "",
       "version_major": 2,
       "version_minor": 0
      },
      "text/plain": [
       "HBox(children=(IntProgress(value=0, max=7), HTML(value='')))"
      ]
     },
     "metadata": {},
     "output_type": "display_data"
    },
    {
     "data": {
      "application/vnd.jupyter.widget-view+json": {
       "model_id": "",
       "version_major": 2,
       "version_minor": 0
      },
      "text/plain": [
       "HBox(children=(IntProgress(value=0, max=6), HTML(value='')))"
      ]
     },
     "metadata": {},
     "output_type": "display_data"
    },
    {
     "data": {
      "application/vnd.jupyter.widget-view+json": {
       "model_id": "",
       "version_major": 2,
       "version_minor": 0
      },
      "text/plain": [
       "HBox(children=(IntProgress(value=0, max=5), HTML(value='')))"
      ]
     },
     "metadata": {},
     "output_type": "display_data"
    },
    {
     "data": {
      "application/vnd.jupyter.widget-view+json": {
       "model_id": "",
       "version_major": 2,
       "version_minor": 0
      },
      "text/plain": [
       "HBox(children=(IntProgress(value=0, max=4), HTML(value='')))"
      ]
     },
     "metadata": {},
     "output_type": "display_data"
    },
    {
     "data": {
      "application/vnd.jupyter.widget-view+json": {
       "model_id": "",
       "version_major": 2,
       "version_minor": 0
      },
      "text/plain": [
       "HBox(children=(IntProgress(value=0, max=3), HTML(value='')))"
      ]
     },
     "metadata": {},
     "output_type": "display_data"
    },
    {
     "data": {
      "application/vnd.jupyter.widget-view+json": {
       "model_id": "",
       "version_major": 2,
       "version_minor": 0
      },
      "text/plain": [
       "HBox(children=(IntProgress(value=0, max=2), HTML(value='')))"
      ]
     },
     "metadata": {},
     "output_type": "display_data"
    },
    {
     "name": "stdout",
     "output_type": "stream",
     "text": [
      "\n"
     ]
    },
    {
     "data": {
      "text/plain": [
       "({0}, 985.9146148635155)"
      ]
     },
     "execution_count": 14,
     "metadata": {},
     "output_type": "execute_result"
    }
   ],
   "source": [
    "fs.selectNfeatures(1, k, 0.9)"
   ]
  },
  {
   "cell_type": "code",
   "execution_count": 15,
   "metadata": {},
   "outputs": [
    {
     "data": {
      "application/vnd.jupyter.widget-view+json": {
       "model_id": "43443901a97c49eebc92c098481df766",
       "version_major": 2,
       "version_minor": 0
      },
      "text/plain": [
       "HBox(children=(IntProgress(value=0, max=8), HTML(value='')))"
      ]
     },
     "metadata": {},
     "output_type": "display_data"
    },
    {
     "data": {
      "application/vnd.jupyter.widget-view+json": {
       "model_id": "",
       "version_major": 2,
       "version_minor": 0
      },
      "text/plain": [
       "HBox(children=(IntProgress(value=0, max=8), HTML(value='')))"
      ]
     },
     "metadata": {},
     "output_type": "display_data"
    },
    {
     "name": "stdout",
     "output_type": "stream",
     "text": [
      "{0, 1, 2, 4, 5, 6, 7} 108.00216084944557\n"
     ]
    },
    {
     "data": {
      "application/vnd.jupyter.widget-view+json": {
       "model_id": "",
       "version_major": 2,
       "version_minor": 0
      },
      "text/plain": [
       "HBox(children=(IntProgress(value=0, max=7), HTML(value='')))"
      ]
     },
     "metadata": {},
     "output_type": "display_data"
    },
    {
     "name": "stdout",
     "output_type": "stream",
     "text": [
      "{0, 1, 2, 4, 5, 7} 167.35674911495767\n"
     ]
    },
    {
     "data": {
      "application/vnd.jupyter.widget-view+json": {
       "model_id": "",
       "version_major": 2,
       "version_minor": 0
      },
      "text/plain": [
       "HBox(children=(IntProgress(value=0, max=6), HTML(value='')))"
      ]
     },
     "metadata": {},
     "output_type": "display_data"
    },
    {
     "name": "stdout",
     "output_type": "stream",
     "text": [
      "{0, 1, 2, 4, 5} 228.54114149996968\n"
     ]
    },
    {
     "data": {
      "application/vnd.jupyter.widget-view+json": {
       "model_id": "",
       "version_major": 2,
       "version_minor": 0
      },
      "text/plain": [
       "HBox(children=(IntProgress(value=0, max=5), HTML(value='')))"
      ]
     },
     "metadata": {},
     "output_type": "display_data"
    },
    {
     "name": "stdout",
     "output_type": "stream",
     "text": [
      "{0, 1, 4, 5} 300.6002932042114\n"
     ]
    },
    {
     "data": {
      "application/vnd.jupyter.widget-view+json": {
       "model_id": "",
       "version_major": 2,
       "version_minor": 0
      },
      "text/plain": [
       "HBox(children=(IntProgress(value=0, max=4), HTML(value='')))"
      ]
     },
     "metadata": {},
     "output_type": "display_data"
    },
    {
     "name": "stdout",
     "output_type": "stream",
     "text": [
      "{0, 1, 4} 419.9287663231109\n"
     ]
    },
    {
     "data": {
      "application/vnd.jupyter.widget-view+json": {
       "model_id": "",
       "version_major": 2,
       "version_minor": 0
      },
      "text/plain": [
       "HBox(children=(IntProgress(value=0, max=3), HTML(value='')))"
      ]
     },
     "metadata": {},
     "output_type": "display_data"
    },
    {
     "name": "stdout",
     "output_type": "stream",
     "text": [
      "{0, 1} 593.4443694638235\n"
     ]
    },
    {
     "data": {
      "application/vnd.jupyter.widget-view+json": {
       "model_id": "",
       "version_major": 2,
       "version_minor": 0
      },
      "text/plain": [
       "HBox(children=(IntProgress(value=0, max=2), HTML(value='')))"
      ]
     },
     "metadata": {},
     "output_type": "display_data"
    },
    {
     "name": "stdout",
     "output_type": "stream",
     "text": [
      "{0} 985.9146148635155\n"
     ]
    },
    {
     "data": {
      "application/vnd.jupyter.widget-view+json": {
       "model_id": "",
       "version_major": 2,
       "version_minor": 0
      },
      "text/plain": [
       "HBox(children=(IntProgress(value=0, max=1), HTML(value='')))"
      ]
     },
     "metadata": {},
     "output_type": "display_data"
    },
    {
     "name": "stdout",
     "output_type": "stream",
     "text": [
      "set() 992.1915099307594\n",
      "\n"
     ]
    }
   ],
   "source": [
    "for S, err in fs.try_remove_all(k, 0.9):\n",
    "    print(S, err)"
   ]
  },
  {
   "cell_type": "code",
   "execution_count": 18,
   "metadata": {},
   "outputs": [
    {
     "data": {
      "application/vnd.jupyter.widget-view+json": {
       "model_id": "1801b26a6dc140d194d8953b5a035fb6",
       "version_major": 2,
       "version_minor": 0
      },
      "text/plain": [
       "HBox(children=(IntProgress(value=0, max=8), HTML(value='')))"
      ]
     },
     "metadata": {},
     "output_type": "display_data"
    },
    {
     "data": {
      "application/vnd.jupyter.widget-view+json": {
       "model_id": "",
       "version_major": 2,
       "version_minor": 0
      },
      "text/plain": [
       "HBox(children=(IntProgress(value=0, max=8), HTML(value='')))"
      ]
     },
     "metadata": {},
     "output_type": "display_data"
    },
    {
     "name": "stdout",
     "output_type": "stream",
     "text": [
      "{0, 1, 2, 3, 4, 5, 7} 45.24535799669906\n"
     ]
    },
    {
     "data": {
      "application/vnd.jupyter.widget-view+json": {
       "model_id": "",
       "version_major": 2,
       "version_minor": 0
      },
      "text/plain": [
       "HBox(children=(IntProgress(value=0, max=7), HTML(value='')))"
      ]
     },
     "metadata": {},
     "output_type": "display_data"
    },
    {
     "name": "stdout",
     "output_type": "stream",
     "text": [
      "{0, 1, 2, 4, 5, 7} 71.18228218225686\n"
     ]
    },
    {
     "data": {
      "application/vnd.jupyter.widget-view+json": {
       "model_id": "",
       "version_major": 2,
       "version_minor": 0
      },
      "text/plain": [
       "HBox(children=(IntProgress(value=0, max=6), HTML(value='')))"
      ]
     },
     "metadata": {},
     "output_type": "display_data"
    },
    {
     "name": "stdout",
     "output_type": "stream",
     "text": [
      "{0, 1, 4, 5, 7} 98.9496011756822\n"
     ]
    },
    {
     "data": {
      "application/vnd.jupyter.widget-view+json": {
       "model_id": "",
       "version_major": 2,
       "version_minor": 0
      },
      "text/plain": [
       "HBox(children=(IntProgress(value=0, max=5), HTML(value='')))"
      ]
     },
     "metadata": {},
     "output_type": "display_data"
    },
    {
     "name": "stdout",
     "output_type": "stream",
     "text": [
      "{0, 1, 4, 5} 130.4360593389985\n"
     ]
    },
    {
     "data": {
      "application/vnd.jupyter.widget-view+json": {
       "model_id": "",
       "version_major": 2,
       "version_minor": 0
      },
      "text/plain": [
       "HBox(children=(IntProgress(value=0, max=4), HTML(value='')))"
      ]
     },
     "metadata": {},
     "output_type": "display_data"
    },
    {
     "name": "stdout",
     "output_type": "stream",
     "text": [
      "{0, 1, 4} 194.17999425708885\n"
     ]
    },
    {
     "data": {
      "application/vnd.jupyter.widget-view+json": {
       "model_id": "",
       "version_major": 2,
       "version_minor": 0
      },
      "text/plain": [
       "HBox(children=(IntProgress(value=0, max=3), HTML(value='')))"
      ]
     },
     "metadata": {},
     "output_type": "display_data"
    },
    {
     "name": "stdout",
     "output_type": "stream",
     "text": [
      "{0, 1} 285.24828747796295\n"
     ]
    },
    {
     "data": {
      "application/vnd.jupyter.widget-view+json": {
       "model_id": "",
       "version_major": 2,
       "version_minor": 0
      },
      "text/plain": [
       "HBox(children=(IntProgress(value=0, max=2), HTML(value='')))"
      ]
     },
     "metadata": {},
     "output_type": "display_data"
    },
    {
     "name": "stdout",
     "output_type": "stream",
     "text": [
      "{0} 490.6871943467559\n"
     ]
    },
    {
     "data": {
      "application/vnd.jupyter.widget-view+json": {
       "model_id": "",
       "version_major": 2,
       "version_minor": 0
      },
      "text/plain": [
       "HBox(children=(IntProgress(value=0, max=1), HTML(value='')))"
      ]
     },
     "metadata": {},
     "output_type": "display_data"
    },
    {
     "name": "stdout",
     "output_type": "stream",
     "text": [
      "set() 491.31481546994667\n",
      "\n"
     ]
    }
   ],
   "source": [
    "for S, err in fs.try_remove_all(k, 0.5):\n",
    "    print(S, err)"
   ]
  },
  {
   "cell_type": "code",
   "execution_count": 21,
   "metadata": {},
   "outputs": [
    {
     "data": {
      "application/vnd.jupyter.widget-view+json": {
       "model_id": "28c75e8eb3b642d4b926e90315fcb4da",
       "version_major": 2,
       "version_minor": 0
      },
      "text/plain": [
       "HBox(children=(IntProgress(value=0, max=8), HTML(value='')))"
      ]
     },
     "metadata": {},
     "output_type": "display_data"
    },
    {
     "data": {
      "application/vnd.jupyter.widget-view+json": {
       "model_id": "",
       "version_major": 2,
       "version_minor": 0
      },
      "text/plain": [
       "HBox(children=(IntProgress(value=0, max=8), HTML(value='')))"
      ]
     },
     "metadata": {},
     "output_type": "display_data"
    },
    {
     "name": "stdout",
     "output_type": "stream",
     "text": [
      "{0, 1, 2, 3, 4, 5, 7} 545.0460961674122\n"
     ]
    },
    {
     "data": {
      "application/vnd.jupyter.widget-view+json": {
       "model_id": "",
       "version_major": 2,
       "version_minor": 0
      },
      "text/plain": [
       "HBox(children=(IntProgress(value=0, max=7), HTML(value='')))"
      ]
     },
     "metadata": {},
     "output_type": "display_data"
    },
    {
     "name": "stdout",
     "output_type": "stream",
     "text": [
      "{0, 1, 2, 3, 4, 7} 825.5590212798049\n"
     ]
    },
    {
     "data": {
      "application/vnd.jupyter.widget-view+json": {
       "model_id": "",
       "version_major": 2,
       "version_minor": 0
      },
      "text/plain": [
       "HBox(children=(IntProgress(value=0, max=6), HTML(value='')))"
      ]
     },
     "metadata": {},
     "output_type": "display_data"
    },
    {
     "name": "stdout",
     "output_type": "stream",
     "text": [
      "{0, 1, 2, 3, 4} 1098.460291161602\n"
     ]
    },
    {
     "data": {
      "application/vnd.jupyter.widget-view+json": {
       "model_id": "",
       "version_major": 2,
       "version_minor": 0
      },
      "text/plain": [
       "HBox(children=(IntProgress(value=0, max=5), HTML(value='')))"
      ]
     },
     "metadata": {},
     "output_type": "display_data"
    },
    {
     "name": "stdout",
     "output_type": "stream",
     "text": [
      "{0, 1, 2, 3} 1388.9583969799105\n"
     ]
    },
    {
     "data": {
      "application/vnd.jupyter.widget-view+json": {
       "model_id": "",
       "version_major": 2,
       "version_minor": 0
      },
      "text/plain": [
       "HBox(children=(IntProgress(value=0, max=4), HTML(value='')))"
      ]
     },
     "metadata": {},
     "output_type": "display_data"
    },
    {
     "name": "stdout",
     "output_type": "stream",
     "text": [
      "{0, 1, 3} 1779.6226254877067\n"
     ]
    },
    {
     "data": {
      "application/vnd.jupyter.widget-view+json": {
       "model_id": "",
       "version_major": 2,
       "version_minor": 0
      },
      "text/plain": [
       "HBox(children=(IntProgress(value=0, max=3), HTML(value='')))"
      ]
     },
     "metadata": {},
     "output_type": "display_data"
    },
    {
     "name": "stdout",
     "output_type": "stream",
     "text": [
      "{0, 3} 2374.356759976569\n"
     ]
    },
    {
     "data": {
      "application/vnd.jupyter.widget-view+json": {
       "model_id": "",
       "version_major": 2,
       "version_minor": 0
      },
      "text/plain": [
       "HBox(children=(IntProgress(value=0, max=2), HTML(value='')))"
      ]
     },
     "metadata": {},
     "output_type": "display_data"
    },
    {
     "name": "stdout",
     "output_type": "stream",
     "text": [
      "{3} 3619.5974031744663\n"
     ]
    },
    {
     "data": {
      "application/vnd.jupyter.widget-view+json": {
       "model_id": "",
       "version_major": 2,
       "version_minor": 0
      },
      "text/plain": [
       "HBox(children=(IntProgress(value=0, max=1), HTML(value='')))"
      ]
     },
     "metadata": {},
     "output_type": "display_data"
    },
    {
     "name": "stdout",
     "output_type": "stream",
     "text": [
      "set() 4171.510703275914\n",
      "\n"
     ]
    }
   ],
   "source": [
    "for S, err in fs.try_remove_all(k, 0.99):\n",
    "    print(S, err)"
   ]
  },
  {
   "cell_type": "code",
   "execution_count": 22,
   "metadata": {},
   "outputs": [
    {
     "data": {
      "application/vnd.jupyter.widget-view+json": {
       "model_id": "d7ca5c188b4b4bcca1586278cfce0bbc",
       "version_major": 2,
       "version_minor": 0
      },
      "text/plain": [
       "HBox(children=(IntProgress(value=0, max=8), HTML(value='')))"
      ]
     },
     "metadata": {},
     "output_type": "display_data"
    },
    {
     "data": {
      "application/vnd.jupyter.widget-view+json": {
       "model_id": "",
       "version_major": 2,
       "version_minor": 0
      },
      "text/plain": [
       "HBox(children=(IntProgress(value=0, max=8), HTML(value='')))"
      ]
     },
     "metadata": {},
     "output_type": "display_data"
    },
    {
     "name": "stdout",
     "output_type": "stream",
     "text": [
      "{0, 1, 2, 3, 4, 5, 7} 174.5338703513713\n"
     ]
    },
    {
     "data": {
      "application/vnd.jupyter.widget-view+json": {
       "model_id": "",
       "version_major": 2,
       "version_minor": 0
      },
      "text/plain": [
       "HBox(children=(IntProgress(value=0, max=7), HTML(value='')))"
      ]
     },
     "metadata": {},
     "output_type": "display_data"
    },
    {
     "name": "stdout",
     "output_type": "stream",
     "text": [
      "{0, 1, 3, 4, 5, 7} 268.7735621112553\n"
     ]
    },
    {
     "data": {
      "application/vnd.jupyter.widget-view+json": {
       "model_id": "",
       "version_major": 2,
       "version_minor": 0
      },
      "text/plain": [
       "HBox(children=(IntProgress(value=0, max=6), HTML(value='')))"
      ]
     },
     "metadata": {},
     "output_type": "display_data"
    },
    {
     "name": "stdout",
     "output_type": "stream",
     "text": [
      "{0, 1, 3, 4, 5} 362.65883506823303\n"
     ]
    },
    {
     "data": {
      "application/vnd.jupyter.widget-view+json": {
       "model_id": "",
       "version_major": 2,
       "version_minor": 0
      },
      "text/plain": [
       "HBox(children=(IntProgress(value=0, max=5), HTML(value='')))"
      ]
     },
     "metadata": {},
     "output_type": "display_data"
    },
    {
     "name": "stdout",
     "output_type": "stream",
     "text": [
      "{0, 1, 4, 5} 473.14190819180556\n"
     ]
    },
    {
     "data": {
      "application/vnd.jupyter.widget-view+json": {
       "model_id": "",
       "version_major": 2,
       "version_minor": 0
      },
      "text/plain": [
       "HBox(children=(IntProgress(value=0, max=4), HTML(value='')))"
      ]
     },
     "metadata": {},
     "output_type": "display_data"
    },
    {
     "name": "stdout",
     "output_type": "stream",
     "text": [
      "{0, 1, 4} 637.6746542816132\n"
     ]
    },
    {
     "data": {
      "application/vnd.jupyter.widget-view+json": {
       "model_id": "",
       "version_major": 2,
       "version_minor": 0
      },
      "text/plain": [
       "HBox(children=(IntProgress(value=0, max=3), HTML(value='')))"
      ]
     },
     "metadata": {},
     "output_type": "display_data"
    },
    {
     "name": "stdout",
     "output_type": "stream",
     "text": [
      "{0, 1} 880.0673789375687\n"
     ]
    },
    {
     "data": {
      "application/vnd.jupyter.widget-view+json": {
       "model_id": "",
       "version_major": 2,
       "version_minor": 0
      },
      "text/plain": [
       "HBox(children=(IntProgress(value=0, max=2), HTML(value='')))"
      ]
     },
     "metadata": {},
     "output_type": "display_data"
    },
    {
     "name": "stdout",
     "output_type": "stream",
     "text": [
      "{0} 1425.6404762549394\n"
     ]
    },
    {
     "data": {
      "application/vnd.jupyter.widget-view+json": {
       "model_id": "",
       "version_major": 2,
       "version_minor": 0
      },
      "text/plain": [
       "HBox(children=(IntProgress(value=0, max=1), HTML(value='')))"
      ]
     },
     "metadata": {},
     "output_type": "display_data"
    },
    {
     "name": "stdout",
     "output_type": "stream",
     "text": [
      "set() 1484.7182088144207\n",
      "\n"
     ]
    }
   ],
   "source": [
    "for S, err in fs.try_remove_all(k, 0.95):\n",
    "    print(S, err)"
   ]
  },
  {
   "cell_type": "markdown",
   "metadata": {},
   "source": [
    "### Subset enumeration"
   ]
  },
  {
   "cell_type": "code",
   "execution_count": 71,
   "metadata": {},
   "outputs": [],
   "source": [
    "from itertools import chain, combinations\n",
    "from tqdm import tqdm_notebook as tqdm\n",
    "s = fs.idSet\n",
    "powerset = set(chain.from_iterable(combinations(s, r) for r in range(len(s)+1)))"
   ]
  },
  {
   "cell_type": "code",
   "execution_count": 68,
   "metadata": {},
   "outputs": [],
   "source": [
    "def compute_subset_error(S, k, gamma, bound=Bound.cmi):\n",
    "    fun_t, fun_k = fs._funOfBound(bound)\n",
    "    w = fs._get_weights(k, gamma, bound)\n",
    "    score = np.zeros(k+1)\n",
    "    \n",
    "    S = frozenset(S)\n",
    "    no_S = fs.idSet.difference(S)\n",
    "    \n",
    "    for t in range(k):\n",
    "        score[t] = fun_t(no_S, S, t)\n",
    "    score[k] = fun_k(no_S, S)\n",
    "    \n",
    "    return fs.computeError(bound=bound, residual=w @ score)"
   ]
  },
  {
   "cell_type": "code",
   "execution_count": 72,
   "metadata": {},
   "outputs": [
    {
     "data": {
      "application/vnd.jupyter.widget-view+json": {
       "model_id": "b65534e64fb644fc9053c78abb277ce2",
       "version_major": 2,
       "version_minor": 0
      },
      "text/plain": [
       "HBox(children=(IntProgress(value=0, max=256), HTML(value='')))"
      ]
     },
     "metadata": {},
     "output_type": "display_data"
    },
    {
     "name": "stdout",
     "output_type": "stream",
     "text": [
      "\n"
     ]
    }
   ],
   "source": [
    "rank = [(s,compute_subset_error(s, k, 0.9)) for s in tqdm(powerset)]"
   ]
  },
  {
   "cell_type": "code",
   "execution_count": 78,
   "metadata": {},
   "outputs": [
    {
     "data": {
      "text/plain": [
       "[((), 992.1915099307596),\n",
       " ((0,), 985.9146148635153),\n",
       " ((2,), 987.5724091817738),\n",
       " ((3,), 989.04505046072),\n",
       " ((7,), 993.9485417887956),\n",
       " ((1,), 994.0373838851236),\n",
       " ((6,), 1007.7422011724366),\n",
       " ((5,), 1008.9713305048182),\n",
       " ((4,), 1014.2775229392186),\n",
       " ((0, 3), 591.393300570646),\n",
       " ((0, 1), 593.4443694638235),\n",
       " ((1, 2), 594.1638474200697),\n",
       " ((1, 3), 595.969590012388),\n",
       " ((2, 3), 597.0552717297661),\n",
       " ((1, 4), 597.4656849203376),\n",
       " ((3, 5), 598.3334570372426),\n",
       " ((0, 4), 599.3984488739156),\n",
       " ((0, 2), 599.5740180354807),\n",
       " ((3, 4), 600.3784244412752),\n",
       " ((0, 7), 600.4009206302219),\n",
       " ((2, 5), 602.274627256905),\n",
       " ((0, 6), 602.9615788358916),\n",
       " ((0, 5), 603.4226749249827),\n",
       " ((2, 7), 603.7287848627649),\n",
       " ((3, 6), 604.3716442943826),\n",
       " ((1, 5), 604.5542463182067),\n",
       " ((1, 6), 604.75872845718),\n",
       " ((5, 7), 607.2705831731931),\n",
       " ((2, 4), 608.2540276766148),\n",
       " ((1, 7), 608.5966335480879),\n",
       " ((4, 6), 610.5044991105497),\n",
       " ((6, 7), 612.7894767651916),\n",
       " ((3, 7), 613.2038586659663),\n",
       " ((2, 6), 614.0209086630333),\n",
       " ((5, 6), 614.0618133340643),\n",
       " ((4, 5), 615.9655539872654),\n",
       " ((4, 7), 616.4825759059435),\n",
       " ((0, 1, 3), 416.5549764780655),\n",
       " ((0, 1, 4), 419.9287663231108),\n",
       " ((0, 3, 4), 420.49447032693433),\n",
       " ((0, 3, 5), 421.3915445399195),\n",
       " ((0, 1, 2), 421.6314665308732),\n",
       " ((0, 2, 3), 422.93292661948715),\n",
       " ((1, 4, 5), 423.8097191890047),\n",
       " ((0, 1, 5), 424.6828521845431),\n",
       " ((0, 4, 5), 426.76038963623586),\n",
       " ((1, 2, 5), 427.2703069568026),\n",
       " ((0, 1, 6), 427.32974086342483),\n",
       " ((1, 3, 5), 427.3875024890962),\n",
       " ((0, 2, 5), 427.9673513782348),\n",
       " ((0, 1, 7), 428.30706708455654),\n",
       " ((1, 2, 7), 428.73556695546455),\n",
       " ((1, 2, 3), 429.2104397758872),\n",
       " ((0, 3, 7), 429.40618983551053),\n",
       " ((0, 2, 6), 429.51377473205986),\n",
       " ((1, 4, 6), 430.33462485984774),\n",
       " ((2, 3, 4), 430.3866757171759),\n",
       " ((0, 5, 6), 430.92327320319976),\n",
       " ((2, 4, 7), 431.05040501858576),\n",
       " ((1, 2, 6), 431.16405558009245),\n",
       " ((4, 6, 7), 431.7795223863565),\n",
       " ((0, 4, 6), 431.9711274260207),\n",
       " ((0, 2, 4), 432.0289549641876),\n",
       " ((1, 3, 6), 432.16968079451794),\n",
       " ((2, 3, 5), 432.78497768694405),\n",
       " ((1, 5, 7), 432.9444694649066),\n",
       " ((3, 5, 7), 432.98458747279335),\n",
       " ((3, 4, 5), 433.3785970455668),\n",
       " ((1, 3, 7), 433.401842698975),\n",
       " ((2, 3, 6), 434.0660453849964),\n",
       " ((1, 3, 4), 434.0917973192865),\n",
       " ((1, 2, 4), 434.20241098064696),\n",
       " ((0, 2, 7), 434.5705227315715),\n",
       " ((2, 5, 7), 434.86396686507914),\n",
       " ((1, 5, 6), 434.9436837412786),\n",
       " ((1, 6, 7), 435.0487605362029),\n",
       " ((0, 5, 7), 436.0578763812744),\n",
       " ((0, 6, 7), 436.21838661983617),\n",
       " ((0, 4, 7), 436.41485692894287),\n",
       " ((1, 4, 7), 436.84444037858805),\n",
       " ((0, 3, 6), 438.01077968110474),\n",
       " ((2, 4, 5), 438.2411711015136),\n",
       " ((2, 5, 6), 438.3911055389913),\n",
       " ((3, 4, 7), 439.1428536140807),\n",
       " ((4, 5, 7), 439.27305029456676),\n",
       " ((3, 5, 6), 439.41418521481125),\n",
       " ((4, 5, 6), 439.617471264626),\n",
       " ((2, 6, 7), 439.66905873095857),\n",
       " ((5, 6, 7), 439.75568541402396),\n",
       " ((3, 6, 7), 439.80891980200045),\n",
       " ((2, 3, 7), 439.829933150469),\n",
       " ((2, 4, 6), 443.4681435060941),\n",
       " ((3, 4, 6), 443.8691841380115),\n",
       " ((0, 1, 4, 5), 300.6002932042114),\n",
       " ((0, 1, 4, 6), 310.27398589999),\n",
       " ((0, 1, 3, 4), 312.02663638445745),\n",
       " ((0, 1, 3, 5), 316.05295915636424),\n",
       " ((0, 1, 2, 5), 317.194456491446),\n",
       " ((0, 1, 4, 7), 317.299908578454),\n",
       " ((0, 1, 2, 3), 317.9073389345483),\n",
       " ((0, 1, 2, 4), 318.28513019954386),\n",
       " ((0, 2, 3, 4), 319.3505061623444),\n",
       " ((1, 4, 5, 6), 319.3655822795294),\n",
       " ((0, 1, 2, 7), 319.3983076299494),\n",
       " ((1, 2, 4, 5), 319.8232031019725),\n",
       " ((0, 3, 4, 5), 320.2493418701786),\n",
       " ((0, 2, 4, 7), 320.5637133125425),\n",
       " ((0, 2, 4, 5), 320.61632244520365),\n",
       " ((0, 1, 2, 6), 320.88041536467847),\n",
       " ((0, 1, 3, 6), 320.8806084401701),\n",
       " ((1, 3, 4, 5), 322.456405866867),\n",
       " ((0, 1, 3, 7), 322.5713965935845),\n",
       " ((1, 2, 6, 7), 322.7677220970289),\n",
       " ((1, 2, 4, 7), 323.73985382826675),\n",
       " ((0, 1, 5, 7), 323.90848429515773),\n",
       " ((0, 5, 6, 7), 323.9092363221769),\n",
       " ((0, 3, 4, 7), 324.48583781248817),\n",
       " ((1, 2, 3, 7), 324.6514427842194),\n",
       " ((1, 2, 5, 7), 324.6796351439367),\n",
       " ((0, 2, 3, 5), 324.80907331867775),\n",
       " ((1, 3, 5, 7), 324.9150879704661),\n",
       " ((0, 1, 5, 6), 325.22195914918404),\n",
       " ((0, 1, 6, 7), 325.2519725392425),\n",
       " ((1, 4, 6, 7), 325.7010337122446),\n",
       " ((1, 2, 3, 4), 325.8266182565863),\n",
       " ((0, 4, 5, 7), 325.91538992748673),\n",
       " ((1, 2, 4, 6), 325.9548469277591),\n",
       " ((0, 2, 3, 7), 326.3050285062807),\n",
       " ((1, 2, 3, 5), 326.5517165263763),\n",
       " ((0, 4, 5, 6), 326.6314473114681),\n",
       " ((1, 4, 5, 7), 327.0474315813256),\n",
       " ((0, 3, 4, 6), 327.3862702557405),\n",
       " ((1, 2, 5, 6), 327.4562106485486),\n",
       " ((0, 2, 5, 7), 327.7445234885779),\n",
       " ((1, 5, 6, 7), 328.0664257962182),\n",
       " ((0, 2, 5, 6), 328.39878411685754),\n",
       " ((0, 4, 6, 7), 328.44953474580166),\n",
       " ((0, 2, 4, 6), 330.3738889366714),\n",
       " ((2, 3, 5, 7), 330.5634373494152),\n",
       " ((0, 3, 5, 7), 330.59258828021217),\n",
       " ((1, 2, 3, 6), 331.1150902438873),\n",
       " ((1, 3, 5, 6), 331.58393892463823),\n",
       " ((2, 4, 5, 7), 331.6671968142706),\n",
       " ((0, 3, 6, 7), 332.217002140245),\n",
       " ((0, 2, 3, 6), 332.71458164164835),\n",
       " ((0, 2, 6, 7), 332.93713084084544),\n",
       " ((1, 3, 4, 7), 333.1659602921106),\n",
       " ((2, 4, 6, 7), 333.66371541752466),\n",
       " ((1, 3, 6, 7), 334.02934689510323),\n",
       " ((0, 3, 5, 6), 334.8957832722278),\n",
       " ((2, 3, 4, 7), 335.02142750828784),\n",
       " ((3, 5, 6, 7), 335.6981386734113),\n",
       " ((3, 4, 5, 7), 336.8914462197825),\n",
       " ((2, 3, 5, 6), 337.3373478666246),\n",
       " ((2, 5, 6, 7), 338.67299417896726),\n",
       " ((2, 3, 4, 5), 338.8398992826333),\n",
       " ((2, 3, 6, 7), 339.2370949120252),\n",
       " ((2, 4, 5, 6), 340.2080369648858),\n",
       " ((2, 3, 4, 6), 340.55689317626627),\n",
       " ((1, 3, 4, 6), 340.819017742177),\n",
       " ((3, 4, 5, 6), 341.8489509239542),\n",
       " ((3, 4, 6, 7), 342.6121152170634),\n",
       " ((4, 5, 6, 7), 344.1910035481948),\n",
       " ((0, 1, 2, 4, 5), 228.54114149996968),\n",
       " ((0, 1, 3, 4, 5), 228.62840188416368),\n",
       " ((0, 1, 4, 5, 6), 228.6361481043599),\n",
       " ((0, 1, 4, 5, 7), 229.68274623730738),\n",
       " ((0, 1, 2, 4, 7), 233.55275246304686),\n",
       " ((0, 1, 3, 4, 7), 238.27439103026526),\n",
       " ((0, 1, 2, 3, 5), 238.5516859971423),\n",
       " ((0, 1, 2, 4, 6), 239.91916035219145),\n",
       " ((0, 2, 4, 5, 7), 241.2962836977366),\n",
       " ((0, 1, 2, 3, 4), 241.51279515196953),\n",
       " ((0, 2, 3, 4, 7), 242.43371904899132),\n",
       " ((0, 1, 3, 4, 6), 242.7659194887418),\n",
       " ((1, 2, 4, 5, 7), 243.76575277773856),\n",
       " ((0, 1, 4, 6, 7), 243.99291252071941),\n",
       " ((0, 1, 2, 5, 6), 243.9976072299498),\n",
       " ((0, 1, 5, 6, 7), 245.09167551446464),\n",
       " ((0, 1, 2, 5, 7), 245.2627746516924),\n",
       " ((0, 1, 3, 5, 7), 245.66571668276595),\n",
       " ((0, 1, 3, 5, 6), 245.86473850588925),\n",
       " ((0, 1, 2, 6, 7), 246.04470799454822),\n",
       " ((0, 1, 2, 3, 6), 247.42175004445957),\n",
       " ((0, 4, 5, 6, 7), 247.45767752700434),\n",
       " ((0, 2, 3, 4, 5), 247.47391510933556),\n",
       " ((1, 2, 4, 6, 7), 248.48063708330395),\n",
       " ((1, 2, 3, 5, 7), 248.4965570012225),\n",
       " ((0, 3, 4, 6, 7), 248.72532011007345),\n",
       " ((1, 2, 3, 4, 5), 248.9608945946587),\n",
       " ((0, 1, 3, 6, 7), 249.192123136797),\n",
       " ((1, 2, 4, 5, 6), 250.06718150699373),\n",
       " ((0, 2, 3, 5, 7), 251.25728777928055),\n",
       " ((1, 3, 4, 5, 7), 251.46648752710027),\n",
       " ((1, 3, 5, 6, 7), 251.47794166567806),\n",
       " ((1, 4, 5, 6, 7), 251.82271022904575),\n",
       " ((1, 2, 3, 4, 7), 251.91113612931852),\n",
       " ((0, 2, 4, 6, 7), 252.1615953393769),\n",
       " ((0, 1, 2, 3, 7), 252.79668336251356),\n",
       " ((0, 3, 4, 5, 7), 253.11856833314783),\n",
       " ((0, 2, 4, 5, 6), 253.25543546468683),\n",
       " ((0, 2, 3, 5, 6), 253.52589560233272),\n",
       " ((1, 2, 5, 6, 7), 253.58237423119206),\n",
       " ((0, 2, 3, 4, 6), 254.6132275477722),\n",
       " ((0, 3, 5, 6, 7), 255.27020797386572),\n",
       " ((1, 2, 3, 5, 6), 256.1808873774732),\n",
       " ((0, 3, 4, 5, 6), 256.56712224477525),\n",
       " ((0, 2, 3, 6, 7), 258.28012937076375),\n",
       " ((1, 2, 3, 6, 7), 260.1435520931862),\n",
       " ((2, 3, 4, 6, 7), 261.56251705351144),\n",
       " ((2, 3, 4, 5, 7), 261.73917048373767),\n",
       " ((1, 3, 4, 5, 6), 261.7569392831711),\n",
       " ((1, 2, 3, 4, 6), 262.9728052624133),\n",
       " ((0, 2, 5, 6, 7), 263.40295775286165),\n",
       " ((1, 3, 4, 6, 7), 264.87031897942217),\n",
       " ((2, 3, 5, 6, 7), 265.45330128303783),\n",
       " ((2, 4, 5, 6, 7), 266.81445543058845),\n",
       " ((3, 4, 5, 6, 7), 266.85611272977894),\n",
       " ((2, 3, 4, 5, 6), 268.3720926553112),\n",
       " ((0, 1, 2, 4, 5, 7), 167.3567491149576),\n",
       " ((0, 1, 3, 4, 5, 7), 168.77872186832997),\n",
       " ((0, 1, 4, 5, 6, 7), 172.65297781743556),\n",
       " ((0, 1, 2, 4, 5, 6), 174.17286565087986),\n",
       " ((0, 1, 2, 3, 4, 5), 176.52769235456455),\n",
       " ((0, 1, 3, 4, 5, 6), 176.9058505858619),\n",
       " ((0, 1, 2, 3, 5, 6), 177.72404638724456),\n",
       " ((0, 1, 2, 4, 6, 7), 178.073349352499),\n",
       " ((0, 1, 2, 3, 4, 7), 178.37184784101396),\n",
       " ((0, 2, 3, 4, 5, 7), 179.76780346850651),\n",
       " ((0, 1, 2, 3, 5, 7), 182.54761957568923),\n",
       " ((0, 1, 3, 5, 6, 7), 183.36685779562964),\n",
       " ((0, 1, 3, 4, 6, 7), 183.37524184470644),\n",
       " ((0, 1, 2, 3, 4, 6), 184.01936362227204),\n",
       " ((0, 1, 2, 5, 6, 7), 184.06877667786614),\n",
       " ((1, 2, 3, 4, 5, 7), 184.46285251713982),\n",
       " ((0, 2, 3, 4, 6, 7), 185.61352649596375),\n",
       " ((0, 1, 2, 3, 6, 7), 186.92518832668713),\n",
       " ((1, 2, 4, 5, 6, 7), 189.26566618087747),\n",
       " ((0, 3, 4, 5, 6, 7), 189.7433413755828),\n",
       " ((1, 3, 4, 5, 6, 7), 190.62079419417333),\n",
       " ((0, 2, 4, 5, 6, 7), 191.30652489267888),\n",
       " ((0, 2, 3, 4, 5, 6), 194.3424068148954),\n",
       " ((1, 2, 3, 4, 6, 7), 194.75407772576628),\n",
       " ((1, 2, 3, 5, 6, 7), 195.527512375946),\n",
       " ((0, 2, 3, 5, 6, 7), 197.71869327150748),\n",
       " ((1, 2, 3, 4, 5, 6), 199.65074592075788),\n",
       " ((2, 3, 4, 5, 6, 7), 202.11089007482047),\n",
       " ((0, 1, 2, 4, 5, 6, 7), 108.00216084944559),\n",
       " ((0, 1, 2, 3, 4, 5, 7), 108.95360609036736),\n",
       " ((0, 1, 3, 4, 5, 6, 7), 113.05693057519768),\n",
       " ((0, 1, 2, 3, 4, 6, 7), 119.5744322156038),\n",
       " ((0, 1, 2, 3, 4, 5, 6), 125.24445143495869),\n",
       " ((0, 1, 2, 3, 5, 6, 7), 125.58521636227432),\n",
       " ((0, 2, 3, 4, 5, 6, 7), 131.84514538801966),\n",
       " ((1, 2, 3, 4, 5, 6, 7), 133.02668616647833),\n",
       " ((0, 1, 2, 3, 4, 5, 6, 7), 0.0)]"
      ]
     },
     "execution_count": 78,
     "metadata": {},
     "output_type": "execute_result"
    }
   ],
   "source": [
    "sorted(sorted(rank, key=lambda x: x[1]), key=lambda x: len(x[0]))"
   ]
  },
  {
   "cell_type": "markdown",
   "metadata": {},
   "source": [
    "Except for one case the greedy algorithm makes always the best choice:\n",
    "\n",
    "{0, 1, 2, 4, 5, 6, 7} 108.00216084944557 \n",
    "\n",
    "{0, 1, 2, 4, 5, 7} 167.35674911495767\n",
    "\n",
    "{0, 1, 2, 4, 5} 228.54114149996968\n",
    "\n",
    "{0, 1, 4, 5} 300.6002932042114\n",
    "\n",
    "{0, 1, 4} 419.9287663231109 => {0, 1, 3}, 416 better\n",
    "\n",
    "{0, 1} 593.4443694638235\n",
    "\n",
    "{0} 985.9146148635155\n",
    "\n",
    "set() 992.1915099307594"
   ]
  }
 ],
 "metadata": {
  "kernelspec": {
   "display_name": "feature_sel",
   "language": "python",
   "name": "feature_sel"
  },
  "language_info": {
   "codemirror_mode": {
    "name": "ipython",
    "version": 3
   },
   "file_extension": ".py",
   "mimetype": "text/x-python",
   "name": "python",
   "nbconvert_exporter": "python",
   "pygments_lexer": "ipython3",
   "version": "3.7.3"
  }
 },
 "nbformat": 4,
 "nbformat_minor": 2
}
