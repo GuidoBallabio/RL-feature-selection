{
 "cells": [
  {
   "cell_type": "markdown",
   "metadata": {},
   "source": [
    "# Batch Evaluation "
   ]
  },
  {
   "cell_type": "code",
   "execution_count": 1,
   "metadata": {},
   "outputs": [
    {
     "name": "stderr",
     "output_type": "stream",
     "text": [
      "/home/daibak/.virtualenvs/feature_sel/lib/python3.7/site-packages/tqdm/autonotebook/__init__.py:18: TqdmExperimentalWarning: Using `tqdm.autonotebook.tqdm` in notebook mode. Use `tqdm.tqdm` instead to force console mode (e.g. in jupyter console)\n",
      "  \" (e.g. in jupyter console)\", TqdmExperimentalWarning)\n"
     ]
    }
   ],
   "source": [
    "import gym\n",
    "import numpy as np\n",
    "\n",
    "from src.algorithm.batch_eval import BatchEval\n",
    "from src.algorithm.info_theory.combo_estimators import (DiscreteEntropyEstimator, FastNNEntropyEstimator, NpeetEstimator)\n",
    "from src.envs.lqgNdim import LQG_nD\n",
    "from src.envs.taxi_variants import TaxiBinary, TaxiUnraveled\n",
    "from src.policy_eval.fqi import QfunctionFQI\n",
    "from src.policy_eval.k_predictors import QfunctionAsSum, QfunctionAsSumDmu"
   ]
  },
  {
   "cell_type": "code",
   "execution_count": 2,
   "metadata": {},
   "outputs": [],
   "source": [
    "def lqg():\n",
    "    Q = np.diag([0.9, 0.9, 0.1, 0.1])\n",
    "    R = Q.copy()\n",
    "    return LQG_nD(0.9, n_dim=4, Q=Q, R=R), True, True, None\n",
    "\n",
    "\n",
    "def taxi():\n",
    "    env = TaxiUnraveled()\n",
    "    return env, False, False, None\n",
    "\n",
    "\n",
    "def taxiB():\n",
    "    env = TaxiBinary()\n",
    "    return env, False, False, None\n",
    "\n",
    "\n",
    "def ll():\n",
    "    env = gym.make('LunarLander-v2')\n",
    "    return env, True, True, None\n",
    "\n",
    "l_env = [lqg]\n",
    "l_est = [NpeetEstimator]\n",
    "l_q = [QfunctionFQI]\n",
    "l_k = [5, 20]\n",
    "l_gamma = [0.5, 0.9]\n",
    "l_n = [20, 30]"
   ]
  },
  {
   "cell_type": "code",
   "execution_count": 3,
   "metadata": {},
   "outputs": [
    {
     "name": "stderr",
     "output_type": "stream",
     "text": [
      "2019-09-25 01:51:39,837\tWARNING worker.py:1438 -- WARNING: Not updating worker name since `setproctitle` is not installed. Install this with `pip install setproctitle` (or ray[debug]) to enable monitoring of worker processes.\n",
      "2019-09-25 01:51:39,842\tINFO resource_spec.py:205 -- Starting Ray with 1.03 GiB memory available for workers and up to 0.52 GiB for objects. You can adjust these settings with ray.remote(memory=<bytes>, object_store_memory=<bytes>).\n"
     ]
    }
   ],
   "source": [
    "bv = BatchEval(l_env, l_est, l_q, l_n, l_k, l_gamma)"
   ]
  },
  {
   "cell_type": "code",
   "execution_count": 4,
   "metadata": {},
   "outputs": [
    {
     "name": "stderr",
     "output_type": "stream",
     "text": [
      "2019-09-25 01:51:40,877\tWARNING worker.py:1438 -- WARNING: Not updating worker name since `setproctitle` is not installed. Install this with `pip install setproctitle` (or ray[debug]) to enable monitoring of worker processes.\n",
      "2019-09-25 01:51:40,885\tERROR worker.py:1444 -- Calling ray.init() again after it has already been called.\n"
     ]
    },
    {
     "name": "stdout",
     "output_type": "stream",
     "text": [
      "('LQG_nD', 'NpeetEstimator', 20, 5, 0.5)\n"
     ]
    },
    {
     "data": {
      "application/vnd.jupyter.widget-view+json": {
       "model_id": "8eb0564c0d62415cbe7473208aad819a",
       "version_major": 2,
       "version_minor": 0
      },
      "text/plain": [
       "HBox(children=(IntProgress(value=0, max=8), HTML(value='')))"
      ]
     },
     "metadata": {},
     "output_type": "display_data"
    },
    {
     "data": {
      "application/vnd.jupyter.widget-view+json": {
       "model_id": "811c64dbecec42d88d5475216155489f",
       "version_major": 2,
       "version_minor": 0
      },
      "text/plain": [
       "HBox(children=(IntProgress(value=0, max=48), HTML(value='')))"
      ]
     },
     "metadata": {},
     "output_type": "display_data"
    },
    {
     "data": {
      "application/vnd.jupyter.widget-view+json": {
       "model_id": "1f053d9694764bdf83cf8485a5293e60",
       "version_major": 2,
       "version_minor": 0
      },
      "text/plain": [
       "HBox(children=(IntProgress(value=0, max=42), HTML(value='')))"
      ]
     },
     "metadata": {},
     "output_type": "display_data"
    },
    {
     "data": {
      "application/vnd.jupyter.widget-view+json": {
       "model_id": "226f0cb4c4444efaaba995ceb145293c",
       "version_major": 2,
       "version_minor": 0
      },
      "text/plain": [
       "HBox(children=(IntProgress(value=0, max=36), HTML(value='')))"
      ]
     },
     "metadata": {},
     "output_type": "display_data"
    },
    {
     "data": {
      "application/vnd.jupyter.widget-view+json": {
       "model_id": "bad46ec78a234e34a625f2314dcd24f7",
       "version_major": 2,
       "version_minor": 0
      },
      "text/plain": [
       "HBox(children=(IntProgress(value=0, max=30), HTML(value='')))"
      ]
     },
     "metadata": {},
     "output_type": "display_data"
    },
    {
     "data": {
      "application/vnd.jupyter.widget-view+json": {
       "model_id": "129d78c0478948419b27b25f6300e770",
       "version_major": 2,
       "version_minor": 0
      },
      "text/plain": [
       "HBox(children=(IntProgress(value=0, max=24), HTML(value='')))"
      ]
     },
     "metadata": {},
     "output_type": "display_data"
    },
    {
     "data": {
      "application/vnd.jupyter.widget-view+json": {
       "model_id": "bf1a011aa05b49e09b2e86a87899d4c4",
       "version_major": 2,
       "version_minor": 0
      },
      "text/plain": [
       "HBox(children=(IntProgress(value=0, max=18), HTML(value='')))"
      ]
     },
     "metadata": {},
     "output_type": "display_data"
    },
    {
     "data": {
      "application/vnd.jupyter.widget-view+json": {
       "model_id": "d3e797ee0e174e5a9e6c271fc0fa9f7b",
       "version_major": 2,
       "version_minor": 0
      },
      "text/plain": [
       "HBox(children=(IntProgress(value=0, max=12), HTML(value='')))"
      ]
     },
     "metadata": {},
     "output_type": "display_data"
    },
    {
     "data": {
      "application/vnd.jupyter.widget-view+json": {
       "model_id": "284705d7f4ea4f35bed15b3a0e278b3a",
       "version_major": 2,
       "version_minor": 0
      },
      "text/plain": [
       "HBox(children=(IntProgress(value=0, max=6), HTML(value='')))"
      ]
     },
     "metadata": {},
     "output_type": "display_data"
    },
    {
     "name": "stdout",
     "output_type": "stream",
     "text": [
      "\n",
      "('LQG_nD', 'NpeetEstimator', 20, 5, 0.9)\n"
     ]
    },
    {
     "data": {
      "application/vnd.jupyter.widget-view+json": {
       "model_id": "2b4f95792a7840338a9fe67d3ff1893e",
       "version_major": 2,
       "version_minor": 0
      },
      "text/plain": [
       "HBox(children=(IntProgress(value=0, max=8), HTML(value='')))"
      ]
     },
     "metadata": {},
     "output_type": "display_data"
    },
    {
     "data": {
      "application/vnd.jupyter.widget-view+json": {
       "model_id": "2e2da95e7f824a98bef21d80c8941eee",
       "version_major": 2,
       "version_minor": 0
      },
      "text/plain": [
       "HBox(children=(IntProgress(value=0, max=48), HTML(value='')))"
      ]
     },
     "metadata": {},
     "output_type": "display_data"
    },
    {
     "data": {
      "application/vnd.jupyter.widget-view+json": {
       "model_id": "7cc1a53939ce4cd697073dbdacb330e9",
       "version_major": 2,
       "version_minor": 0
      },
      "text/plain": [
       "HBox(children=(IntProgress(value=0, max=42), HTML(value='')))"
      ]
     },
     "metadata": {},
     "output_type": "display_data"
    },
    {
     "data": {
      "application/vnd.jupyter.widget-view+json": {
       "model_id": "cf87503818174cd4b1fdf7867054a634",
       "version_major": 2,
       "version_minor": 0
      },
      "text/plain": [
       "HBox(children=(IntProgress(value=0, max=36), HTML(value='')))"
      ]
     },
     "metadata": {},
     "output_type": "display_data"
    },
    {
     "data": {
      "application/vnd.jupyter.widget-view+json": {
       "model_id": "cc62a14451fa4213b86719e414bd3404",
       "version_major": 2,
       "version_minor": 0
      },
      "text/plain": [
       "HBox(children=(IntProgress(value=0, max=30), HTML(value='')))"
      ]
     },
     "metadata": {},
     "output_type": "display_data"
    },
    {
     "data": {
      "application/vnd.jupyter.widget-view+json": {
       "model_id": "8225ff8e70a2451792c372b2395bd14b",
       "version_major": 2,
       "version_minor": 0
      },
      "text/plain": [
       "HBox(children=(IntProgress(value=0, max=24), HTML(value='')))"
      ]
     },
     "metadata": {},
     "output_type": "display_data"
    },
    {
     "data": {
      "application/vnd.jupyter.widget-view+json": {
       "model_id": "dcd1283538a74e44accc7ae370a13d72",
       "version_major": 2,
       "version_minor": 0
      },
      "text/plain": [
       "HBox(children=(IntProgress(value=0, max=18), HTML(value='')))"
      ]
     },
     "metadata": {},
     "output_type": "display_data"
    },
    {
     "data": {
      "application/vnd.jupyter.widget-view+json": {
       "model_id": "71649d347862472fbbfb1dd4788cabfa",
       "version_major": 2,
       "version_minor": 0
      },
      "text/plain": [
       "HBox(children=(IntProgress(value=0, max=12), HTML(value='')))"
      ]
     },
     "metadata": {},
     "output_type": "display_data"
    },
    {
     "data": {
      "application/vnd.jupyter.widget-view+json": {
       "model_id": "71e703d8968c46ffa7b604500678c6d8",
       "version_major": 2,
       "version_minor": 0
      },
      "text/plain": [
       "HBox(children=(IntProgress(value=0, max=6), HTML(value='')))"
      ]
     },
     "metadata": {},
     "output_type": "display_data"
    },
    {
     "name": "stdout",
     "output_type": "stream",
     "text": [
      "\n",
      "('LQG_nD', 'NpeetEstimator', 20, 20, 0.5)\n"
     ]
    },
    {
     "data": {
      "application/vnd.jupyter.widget-view+json": {
       "model_id": "2cf27ca5b6884d758bb31ed12867606b",
       "version_major": 2,
       "version_minor": 0
      },
      "text/plain": [
       "HBox(children=(IntProgress(value=0, max=8), HTML(value='')))"
      ]
     },
     "metadata": {},
     "output_type": "display_data"
    },
    {
     "data": {
      "application/vnd.jupyter.widget-view+json": {
       "model_id": "091574d6732048678829ed2b9257eeb2",
       "version_major": 2,
       "version_minor": 0
      },
      "text/plain": [
       "HBox(children=(IntProgress(value=0, max=168), HTML(value='')))"
      ]
     },
     "metadata": {},
     "output_type": "display_data"
    },
    {
     "data": {
      "application/vnd.jupyter.widget-view+json": {
       "model_id": "e0b502faea6e457d8f5998d7db58c121",
       "version_major": 2,
       "version_minor": 0
      },
      "text/plain": [
       "HBox(children=(IntProgress(value=0, max=147), HTML(value='')))"
      ]
     },
     "metadata": {},
     "output_type": "display_data"
    },
    {
     "data": {
      "application/vnd.jupyter.widget-view+json": {
       "model_id": "6d090bb0ae10430484cc3c23a40eec0a",
       "version_major": 2,
       "version_minor": 0
      },
      "text/plain": [
       "HBox(children=(IntProgress(value=0, max=126), HTML(value='')))"
      ]
     },
     "metadata": {},
     "output_type": "display_data"
    },
    {
     "data": {
      "application/vnd.jupyter.widget-view+json": {
       "model_id": "d2ddf44f12bf45b78a1aa72e6692c7ac",
       "version_major": 2,
       "version_minor": 0
      },
      "text/plain": [
       "HBox(children=(IntProgress(value=0, max=105), HTML(value='')))"
      ]
     },
     "metadata": {},
     "output_type": "display_data"
    },
    {
     "data": {
      "application/vnd.jupyter.widget-view+json": {
       "model_id": "bd862f286628463483ec64ec340972b3",
       "version_major": 2,
       "version_minor": 0
      },
      "text/plain": [
       "HBox(children=(IntProgress(value=0, max=84), HTML(value='')))"
      ]
     },
     "metadata": {},
     "output_type": "display_data"
    },
    {
     "data": {
      "application/vnd.jupyter.widget-view+json": {
       "model_id": "80fc69370d5b4fee9343016dfa3c368b",
       "version_major": 2,
       "version_minor": 0
      },
      "text/plain": [
       "HBox(children=(IntProgress(value=0, max=63), HTML(value='')))"
      ]
     },
     "metadata": {},
     "output_type": "display_data"
    },
    {
     "data": {
      "application/vnd.jupyter.widget-view+json": {
       "model_id": "9b000f4a4d734ce49bdc266c2901dfd0",
       "version_major": 2,
       "version_minor": 0
      },
      "text/plain": [
       "HBox(children=(IntProgress(value=0, max=42), HTML(value='')))"
      ]
     },
     "metadata": {},
     "output_type": "display_data"
    },
    {
     "data": {
      "application/vnd.jupyter.widget-view+json": {
       "model_id": "0875677503174b7692fdaa220f6426d2",
       "version_major": 2,
       "version_minor": 0
      },
      "text/plain": [
       "HBox(children=(IntProgress(value=0, max=21), HTML(value='')))"
      ]
     },
     "metadata": {},
     "output_type": "display_data"
    },
    {
     "name": "stdout",
     "output_type": "stream",
     "text": [
      "\n",
      "('LQG_nD', 'NpeetEstimator', 20, 20, 0.9)\n"
     ]
    },
    {
     "data": {
      "application/vnd.jupyter.widget-view+json": {
       "model_id": "76fa319bf302460fba1bea8a2bb44581",
       "version_major": 2,
       "version_minor": 0
      },
      "text/plain": [
       "HBox(children=(IntProgress(value=0, max=8), HTML(value='')))"
      ]
     },
     "metadata": {},
     "output_type": "display_data"
    },
    {
     "data": {
      "application/vnd.jupyter.widget-view+json": {
       "model_id": "7336dea7d8d7443cae1117add7ca9049",
       "version_major": 2,
       "version_minor": 0
      },
      "text/plain": [
       "HBox(children=(IntProgress(value=0, max=168), HTML(value='')))"
      ]
     },
     "metadata": {},
     "output_type": "display_data"
    },
    {
     "data": {
      "application/vnd.jupyter.widget-view+json": {
       "model_id": "3530192c89e04717b78406c38dd9449f",
       "version_major": 2,
       "version_minor": 0
      },
      "text/plain": [
       "HBox(children=(IntProgress(value=0, max=147), HTML(value='')))"
      ]
     },
     "metadata": {},
     "output_type": "display_data"
    },
    {
     "data": {
      "application/vnd.jupyter.widget-view+json": {
       "model_id": "66a31b70bdd0442cb7eeae0bb09803a0",
       "version_major": 2,
       "version_minor": 0
      },
      "text/plain": [
       "HBox(children=(IntProgress(value=0, max=126), HTML(value='')))"
      ]
     },
     "metadata": {},
     "output_type": "display_data"
    },
    {
     "data": {
      "application/vnd.jupyter.widget-view+json": {
       "model_id": "0d8b349a5a75472eb79efc49f5ecdcdb",
       "version_major": 2,
       "version_minor": 0
      },
      "text/plain": [
       "HBox(children=(IntProgress(value=0, max=105), HTML(value='')))"
      ]
     },
     "metadata": {},
     "output_type": "display_data"
    },
    {
     "data": {
      "application/vnd.jupyter.widget-view+json": {
       "model_id": "37afd43c7df042ad897d5645eec626bb",
       "version_major": 2,
       "version_minor": 0
      },
      "text/plain": [
       "HBox(children=(IntProgress(value=0, max=84), HTML(value='')))"
      ]
     },
     "metadata": {},
     "output_type": "display_data"
    },
    {
     "data": {
      "application/vnd.jupyter.widget-view+json": {
       "model_id": "136d4982925c450ebc32801de3fc9483",
       "version_major": 2,
       "version_minor": 0
      },
      "text/plain": [
       "HBox(children=(IntProgress(value=0, max=63), HTML(value='')))"
      ]
     },
     "metadata": {},
     "output_type": "display_data"
    },
    {
     "data": {
      "application/vnd.jupyter.widget-view+json": {
       "model_id": "d0cfd09a205c475e832e6586a8edbefb",
       "version_major": 2,
       "version_minor": 0
      },
      "text/plain": [
       "HBox(children=(IntProgress(value=0, max=42), HTML(value='')))"
      ]
     },
     "metadata": {},
     "output_type": "display_data"
    },
    {
     "data": {
      "application/vnd.jupyter.widget-view+json": {
       "model_id": "663ef95859074479af458bee14a84320",
       "version_major": 2,
       "version_minor": 0
      },
      "text/plain": [
       "HBox(children=(IntProgress(value=0, max=21), HTML(value='')))"
      ]
     },
     "metadata": {},
     "output_type": "display_data"
    },
    {
     "name": "stderr",
     "output_type": "stream",
     "text": [
      "2019-09-25 01:51:59,554\tWARNING worker.py:1438 -- WARNING: Not updating worker name since `setproctitle` is not installed. Install this with `pip install setproctitle` (or ray[debug]) to enable monitoring of worker processes.\n",
      "2019-09-25 01:51:59,555\tERROR worker.py:1444 -- Calling ray.init() again after it has already been called.\n"
     ]
    },
    {
     "name": "stdout",
     "output_type": "stream",
     "text": [
      "\n",
      "Dict dumped in /tmp/tmptb_8usuu.pkl\n",
      "('LQG_nD', 'NpeetEstimator', 30, 5, 0.5)\n"
     ]
    },
    {
     "data": {
      "application/vnd.jupyter.widget-view+json": {
       "model_id": "0f358336c79f482eadd2b0d388f3f848",
       "version_major": 2,
       "version_minor": 0
      },
      "text/plain": [
       "HBox(children=(IntProgress(value=0, max=8), HTML(value='')))"
      ]
     },
     "metadata": {},
     "output_type": "display_data"
    },
    {
     "data": {
      "application/vnd.jupyter.widget-view+json": {
       "model_id": "ebb54d36cfc249d59c0655428d13aacf",
       "version_major": 2,
       "version_minor": 0
      },
      "text/plain": [
       "HBox(children=(IntProgress(value=0, max=48), HTML(value='')))"
      ]
     },
     "metadata": {},
     "output_type": "display_data"
    },
    {
     "data": {
      "application/vnd.jupyter.widget-view+json": {
       "model_id": "37d1a5fb3cd045d28a0f40441a838f94",
       "version_major": 2,
       "version_minor": 0
      },
      "text/plain": [
       "HBox(children=(IntProgress(value=0, max=42), HTML(value='')))"
      ]
     },
     "metadata": {},
     "output_type": "display_data"
    },
    {
     "data": {
      "application/vnd.jupyter.widget-view+json": {
       "model_id": "d8c10bcc452f448e9485e4b7f27b40c8",
       "version_major": 2,
       "version_minor": 0
      },
      "text/plain": [
       "HBox(children=(IntProgress(value=0, max=36), HTML(value='')))"
      ]
     },
     "metadata": {},
     "output_type": "display_data"
    },
    {
     "data": {
      "application/vnd.jupyter.widget-view+json": {
       "model_id": "1acab1fa6b104f6a9079c29bbae85968",
       "version_major": 2,
       "version_minor": 0
      },
      "text/plain": [
       "HBox(children=(IntProgress(value=0, max=30), HTML(value='')))"
      ]
     },
     "metadata": {},
     "output_type": "display_data"
    },
    {
     "data": {
      "application/vnd.jupyter.widget-view+json": {
       "model_id": "dbc45ebd1ebd431981ffeda72289a51e",
       "version_major": 2,
       "version_minor": 0
      },
      "text/plain": [
       "HBox(children=(IntProgress(value=0, max=24), HTML(value='')))"
      ]
     },
     "metadata": {},
     "output_type": "display_data"
    },
    {
     "data": {
      "application/vnd.jupyter.widget-view+json": {
       "model_id": "2183d73fe8d94c5d82d3c831bbdac744",
       "version_major": 2,
       "version_minor": 0
      },
      "text/plain": [
       "HBox(children=(IntProgress(value=0, max=18), HTML(value='')))"
      ]
     },
     "metadata": {},
     "output_type": "display_data"
    },
    {
     "data": {
      "application/vnd.jupyter.widget-view+json": {
       "model_id": "d6c20c009c104feb93520c473b3a8f3e",
       "version_major": 2,
       "version_minor": 0
      },
      "text/plain": [
       "HBox(children=(IntProgress(value=0, max=12), HTML(value='')))"
      ]
     },
     "metadata": {},
     "output_type": "display_data"
    },
    {
     "data": {
      "application/vnd.jupyter.widget-view+json": {
       "model_id": "9b91ec3a37e44a9fa32180e02b213012",
       "version_major": 2,
       "version_minor": 0
      },
      "text/plain": [
       "HBox(children=(IntProgress(value=0, max=6), HTML(value='')))"
      ]
     },
     "metadata": {},
     "output_type": "display_data"
    },
    {
     "name": "stdout",
     "output_type": "stream",
     "text": [
      "\n",
      "('LQG_nD', 'NpeetEstimator', 30, 5, 0.9)\n"
     ]
    },
    {
     "data": {
      "application/vnd.jupyter.widget-view+json": {
       "model_id": "9e2a3ffde37242a28e59b3dd3768714e",
       "version_major": 2,
       "version_minor": 0
      },
      "text/plain": [
       "HBox(children=(IntProgress(value=0, max=8), HTML(value='')))"
      ]
     },
     "metadata": {},
     "output_type": "display_data"
    },
    {
     "data": {
      "application/vnd.jupyter.widget-view+json": {
       "model_id": "e9cde4c65b2b4e3d92c4a1a949a39b6b",
       "version_major": 2,
       "version_minor": 0
      },
      "text/plain": [
       "HBox(children=(IntProgress(value=0, max=48), HTML(value='')))"
      ]
     },
     "metadata": {},
     "output_type": "display_data"
    },
    {
     "data": {
      "application/vnd.jupyter.widget-view+json": {
       "model_id": "845ed9d956e24ad793af57c88aed9602",
       "version_major": 2,
       "version_minor": 0
      },
      "text/plain": [
       "HBox(children=(IntProgress(value=0, max=42), HTML(value='')))"
      ]
     },
     "metadata": {},
     "output_type": "display_data"
    },
    {
     "data": {
      "application/vnd.jupyter.widget-view+json": {
       "model_id": "053237bc2bdb43e6b5aaa1cc98e8a4f0",
       "version_major": 2,
       "version_minor": 0
      },
      "text/plain": [
       "HBox(children=(IntProgress(value=0, max=36), HTML(value='')))"
      ]
     },
     "metadata": {},
     "output_type": "display_data"
    },
    {
     "data": {
      "application/vnd.jupyter.widget-view+json": {
       "model_id": "9c16339518134987945b1741673f00bc",
       "version_major": 2,
       "version_minor": 0
      },
      "text/plain": [
       "HBox(children=(IntProgress(value=0, max=30), HTML(value='')))"
      ]
     },
     "metadata": {},
     "output_type": "display_data"
    },
    {
     "data": {
      "application/vnd.jupyter.widget-view+json": {
       "model_id": "bbf17b59d64a44518b685812ef56e519",
       "version_major": 2,
       "version_minor": 0
      },
      "text/plain": [
       "HBox(children=(IntProgress(value=0, max=24), HTML(value='')))"
      ]
     },
     "metadata": {},
     "output_type": "display_data"
    },
    {
     "data": {
      "application/vnd.jupyter.widget-view+json": {
       "model_id": "741ac24832a44ea18c2dd6dc75cb124d",
       "version_major": 2,
       "version_minor": 0
      },
      "text/plain": [
       "HBox(children=(IntProgress(value=0, max=18), HTML(value='')))"
      ]
     },
     "metadata": {},
     "output_type": "display_data"
    },
    {
     "data": {
      "application/vnd.jupyter.widget-view+json": {
       "model_id": "9d1d85fb296e43eab1831fa26c70f434",
       "version_major": 2,
       "version_minor": 0
      },
      "text/plain": [
       "HBox(children=(IntProgress(value=0, max=12), HTML(value='')))"
      ]
     },
     "metadata": {},
     "output_type": "display_data"
    },
    {
     "data": {
      "application/vnd.jupyter.widget-view+json": {
       "model_id": "f32121c2bebb434f89dde7e66e42c3f1",
       "version_major": 2,
       "version_minor": 0
      },
      "text/plain": [
       "HBox(children=(IntProgress(value=0, max=6), HTML(value='')))"
      ]
     },
     "metadata": {},
     "output_type": "display_data"
    },
    {
     "name": "stdout",
     "output_type": "stream",
     "text": [
      "\n",
      "('LQG_nD', 'NpeetEstimator', 30, 20, 0.5)\n"
     ]
    },
    {
     "data": {
      "application/vnd.jupyter.widget-view+json": {
       "model_id": "cb3cd8cba34a4ddebfa868e2db64e76a",
       "version_major": 2,
       "version_minor": 0
      },
      "text/plain": [
       "HBox(children=(IntProgress(value=0, max=8), HTML(value='')))"
      ]
     },
     "metadata": {},
     "output_type": "display_data"
    },
    {
     "data": {
      "application/vnd.jupyter.widget-view+json": {
       "model_id": "27f2500e720746699cf9c70243dd39a6",
       "version_major": 2,
       "version_minor": 0
      },
      "text/plain": [
       "HBox(children=(IntProgress(value=0, max=168), HTML(value='')))"
      ]
     },
     "metadata": {},
     "output_type": "display_data"
    },
    {
     "data": {
      "application/vnd.jupyter.widget-view+json": {
       "model_id": "5b31e062d73d4634bb1e9e5d3f346a54",
       "version_major": 2,
       "version_minor": 0
      },
      "text/plain": [
       "HBox(children=(IntProgress(value=0, max=147), HTML(value='')))"
      ]
     },
     "metadata": {},
     "output_type": "display_data"
    },
    {
     "data": {
      "application/vnd.jupyter.widget-view+json": {
       "model_id": "23b3547e1aca4b42b9333c08059afe27",
       "version_major": 2,
       "version_minor": 0
      },
      "text/plain": [
       "HBox(children=(IntProgress(value=0, max=126), HTML(value='')))"
      ]
     },
     "metadata": {},
     "output_type": "display_data"
    },
    {
     "data": {
      "application/vnd.jupyter.widget-view+json": {
       "model_id": "d9af9600fadf42d48ad91eb3c7ceb270",
       "version_major": 2,
       "version_minor": 0
      },
      "text/plain": [
       "HBox(children=(IntProgress(value=0, max=105), HTML(value='')))"
      ]
     },
     "metadata": {},
     "output_type": "display_data"
    },
    {
     "data": {
      "application/vnd.jupyter.widget-view+json": {
       "model_id": "9c51ce2280ed4d0c9c0584fc291707cd",
       "version_major": 2,
       "version_minor": 0
      },
      "text/plain": [
       "HBox(children=(IntProgress(value=0, max=84), HTML(value='')))"
      ]
     },
     "metadata": {},
     "output_type": "display_data"
    },
    {
     "data": {
      "application/vnd.jupyter.widget-view+json": {
       "model_id": "90135a40b8e14fbdbbd38cef1981a172",
       "version_major": 2,
       "version_minor": 0
      },
      "text/plain": [
       "HBox(children=(IntProgress(value=0, max=63), HTML(value='')))"
      ]
     },
     "metadata": {},
     "output_type": "display_data"
    },
    {
     "data": {
      "application/vnd.jupyter.widget-view+json": {
       "model_id": "2c270b7f96f542b79a75a245ef62a3f7",
       "version_major": 2,
       "version_minor": 0
      },
      "text/plain": [
       "HBox(children=(IntProgress(value=0, max=42), HTML(value='')))"
      ]
     },
     "metadata": {},
     "output_type": "display_data"
    },
    {
     "data": {
      "application/vnd.jupyter.widget-view+json": {
       "model_id": "b11cbce8635d48f89d60de5b378c6d78",
       "version_major": 2,
       "version_minor": 0
      },
      "text/plain": [
       "HBox(children=(IntProgress(value=0, max=21), HTML(value='')))"
      ]
     },
     "metadata": {},
     "output_type": "display_data"
    },
    {
     "name": "stdout",
     "output_type": "stream",
     "text": [
      "\n",
      "('LQG_nD', 'NpeetEstimator', 30, 20, 0.9)\n"
     ]
    },
    {
     "data": {
      "application/vnd.jupyter.widget-view+json": {
       "model_id": "7b4a24dff6f84ae5ba9e838502d2d2bf",
       "version_major": 2,
       "version_minor": 0
      },
      "text/plain": [
       "HBox(children=(IntProgress(value=0, max=8), HTML(value='')))"
      ]
     },
     "metadata": {},
     "output_type": "display_data"
    },
    {
     "data": {
      "application/vnd.jupyter.widget-view+json": {
       "model_id": "68096d9a10eb4f60919b9103bae98e6d",
       "version_major": 2,
       "version_minor": 0
      },
      "text/plain": [
       "HBox(children=(IntProgress(value=0, max=168), HTML(value='')))"
      ]
     },
     "metadata": {},
     "output_type": "display_data"
    },
    {
     "data": {
      "application/vnd.jupyter.widget-view+json": {
       "model_id": "f55c516cfcf14e35af6dd4d53227d9de",
       "version_major": 2,
       "version_minor": 0
      },
      "text/plain": [
       "HBox(children=(IntProgress(value=0, max=147), HTML(value='')))"
      ]
     },
     "metadata": {},
     "output_type": "display_data"
    },
    {
     "data": {
      "application/vnd.jupyter.widget-view+json": {
       "model_id": "7bc8c81ece604bdf9bec5de7e3f61157",
       "version_major": 2,
       "version_minor": 0
      },
      "text/plain": [
       "HBox(children=(IntProgress(value=0, max=126), HTML(value='')))"
      ]
     },
     "metadata": {},
     "output_type": "display_data"
    },
    {
     "data": {
      "application/vnd.jupyter.widget-view+json": {
       "model_id": "6ce8ffe3bdaf4617aff7f89582998e52",
       "version_major": 2,
       "version_minor": 0
      },
      "text/plain": [
       "HBox(children=(IntProgress(value=0, max=105), HTML(value='')))"
      ]
     },
     "metadata": {},
     "output_type": "display_data"
    },
    {
     "data": {
      "application/vnd.jupyter.widget-view+json": {
       "model_id": "19a214417b7a40c3a77a0ba0c30174c8",
       "version_major": 2,
       "version_minor": 0
      },
      "text/plain": [
       "HBox(children=(IntProgress(value=0, max=84), HTML(value='')))"
      ]
     },
     "metadata": {},
     "output_type": "display_data"
    },
    {
     "data": {
      "application/vnd.jupyter.widget-view+json": {
       "model_id": "28255810b98b499a915c041323544d3b",
       "version_major": 2,
       "version_minor": 0
      },
      "text/plain": [
       "HBox(children=(IntProgress(value=0, max=63), HTML(value='')))"
      ]
     },
     "metadata": {},
     "output_type": "display_data"
    },
    {
     "data": {
      "application/vnd.jupyter.widget-view+json": {
       "model_id": "5c8e8784c1b249c9af90c6c0f017b3d2",
       "version_major": 2,
       "version_minor": 0
      },
      "text/plain": [
       "HBox(children=(IntProgress(value=0, max=42), HTML(value='')))"
      ]
     },
     "metadata": {},
     "output_type": "display_data"
    },
    {
     "data": {
      "application/vnd.jupyter.widget-view+json": {
       "model_id": "624498f97f794c78aa6c00b88b666e82",
       "version_major": 2,
       "version_minor": 0
      },
      "text/plain": [
       "HBox(children=(IntProgress(value=0, max=21), HTML(value='')))"
      ]
     },
     "metadata": {},
     "output_type": "display_data"
    },
    {
     "name": "stderr",
     "output_type": "stream",
     "text": [
      "2019-09-25 01:52:21,569\tWARNING worker.py:351 -- WARNING: Falling back to serializing objects of type <class 'frozenset'> by using pickle. This may be inefficient.\n"
     ]
    },
    {
     "name": "stdout",
     "output_type": "stream",
     "text": [
      "\n",
      "Dict dumped in /tmp/tmppc__506f.pkl\n"
     ]
    },
    {
     "data": {
      "application/vnd.jupyter.widget-view+json": {
       "model_id": "2208a4934fdd468c9ec4b7726462e9f1",
       "version_major": 2,
       "version_minor": 0
      },
      "text/plain": [
       "HBox(children=(IntProgress(value=0, max=38), HTML(value='')))"
      ]
     },
     "metadata": {},
     "output_type": "display_data"
    },
    {
     "name": "stdout",
     "output_type": "stream",
     "text": [
      "\u001b[2m\u001b[36m(pid=6741)\u001b[0m 2019-09-25 01:52:30,362\tWARNING worker.py:351 -- WARNING: Falling back to serializing objects of type <class 'sklearn.tree._tree.Tree'> by using pickle. This may be inefficient.\n",
      "\n",
      "Dict dumped in /tmp/tmpjuqyarat.pkl\n"
     ]
    },
    {
     "data": {
      "text/plain": [
       "{('LQG_nD',\n",
       "  'NpeetEstimator',\n",
       "  20,\n",
       "  5,\n",
       "  0.5,\n",
       "  'QfunctionFQI'): [(frozenset({0, 1, 2, 3, 4, 5, 6, 7}),\n",
       "   0.0,\n",
       "   18.484252208051014), ({0, 2, 3, 4, 5, 6, 7},\n",
       "   0.00019895485187150015,\n",
       "   18.484252208051014), ({0, 2, 3, 4, 5, 7},\n",
       "   0.00021030802624482376,\n",
       "   18.484252208051014), ({0, 3, 4, 5, 7},\n",
       "   0.0001986383297062007,\n",
       "   18.484252208051014), ({0, 3, 4, 5},\n",
       "   0.00022002165821018364,\n",
       "   21.960341530177413), ({0, 3, 5},\n",
       "   0.0002264376759166051,\n",
       "   26.149074650341007), ({0, 3}, 8.44849495771257, 28.706023725462185), ({3},\n",
       "   48.81758414935371,\n",
       "   45.85393743150524), (set(), 239.50158370869778, 81.61171243380234)],\n",
       " ('LQG_nD',\n",
       "  'NpeetEstimator',\n",
       "  20,\n",
       "  5,\n",
       "  0.9,\n",
       "  'QfunctionFQI'): [(frozenset({0, 1, 2, 3, 4, 5, 6, 7}),\n",
       "   0.0,\n",
       "   1746.362573813127), ({0, 2, 3, 4, 5, 6, 7},\n",
       "   24.210292991375155,\n",
       "   1746.362573813127), ({0, 2, 3, 4, 5, 7},\n",
       "   23.500250352786907,\n",
       "   1746.362573813127), ({0, 3, 4, 5, 7},\n",
       "   29.288049658828445,\n",
       "   1746.362573813127), ({0, 3, 4, 5},\n",
       "   35.99119240237506,\n",
       "   1766.6351267397683), ({0,\n",
       "    3,\n",
       "    5}, 43.93416733656596, 1791.0638182965622), ({0, 3},\n",
       "   162.87377778666712,\n",
       "   1805.975945302669), ({0}, 342.4792191314461, 1907.113266072839), (set(),\n",
       "   725.637803748522,\n",
       "   2064.6028802429128)],\n",
       " ('LQG_nD',\n",
       "  'NpeetEstimator',\n",
       "  20,\n",
       "  20,\n",
       "  0.5,\n",
       "  'QfunctionFQI'): [(frozenset({0, 1, 2, 3, 4, 5, 6, 7}),\n",
       "   0.0,\n",
       "   0.0005796741871854616), ({0, 2, 3, 4, 5, 6, 7},\n",
       "   0.00019895485187150015,\n",
       "   0.0005796741871854616), ({0, 2, 3, 4, 5, 7},\n",
       "   0.00021030802624482376,\n",
       "   0.0005796741871854616), ({0, 2, 3, 4, 5},\n",
       "   0.00020683082459966622,\n",
       "   0.0008122896266930296), ({0, 2, 4, 5},\n",
       "   0.0002168864553592102,\n",
       "   0.09992780211528615), ({0, 4, 5},\n",
       "   0.00023195858220950485,\n",
       "   1.6783840574627682), ({4, 5},\n",
       "   0.0003196608950017369,\n",
       "   12.528088291538253), ({5}, 0.00047367954523226625, 61.918036256874295), (set(),\n",
       "   239.50158370869778,\n",
       "   112.5081906325265)],\n",
       " ('LQG_nD',\n",
       "  'NpeetEstimator',\n",
       "  20,\n",
       "  20,\n",
       "  0.9,\n",
       "  'QfunctionFQI'): [(frozenset({0, 1, 2, 3, 4, 5, 6, 7}),\n",
       "   0.0,\n",
       "   369.49117333938244), ({0, 2, 3, 4, 5, 6, 7},\n",
       "   24.210292991375155,\n",
       "   369.49117333938244), ({0, 2, 3, 4, 5, 7},\n",
       "   23.500250352786907,\n",
       "   369.49117333938244), ({0, 2, 3, 4, 5},\n",
       "   29.255595734566587,\n",
       "   372.3160443293451), ({0, 3, 4, 5},\n",
       "   35.99119240237506,\n",
       "   404.22384850051907), ({0, 3, 4}, 37.30092745956816, 461.5473474637465), ({0,\n",
       "    3},\n",
       "   162.87377778666712,\n",
       "   496.3650057751159), ({0}, 342.4792191314461, 638.3717954191208), (set(),\n",
       "   725.637803748522,\n",
       "   864.1643713300863)],\n",
       " ('LQG_nD',\n",
       "  'NpeetEstimator',\n",
       "  30,\n",
       "  5,\n",
       "  0.5,\n",
       "  'QfunctionFQI'): [(frozenset({0, 1, 2, 3, 4, 5, 6, 7}),\n",
       "   0.0,\n",
       "   18.484252208051014), ({0, 1, 3, 4, 5, 6, 7},\n",
       "   6.277042550374386e-05,\n",
       "   18.484252208051014), ({0, 1, 3, 5, 6, 7},\n",
       "   0.00013345367759674836,\n",
       "   21.685405235693697), ({0, 1, 3, 5, 6},\n",
       "   0.0001406259791102304,\n",
       "   24.559639635750493), ({0, 1, 3, 5},\n",
       "   0.00015529970459271996,\n",
       "   25.49880965179295), ({0, 3, 5},\n",
       "   0.0002264376759166051,\n",
       "   31.19074680676894), ({0, 3}, 8.44849495771257, 38.326799256934336), ({0},\n",
       "   43.140848585609334,\n",
       "   87.24453184298297), (set(), 239.50158370869778, 181.7583014789559)],\n",
       " ('LQG_nD',\n",
       "  'NpeetEstimator',\n",
       "  30,\n",
       "  5,\n",
       "  0.9,\n",
       "  'QfunctionFQI'): [(frozenset({0, 1, 2, 3, 4, 5, 6, 7}),\n",
       "   0.0,\n",
       "   1746.362573813127), ({0, 1, 3, 4, 5, 6, 7},\n",
       "   17.98646419226106,\n",
       "   1746.362573813127), ({0, 1, 3, 4, 5, 6},\n",
       "   22.318374258663745,\n",
       "   1759.9574370031755), ({0, 1, 3, 4, 5},\n",
       "   25.11356634396775,\n",
       "   1780.7483060901932), ({0, 1, 3, 5},\n",
       "   27.55856678491067,\n",
       "   1808.6673729059291), ({0, 3, 5},\n",
       "   43.93416733656596,\n",
       "   1831.2153227244987), ({0, 5}, 52.53134266211613, 1897.077906475422), ({5},\n",
       "   61.92986110858176,\n",
       "   2008.9835017050273), (set(), 725.637803748522, 2089.662044173226)],\n",
       " ('LQG_nD',\n",
       "  'NpeetEstimator',\n",
       "  30,\n",
       "  20,\n",
       "  0.5,\n",
       "  'QfunctionFQI'): [(frozenset({0, 1, 2, 3, 4, 5, 6, 7}),\n",
       "   0.0,\n",
       "   0.0005796741871854616), ({0, 1, 3, 4, 5, 6, 7},\n",
       "   6.277042550374386e-05,\n",
       "   0.16571641789315877), ({0, 1, 3, 5, 6, 7},\n",
       "   0.00013345367759674836,\n",
       "   4.209435472685617), ({0, 1, 3, 5, 6},\n",
       "   0.0001406259791102304,\n",
       "   7.425832195970272), ({0, 1, 3, 5},\n",
       "   0.00015529970459271996,\n",
       "   8.456096744065505), ({0, 3, 5},\n",
       "   0.0002264376759166051,\n",
       "   14.148660345721481), ({0, 3}, 8.44849495771257, 21.314921816753554), ({0},\n",
       "   43.140848585609334,\n",
       "   70.26879792095447), (set(), 239.50158370869778, 166.59493050174328)],\n",
       " ('LQG_nD',\n",
       "  'NpeetEstimator',\n",
       "  30,\n",
       "  20,\n",
       "  0.9,\n",
       "  'QfunctionFQI'): [(frozenset({0, 1, 2, 3, 4, 5, 6, 7}),\n",
       "   0.0,\n",
       "   369.49117333938244), ({0, 1, 2, 3, 4, 5, 7},\n",
       "   9.505195022780358,\n",
       "   398.9722027439807), ({0, 1, 3, 4, 5, 7},\n",
       "   19.608741007092107,\n",
       "   434.9667036581987), ({0, 1, 3, 4, 5},\n",
       "   25.11356634396775,\n",
       "   475.5588146693311), ({0, 3, 4, 5},\n",
       "   35.99119240237506,\n",
       "   541.3699154005617), ({0, 3, 5}, 43.93416733656596, 612.0816213518874), ({0,\n",
       "    3},\n",
       "   162.87377778666712,\n",
       "   668.605957863307), ({0}, 342.4792191314461, 784.3151886440797), (set(),\n",
       "   725.637803748522,\n",
       "   1017.2219577860171)]}"
      ]
     },
     "execution_count": 4,
     "metadata": {},
     "output_type": "execute_result"
    }
   ],
   "source": [
    "bv.run(verbose=2, filename=None)"
   ]
  }
 ],
 "metadata": {
  "kernelspec": {
   "display_name": "feature_sel",
   "language": "python",
   "name": "feature_sel"
  },
  "language_info": {
   "codemirror_mode": {
    "name": "ipython",
    "version": 3
   },
   "file_extension": ".py",
   "mimetype": "text/x-python",
   "name": "python",
   "nbconvert_exporter": "python",
   "pygments_lexer": "ipython3",
   "version": "3.7.4"
  }
 },
 "nbformat": 4,
 "nbformat_minor": 2
}
