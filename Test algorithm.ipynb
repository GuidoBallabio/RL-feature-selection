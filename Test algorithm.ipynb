{
 "cells": [
  {
   "cell_type": "markdown",
   "metadata": {},
   "source": [
    "# Test of bound and algorithm"
   ]
  },
  {
   "cell_type": "code",
   "execution_count": 2,
   "metadata": {},
   "outputs": [],
   "source": [
    "import numpy as np\n",
    "import gym"
   ]
  },
  {
   "cell_type": "code",
   "execution_count": 23,
   "metadata": {},
   "outputs": [],
   "source": [
    "%load_ext autoreload\n",
    "%autoreload 2"
   ]
  },
  {
   "cell_type": "code",
   "execution_count": 36,
   "metadata": {},
   "outputs": [],
   "source": [
    "from src.algorithm.backward_feature_selection import BackwardFeatureSelector\n",
    "from src.algorithm.info_theory.entropy import LeveOneOutEntropyEstimator, NNEntropyEstimator\n",
    "from src.wenvs import WrapperEnv\n",
    "from src.algorithm.utils import episodes_with_len"
   ]
  },
  {
   "cell_type": "code",
   "execution_count": 4,
   "metadata": {},
   "outputs": [],
   "source": [
    "est = NNEntropyEstimator()"
   ]
  },
  {
   "cell_type": "code",
   "execution_count": 5,
   "metadata": {},
   "outputs": [],
   "source": [
    "env = gym.make('CartPole-v1')\n",
    "env = WrapperEnv(env, continuous_state=True)\n",
    "wenv = WrapperEnv(env, n_fake_features=1, n_fake_actions=1, continuous_state=True)\n",
    "wenv.seed(0)\n",
    "\n",
    "k = 10\n",
    "num_ep = 1000\n",
    "trajectories = episodes_with_len(wenv, num_ep, k)"
   ]
  },
  {
   "cell_type": "code",
   "execution_count": 9,
   "metadata": {},
   "outputs": [
    {
     "data": {
      "application/vnd.jupyter.widget-view+json": {
       "model_id": "c2a50e4aa370443898309d019085738e",
       "version_major": 2,
       "version_minor": 0
      },
      "text/plain": [
       "HBox(children=(IntProgress(value=0), HTML(value='')))"
      ]
     },
     "metadata": {},
     "output_type": "display_data"
    },
    {
     "data": {
      "application/vnd.jupyter.widget-view+json": {
       "model_id": "",
       "version_major": 2,
       "version_minor": 0
      },
      "text/plain": [
       "HBox(children=(IntProgress(value=0, max=7), HTML(value='')))"
      ]
     },
     "metadata": {},
     "output_type": "display_data"
    },
    {
     "data": {
      "application/vnd.jupyter.widget-view+json": {
       "model_id": "",
       "version_major": 2,
       "version_minor": 0
      },
      "text/plain": [
       "HBox(children=(IntProgress(value=0, max=6), HTML(value='')))"
      ]
     },
     "metadata": {},
     "output_type": "display_data"
    },
    {
     "data": {
      "application/vnd.jupyter.widget-view+json": {
       "model_id": "",
       "version_major": 2,
       "version_minor": 0
      },
      "text/plain": [
       "HBox(children=(IntProgress(value=0, max=5), HTML(value='')))"
      ]
     },
     "metadata": {},
     "output_type": "display_data"
    },
    {
     "data": {
      "application/vnd.jupyter.widget-view+json": {
       "model_id": "",
       "version_major": 2,
       "version_minor": 0
      },
      "text/plain": [
       "HBox(children=(IntProgress(value=0, max=4), HTML(value='')))"
      ]
     },
     "metadata": {},
     "output_type": "display_data"
    },
    {
     "data": {
      "text/plain": [
       "({1, 3, 4, 6}, 0.9224154806901057)"
      ]
     },
     "execution_count": 9,
     "metadata": {},
     "output_type": "execute_result"
    }
   ],
   "source": [
    "fs = BackwardFeatureSelector(est, trajectories)\n",
    "fs.selectOnError(k, 0.9, 1)"
   ]
  },
  {
   "cell_type": "code",
   "execution_count": 10,
   "metadata": {},
   "outputs": [
    {
     "data": {
      "text/plain": [
       "0.9224154806901057"
      ]
     },
     "execution_count": 10,
     "metadata": {},
     "output_type": "execute_result"
    }
   ],
   "source": [
    "fs.computeError()"
   ]
  },
  {
   "cell_type": "markdown",
   "metadata": {},
   "source": [
    "## LQG n-dim"
   ]
  },
  {
   "cell_type": "code",
   "execution_count": 5,
   "metadata": {},
   "outputs": [],
   "source": [
    "from src.envs import lqgNdim"
   ]
  },
  {
   "cell_type": "code",
   "execution_count": 12,
   "metadata": {},
   "outputs": [],
   "source": [
    "env = lqgNdim.LQG_nD(0.9, n_dim=2)\n",
    "wenv = WrapperEnv(env, continuous_state=True, continuous_actions=True)"
   ]
  },
  {
   "cell_type": "code",
   "execution_count": 13,
   "metadata": {},
   "outputs": [],
   "source": [
    "hist = wenv.run_episode(render=True)\n",
    "wenv.close()"
   ]
  },
  {
   "cell_type": "code",
   "execution_count": 14,
   "metadata": {},
   "outputs": [],
   "source": [
    "K = env.computeOptimalK()\n",
    "pi_opt = lambda x: np.clip(K@x, -env.max_action, env.max_action)"
   ]
  },
  {
   "cell_type": "code",
   "execution_count": 15,
   "metadata": {},
   "outputs": [
    {
     "data": {
      "text/plain": [
       "-85.7677713276748"
      ]
     },
     "execution_count": 15,
     "metadata": {},
     "output_type": "execute_result"
    }
   ],
   "source": [
    "hist = wenv.run_episode(policy=pi_opt, render=True)\n",
    "wenv.close()\n",
    "hist[2].sum()"
   ]
  },
  {
   "cell_type": "markdown",
   "metadata": {},
   "source": [
    "## Infinite CartPole"
   ]
  },
  {
   "cell_type": "code",
   "execution_count": 16,
   "metadata": {},
   "outputs": [],
   "source": [
    "from src.envs import cartpole"
   ]
  },
  {
   "cell_type": "code",
   "execution_count": 17,
   "metadata": {},
   "outputs": [],
   "source": [
    "env = cartpole.CartPoleInfinite()\n",
    "wenv = WrapperEnv(env, continuous_state=True)"
   ]
  },
  {
   "cell_type": "code",
   "execution_count": 27,
   "metadata": {},
   "outputs": [],
   "source": [
    "wenv.run_episode(render=True)\n",
    "wenv.close()"
   ]
  },
  {
   "cell_type": "markdown",
   "metadata": {},
   "source": [
    "## Real test"
   ]
  },
  {
   "cell_type": "code",
   "execution_count": 6,
   "metadata": {},
   "outputs": [],
   "source": [
    "env = lqgNdim.LQG_nD(0.9, n_dim=2)\n",
    "wenv = WrapperEnv(env, continuous_state=True, continuous_actions=True)"
   ]
  },
  {
   "cell_type": "code",
   "execution_count": 7,
   "metadata": {},
   "outputs": [],
   "source": [
    "np.random.seed(0)\n",
    "wenv.seed(0)\n",
    "\n",
    "k = 20\n",
    "num_ep = 1000\n",
    "trajectories = episodes_with_len(wenv, num_ep, k)"
   ]
  },
  {
   "cell_type": "code",
   "execution_count": 8,
   "metadata": {},
   "outputs": [],
   "source": [
    "fs = BackwardFeatureSelector(est, trajectories)"
   ]
  },
  {
   "cell_type": "code",
   "execution_count": 31,
   "metadata": {},
   "outputs": [
    {
     "data": {
      "application/vnd.jupyter.widget-view+json": {
       "model_id": "cd48e6e43c854fa883e9fbfddc9b0fb8",
       "version_major": 2,
       "version_minor": 0
      },
      "text/plain": [
       "HBox(children=(IntProgress(value=0, max=4), HTML(value='')))"
      ]
     },
     "metadata": {},
     "output_type": "display_data"
    },
    {
     "data": {
      "application/vnd.jupyter.widget-view+json": {
       "model_id": "",
       "version_major": 2,
       "version_minor": 0
      },
      "text/plain": [
       "HBox(children=(IntProgress(value=0, max=4), HTML(value='')))"
      ]
     },
     "metadata": {},
     "output_type": "display_data"
    },
    {
     "name": "stdout",
     "output_type": "stream",
     "text": [
      "{0, 1, 2} 279.3653845306717\n"
     ]
    },
    {
     "data": {
      "application/vnd.jupyter.widget-view+json": {
       "model_id": "",
       "version_major": 2,
       "version_minor": 0
      },
      "text/plain": [
       "HBox(children=(IntProgress(value=0, max=3), HTML(value='')))"
      ]
     },
     "metadata": {},
     "output_type": "display_data"
    },
    {
     "name": "stdout",
     "output_type": "stream",
     "text": [
      "{0, 1} 577.8104948625996\n"
     ]
    },
    {
     "data": {
      "application/vnd.jupyter.widget-view+json": {
       "model_id": "",
       "version_major": 2,
       "version_minor": 0
      },
      "text/plain": [
       "HBox(children=(IntProgress(value=0, max=2), HTML(value='')))"
      ]
     },
     "metadata": {},
     "output_type": "display_data"
    },
    {
     "name": "stdout",
     "output_type": "stream",
     "text": [
      "{0} 1095.7883801490254\n"
     ]
    },
    {
     "data": {
      "application/vnd.jupyter.widget-view+json": {
       "model_id": "",
       "version_major": 2,
       "version_minor": 0
      },
      "text/plain": [
       "HBox(children=(IntProgress(value=0, max=1), HTML(value='')))"
      ]
     },
     "metadata": {},
     "output_type": "display_data"
    },
    {
     "name": "stdout",
     "output_type": "stream",
     "text": [
      "set() 1436.7654514784522\n"
     ]
    }
   ],
   "source": [
    "for S, err in fs.try_remove_all(k, 0.9):\n",
    "    print(S, err)"
   ]
  },
  {
   "cell_type": "code",
   "execution_count": 25,
   "metadata": {},
   "outputs": [],
   "source": [
    "Q = np.diag([0.9, 0.9, 0.1, 0.1])\n",
    "R = Q.copy()\n",
    "env = lqgNdim.LQG_nD(0.9, n_dim=4, Q=Q, R=R)\n",
    "wenv = WrapperEnv(env, continuous_state=True, continuous_actions=True)"
   ]
  },
  {
   "cell_type": "code",
   "execution_count": 18,
   "metadata": {},
   "outputs": [],
   "source": [
    "np.random.seed(0)\n",
    "wenv.seed(0)\n",
    "\n",
    "k = 20\n",
    "num_ep = 1000\n",
    "trajectories = episodes_with_len(wenv, num_ep, k)"
   ]
  },
  {
   "cell_type": "code",
   "execution_count": 19,
   "metadata": {},
   "outputs": [],
   "source": [
    "fs = BackwardFeatureSelector(est, trajectories)"
   ]
  },
  {
   "cell_type": "code",
   "execution_count": 35,
   "metadata": {},
   "outputs": [
    {
     "data": {
      "application/vnd.jupyter.widget-view+json": {
       "model_id": "277c8e4160e44d9da6ca98a49590cf29",
       "version_major": 2,
       "version_minor": 0
      },
      "text/plain": [
       "HBox(children=(IntProgress(value=0, max=8), HTML(value='')))"
      ]
     },
     "metadata": {},
     "output_type": "display_data"
    },
    {
     "data": {
      "application/vnd.jupyter.widget-view+json": {
       "model_id": "",
       "version_major": 2,
       "version_minor": 0
      },
      "text/plain": [
       "HBox(children=(IntProgress(value=0, max=8), HTML(value='')))"
      ]
     },
     "metadata": {},
     "output_type": "display_data"
    },
    {
     "name": "stdout",
     "output_type": "stream",
     "text": [
      "{0, 1, 2, 3, 4, 5, 6} 117.30383130660906\n"
     ]
    },
    {
     "data": {
      "application/vnd.jupyter.widget-view+json": {
       "model_id": "",
       "version_major": 2,
       "version_minor": 0
      },
      "text/plain": [
       "HBox(children=(IntProgress(value=0, max=7), HTML(value='')))"
      ]
     },
     "metadata": {},
     "output_type": "display_data"
    },
    {
     "name": "stdout",
     "output_type": "stream",
     "text": [
      "{0, 1, 3, 4, 5, 6} 181.78509211359966\n"
     ]
    },
    {
     "data": {
      "application/vnd.jupyter.widget-view+json": {
       "model_id": "",
       "version_major": 2,
       "version_minor": 0
      },
      "text/plain": [
       "HBox(children=(IntProgress(value=0, max=6), HTML(value='')))"
      ]
     },
     "metadata": {},
     "output_type": "display_data"
    },
    {
     "name": "stdout",
     "output_type": "stream",
     "text": [
      "{0, 1, 3, 5, 6} 259.49585172711676\n"
     ]
    },
    {
     "data": {
      "application/vnd.jupyter.widget-view+json": {
       "model_id": "",
       "version_major": 2,
       "version_minor": 0
      },
      "text/plain": [
       "HBox(children=(IntProgress(value=0, max=5), HTML(value='')))"
      ]
     },
     "metadata": {},
     "output_type": "display_data"
    },
    {
     "name": "stdout",
     "output_type": "stream",
     "text": [
      "{0, 1, 3, 6} 340.2697462808104\n"
     ]
    },
    {
     "data": {
      "application/vnd.jupyter.widget-view+json": {
       "model_id": "",
       "version_major": 2,
       "version_minor": 0
      },
      "text/plain": [
       "HBox(children=(IntProgress(value=0, max=4), HTML(value='')))"
      ]
     },
     "metadata": {},
     "output_type": "display_data"
    },
    {
     "name": "stdout",
     "output_type": "stream",
     "text": [
      "{0, 1, 3} 456.6661504300719\n"
     ]
    },
    {
     "data": {
      "application/vnd.jupyter.widget-view+json": {
       "model_id": "",
       "version_major": 2,
       "version_minor": 0
      },
      "text/plain": [
       "HBox(children=(IntProgress(value=0, max=3), HTML(value='')))"
      ]
     },
     "metadata": {},
     "output_type": "display_data"
    },
    {
     "name": "stdout",
     "output_type": "stream",
     "text": [
      "{0, 3} 648.9755061740755\n"
     ]
    },
    {
     "data": {
      "application/vnd.jupyter.widget-view+json": {
       "model_id": "",
       "version_major": 2,
       "version_minor": 0
      },
      "text/plain": [
       "HBox(children=(IntProgress(value=0, max=2), HTML(value='')))"
      ]
     },
     "metadata": {},
     "output_type": "display_data"
    },
    {
     "name": "stdout",
     "output_type": "stream",
     "text": [
      "{0} 1082.352247294386\n"
     ]
    },
    {
     "data": {
      "application/vnd.jupyter.widget-view+json": {
       "model_id": "",
       "version_major": 2,
       "version_minor": 0
      },
      "text/plain": [
       "HBox(children=(IntProgress(value=0, max=1), HTML(value='')))"
      ]
     },
     "metadata": {},
     "output_type": "display_data"
    },
    {
     "name": "stdout",
     "output_type": "stream",
     "text": [
      "set() 1089.3974225722643\n"
     ]
    }
   ],
   "source": [
    "for S, err in fs.try_remove_all(k, 0.9):\n",
    "    print(S, err)"
   ]
  },
  {
   "cell_type": "code",
   "execution_count": 34,
   "metadata": {},
   "outputs": [
    {
     "data": {
      "application/vnd.jupyter.widget-view+json": {
       "model_id": "2e932c6064284fb89f9a9f24e2efeaff",
       "version_major": 2,
       "version_minor": 0
      },
      "text/plain": [
       "HBox(children=(IntProgress(value=0, max=7), HTML(value='')))"
      ]
     },
     "metadata": {},
     "output_type": "display_data"
    },
    {
     "data": {
      "application/vnd.jupyter.widget-view+json": {
       "model_id": "",
       "version_major": 2,
       "version_minor": 0
      },
      "text/plain": [
       "HBox(children=(IntProgress(value=0, max=8), HTML(value='')))"
      ]
     },
     "metadata": {},
     "output_type": "display_data"
    },
    {
     "data": {
      "application/vnd.jupyter.widget-view+json": {
       "model_id": "",
       "version_major": 2,
       "version_minor": 0
      },
      "text/plain": [
       "HBox(children=(IntProgress(value=0, max=7), HTML(value='')))"
      ]
     },
     "metadata": {},
     "output_type": "display_data"
    },
    {
     "data": {
      "application/vnd.jupyter.widget-view+json": {
       "model_id": "",
       "version_major": 2,
       "version_minor": 0
      },
      "text/plain": [
       "HBox(children=(IntProgress(value=0, max=6), HTML(value='')))"
      ]
     },
     "metadata": {},
     "output_type": "display_data"
    },
    {
     "data": {
      "application/vnd.jupyter.widget-view+json": {
       "model_id": "",
       "version_major": 2,
       "version_minor": 0
      },
      "text/plain": [
       "HBox(children=(IntProgress(value=0, max=5), HTML(value='')))"
      ]
     },
     "metadata": {},
     "output_type": "display_data"
    },
    {
     "data": {
      "application/vnd.jupyter.widget-view+json": {
       "model_id": "",
       "version_major": 2,
       "version_minor": 0
      },
      "text/plain": [
       "HBox(children=(IntProgress(value=0, max=4), HTML(value='')))"
      ]
     },
     "metadata": {},
     "output_type": "display_data"
    },
    {
     "data": {
      "application/vnd.jupyter.widget-view+json": {
       "model_id": "",
       "version_major": 2,
       "version_minor": 0
      },
      "text/plain": [
       "HBox(children=(IntProgress(value=0, max=3), HTML(value='')))"
      ]
     },
     "metadata": {},
     "output_type": "display_data"
    },
    {
     "data": {
      "application/vnd.jupyter.widget-view+json": {
       "model_id": "",
       "version_major": 2,
       "version_minor": 0
      },
      "text/plain": [
       "HBox(children=(IntProgress(value=0, max=2), HTML(value='')))"
      ]
     },
     "metadata": {},
     "output_type": "display_data"
    },
    {
     "data": {
      "text/plain": [
       "({0}, 1082.352247294386)"
      ]
     },
     "execution_count": 34,
     "metadata": {},
     "output_type": "execute_result"
    }
   ],
   "source": [
    "fs.selectNfeatures(1, k, 0.9)"
   ]
  },
  {
   "cell_type": "code",
   "execution_count": 33,
   "metadata": {},
   "outputs": [
    {
     "data": {
      "application/vnd.jupyter.widget-view+json": {
       "model_id": "aaa36933f2e249fdb4987e6355e200d6",
       "version_major": 2,
       "version_minor": 0
      },
      "text/plain": [
       "HBox(children=(IntProgress(value=0, max=8), HTML(value='')))"
      ]
     },
     "metadata": {},
     "output_type": "display_data"
    },
    {
     "data": {
      "application/vnd.jupyter.widget-view+json": {
       "model_id": "",
       "version_major": 2,
       "version_minor": 0
      },
      "text/plain": [
       "HBox(children=(IntProgress(value=0, max=8), HTML(value='')))"
      ]
     },
     "metadata": {},
     "output_type": "display_data"
    },
    {
     "name": "stdout",
     "output_type": "stream",
     "text": [
      "{0, 1, 2, 3, 4, 5, 6} 51.914792844858574\n"
     ]
    },
    {
     "data": {
      "application/vnd.jupyter.widget-view+json": {
       "model_id": "",
       "version_major": 2,
       "version_minor": 0
      },
      "text/plain": [
       "HBox(children=(IntProgress(value=0, max=7), HTML(value='')))"
      ]
     },
     "metadata": {},
     "output_type": "display_data"
    },
    {
     "name": "stdout",
     "output_type": "stream",
     "text": [
      "{0, 1, 3, 4, 5, 6} 79.75722079758164\n"
     ]
    },
    {
     "data": {
      "application/vnd.jupyter.widget-view+json": {
       "model_id": "",
       "version_major": 2,
       "version_minor": 0
      },
      "text/plain": [
       "HBox(children=(IntProgress(value=0, max=6), HTML(value='')))"
      ]
     },
     "metadata": {},
     "output_type": "display_data"
    },
    {
     "name": "stdout",
     "output_type": "stream",
     "text": [
      "{0, 1, 4, 5, 6} 114.07728580689876\n"
     ]
    },
    {
     "data": {
      "application/vnd.jupyter.widget-view+json": {
       "model_id": "",
       "version_major": 2,
       "version_minor": 0
      },
      "text/plain": [
       "HBox(children=(IntProgress(value=0, max=5), HTML(value='')))"
      ]
     },
     "metadata": {},
     "output_type": "display_data"
    },
    {
     "name": "stdout",
     "output_type": "stream",
     "text": [
      "{0, 1, 4, 5} 148.08680117143035\n"
     ]
    },
    {
     "data": {
      "application/vnd.jupyter.widget-view+json": {
       "model_id": "",
       "version_major": 2,
       "version_minor": 0
      },
      "text/plain": [
       "HBox(children=(IntProgress(value=0, max=4), HTML(value='')))"
      ]
     },
     "metadata": {},
     "output_type": "display_data"
    },
    {
     "name": "stdout",
     "output_type": "stream",
     "text": [
      "{0, 1, 5} 211.1113889293652\n"
     ]
    },
    {
     "data": {
      "application/vnd.jupyter.widget-view+json": {
       "model_id": "",
       "version_major": 2,
       "version_minor": 0
      },
      "text/plain": [
       "HBox(children=(IntProgress(value=0, max=3), HTML(value='')))"
      ]
     },
     "metadata": {},
     "output_type": "display_data"
    },
    {
     "name": "stdout",
     "output_type": "stream",
     "text": [
      "{0, 1} 313.7885023453356\n"
     ]
    },
    {
     "data": {
      "application/vnd.jupyter.widget-view+json": {
       "model_id": "",
       "version_major": 2,
       "version_minor": 0
      },
      "text/plain": [
       "HBox(children=(IntProgress(value=0, max=2), HTML(value='')))"
      ]
     },
     "metadata": {},
     "output_type": "display_data"
    },
    {
     "name": "stdout",
     "output_type": "stream",
     "text": [
      "{0} 538.1767018348105\n"
     ]
    },
    {
     "data": {
      "application/vnd.jupyter.widget-view+json": {
       "model_id": "",
       "version_major": 2,
       "version_minor": 0
      },
      "text/plain": [
       "HBox(children=(IntProgress(value=0, max=1), HTML(value='')))"
      ]
     },
     "metadata": {},
     "output_type": "display_data"
    },
    {
     "name": "stdout",
     "output_type": "stream",
     "text": [
      "set() 538.8996027664483\n"
     ]
    }
   ],
   "source": [
    "for S, err in fs.try_remove_all(k, 0.5):\n",
    "    print(S, err)"
   ]
  },
  {
   "cell_type": "code",
   "execution_count": 32,
   "metadata": {},
   "outputs": [
    {
     "data": {
      "application/vnd.jupyter.widget-view+json": {
       "model_id": "5d76a37fcd714f5885f00fb5f22e639a",
       "version_major": 2,
       "version_minor": 0
      },
      "text/plain": [
       "HBox(children=(IntProgress(value=0, max=8), HTML(value='')))"
      ]
     },
     "metadata": {},
     "output_type": "display_data"
    },
    {
     "data": {
      "application/vnd.jupyter.widget-view+json": {
       "model_id": "",
       "version_major": 2,
       "version_minor": 0
      },
      "text/plain": [
       "HBox(children=(IntProgress(value=0, max=8), HTML(value='')))"
      ]
     },
     "metadata": {},
     "output_type": "display_data"
    },
    {
     "name": "stdout",
     "output_type": "stream",
     "text": [
      "{0, 1, 2, 3, 4, 5, 6} 583.9001904427909\n"
     ]
    },
    {
     "data": {
      "application/vnd.jupyter.widget-view+json": {
       "model_id": "",
       "version_major": 2,
       "version_minor": 0
      },
      "text/plain": [
       "HBox(children=(IntProgress(value=0, max=7), HTML(value='')))"
      ]
     },
     "metadata": {},
     "output_type": "display_data"
    },
    {
     "name": "stdout",
     "output_type": "stream",
     "text": [
      "{0, 1, 2, 3, 4, 6} 896.0029472496045\n"
     ]
    },
    {
     "data": {
      "application/vnd.jupyter.widget-view+json": {
       "model_id": "",
       "version_major": 2,
       "version_minor": 0
      },
      "text/plain": [
       "HBox(children=(IntProgress(value=0, max=6), HTML(value='')))"
      ]
     },
     "metadata": {},
     "output_type": "display_data"
    },
    {
     "name": "stdout",
     "output_type": "stream",
     "text": [
      "{0, 1, 2, 3, 6} 1174.0242139219858\n"
     ]
    },
    {
     "data": {
      "application/vnd.jupyter.widget-view+json": {
       "model_id": "",
       "version_major": 2,
       "version_minor": 0
      },
      "text/plain": [
       "HBox(children=(IntProgress(value=0, max=5), HTML(value='')))"
      ]
     },
     "metadata": {},
     "output_type": "display_data"
    },
    {
     "name": "stdout",
     "output_type": "stream",
     "text": [
      "{0, 1, 2, 3} 1516.0411658471542\n"
     ]
    },
    {
     "data": {
      "application/vnd.jupyter.widget-view+json": {
       "model_id": "",
       "version_major": 2,
       "version_minor": 0
      },
      "text/plain": [
       "HBox(children=(IntProgress(value=0, max=4), HTML(value='')))"
      ]
     },
     "metadata": {},
     "output_type": "display_data"
    },
    {
     "name": "stdout",
     "output_type": "stream",
     "text": [
      "{0, 1, 3} 1946.0606606989038\n"
     ]
    },
    {
     "data": {
      "application/vnd.jupyter.widget-view+json": {
       "model_id": "",
       "version_major": 2,
       "version_minor": 0
      },
      "text/plain": [
       "HBox(children=(IntProgress(value=0, max=3), HTML(value='')))"
      ]
     },
     "metadata": {},
     "output_type": "display_data"
    },
    {
     "name": "stdout",
     "output_type": "stream",
     "text": [
      "{0, 3} 2601.5063898443227\n"
     ]
    },
    {
     "data": {
      "application/vnd.jupyter.widget-view+json": {
       "model_id": "",
       "version_major": 2,
       "version_minor": 0
      },
      "text/plain": [
       "HBox(children=(IntProgress(value=0, max=2), HTML(value='')))"
      ]
     },
     "metadata": {},
     "output_type": "display_data"
    },
    {
     "name": "stdout",
     "output_type": "stream",
     "text": [
      "{3} 3969.6318914849726\n"
     ]
    },
    {
     "data": {
      "application/vnd.jupyter.widget-view+json": {
       "model_id": "",
       "version_major": 2,
       "version_minor": 0
      },
      "text/plain": [
       "HBox(children=(IntProgress(value=0, max=1), HTML(value='')))"
      ]
     },
     "metadata": {},
     "output_type": "display_data"
    },
    {
     "name": "stdout",
     "output_type": "stream",
     "text": [
      "set() 4574.7674982023555\n"
     ]
    }
   ],
   "source": [
    "for S, err in fs.try_remove_all(k, 0.99):\n",
    "    print(S, err)"
   ]
  },
  {
   "cell_type": "code",
   "execution_count": 31,
   "metadata": {},
   "outputs": [
    {
     "data": {
      "application/vnd.jupyter.widget-view+json": {
       "model_id": "287328e1b0cb49539139093782a61572",
       "version_major": 2,
       "version_minor": 0
      },
      "text/plain": [
       "HBox(children=(IntProgress(value=0, max=8), HTML(value='')))"
      ]
     },
     "metadata": {},
     "output_type": "display_data"
    },
    {
     "data": {
      "application/vnd.jupyter.widget-view+json": {
       "model_id": "",
       "version_major": 2,
       "version_minor": 0
      },
      "text/plain": [
       "HBox(children=(IntProgress(value=0, max=8), HTML(value='')))"
      ]
     },
     "metadata": {},
     "output_type": "display_data"
    },
    {
     "name": "stdout",
     "output_type": "stream",
     "text": [
      "{0, 1, 2, 3, 4, 5, 6} 187.6434622534076\n"
     ]
    },
    {
     "data": {
      "application/vnd.jupyter.widget-view+json": {
       "model_id": "",
       "version_major": 2,
       "version_minor": 0
      },
      "text/plain": [
       "HBox(children=(IntProgress(value=0, max=7), HTML(value='')))"
      ]
     },
     "metadata": {},
     "output_type": "display_data"
    },
    {
     "name": "stdout",
     "output_type": "stream",
     "text": [
      "{0, 1, 3, 4, 5, 6} 291.6962315382681\n"
     ]
    },
    {
     "data": {
      "application/vnd.jupyter.widget-view+json": {
       "model_id": "",
       "version_major": 2,
       "version_minor": 0
      },
      "text/plain": [
       "HBox(children=(IntProgress(value=0, max=6), HTML(value='')))"
      ]
     },
     "metadata": {},
     "output_type": "display_data"
    },
    {
     "name": "stdout",
     "output_type": "stream",
     "text": [
      "{0, 1, 3, 5, 6} 402.72555485857214\n"
     ]
    },
    {
     "data": {
      "application/vnd.jupyter.widget-view+json": {
       "model_id": "",
       "version_major": 2,
       "version_minor": 0
      },
      "text/plain": [
       "HBox(children=(IntProgress(value=0, max=5), HTML(value='')))"
      ]
     },
     "metadata": {},
     "output_type": "display_data"
    },
    {
     "name": "stdout",
     "output_type": "stream",
     "text": [
      "{0, 1, 3, 6} 519.4343968275731\n"
     ]
    },
    {
     "data": {
      "application/vnd.jupyter.widget-view+json": {
       "model_id": "",
       "version_major": 2,
       "version_minor": 0
      },
      "text/plain": [
       "HBox(children=(IntProgress(value=0, max=4), HTML(value='')))"
      ]
     },
     "metadata": {},
     "output_type": "display_data"
    },
    {
     "name": "stdout",
     "output_type": "stream",
     "text": [
      "{0, 1, 3} 687.2046561792389\n"
     ]
    },
    {
     "data": {
      "application/vnd.jupyter.widget-view+json": {
       "model_id": "",
       "version_major": 2,
       "version_minor": 0
      },
      "text/plain": [
       "HBox(children=(IntProgress(value=0, max=3), HTML(value='')))"
      ]
     },
     "metadata": {},
     "output_type": "display_data"
    },
    {
     "name": "stdout",
     "output_type": "stream",
     "text": [
      "{0, 3} 958.612824955195\n"
     ]
    },
    {
     "data": {
      "application/vnd.jupyter.widget-view+json": {
       "model_id": "",
       "version_major": 2,
       "version_minor": 0
      },
      "text/plain": [
       "HBox(children=(IntProgress(value=0, max=2), HTML(value='')))"
      ]
     },
     "metadata": {},
     "output_type": "display_data"
    },
    {
     "name": "stdout",
     "output_type": "stream",
     "text": [
      "{0} 1564.821140483597\n"
     ]
    },
    {
     "data": {
      "application/vnd.jupyter.widget-view+json": {
       "model_id": "",
       "version_major": 2,
       "version_minor": 0
      },
      "text/plain": [
       "HBox(children=(IntProgress(value=0, max=1), HTML(value='')))"
      ]
     },
     "metadata": {},
     "output_type": "display_data"
    },
    {
     "name": "stdout",
     "output_type": "stream",
     "text": [
      "set() 1629.4139605823493\n"
     ]
    }
   ],
   "source": [
    "for S, err in fs.try_remove_all(k, 0.95):\n",
    "    print(S, err)"
   ]
  },
  {
   "cell_type": "code",
   "execution_count": 30,
   "metadata": {},
   "outputs": [
    {
     "data": {
      "application/vnd.jupyter.widget-view+json": {
       "model_id": "ba64445431a045478a38f41f583e072f",
       "version_major": 2,
       "version_minor": 0
      },
      "text/plain": [
       "HBox(children=(IntProgress(value=0, max=8), HTML(value='')))"
      ]
     },
     "metadata": {},
     "output_type": "display_data"
    },
    {
     "data": {
      "application/vnd.jupyter.widget-view+json": {
       "model_id": "",
       "version_major": 2,
       "version_minor": 0
      },
      "text/plain": [
       "HBox(children=(IntProgress(value=0, max=8), HTML(value='')))"
      ]
     },
     "metadata": {},
     "output_type": "display_data"
    },
    {
     "name": "stdout",
     "output_type": "stream",
     "text": [
      "{0, 1, 2, 3, 4, 5, 6} 163.4064735073718\n"
     ]
    },
    {
     "data": {
      "application/vnd.jupyter.widget-view+json": {
       "model_id": "",
       "version_major": 2,
       "version_minor": 0
      },
      "text/plain": [
       "HBox(children=(IntProgress(value=0, max=7), HTML(value='')))"
      ]
     },
     "metadata": {},
     "output_type": "display_data"
    },
    {
     "name": "stdout",
     "output_type": "stream",
     "text": [
      "{0, 1, 3, 4, 5, 6} 255.26201478317884\n"
     ]
    },
    {
     "data": {
      "application/vnd.jupyter.widget-view+json": {
       "model_id": "",
       "version_major": 2,
       "version_minor": 0
      },
      "text/plain": [
       "HBox(children=(IntProgress(value=0, max=6), HTML(value='')))"
      ]
     },
     "metadata": {},
     "output_type": "display_data"
    },
    {
     "name": "stdout",
     "output_type": "stream",
     "text": [
      "{0, 1, 3, 5, 6} 345.8307238397671\n"
     ]
    },
    {
     "data": {
      "application/vnd.jupyter.widget-view+json": {
       "model_id": "",
       "version_major": 2,
       "version_minor": 0
      },
      "text/plain": [
       "HBox(children=(IntProgress(value=0, max=5), HTML(value='')))"
      ]
     },
     "metadata": {},
     "output_type": "display_data"
    },
    {
     "name": "stdout",
     "output_type": "stream",
     "text": [
      "{0, 1, 3, 6} 441.309175432398\n"
     ]
    },
    {
     "data": {
      "application/vnd.jupyter.widget-view+json": {
       "model_id": "",
       "version_major": 2,
       "version_minor": 0
      },
      "text/plain": [
       "HBox(children=(IntProgress(value=0, max=4), HTML(value='')))"
      ]
     },
     "metadata": {},
     "output_type": "display_data"
    },
    {
     "name": "stdout",
     "output_type": "stream",
     "text": [
      "{0, 1, 3} 569.9589212828294\n"
     ]
    },
    {
     "data": {
      "application/vnd.jupyter.widget-view+json": {
       "model_id": "",
       "version_major": 2,
       "version_minor": 0
      },
      "text/plain": [
       "HBox(children=(IntProgress(value=0, max=3), HTML(value='')))"
      ]
     },
     "metadata": {},
     "output_type": "display_data"
    },
    {
     "name": "stdout",
     "output_type": "stream",
     "text": [
      "{0, 3} 775.4679063393768\n"
     ]
    },
    {
     "data": {
      "application/vnd.jupyter.widget-view+json": {
       "model_id": "",
       "version_major": 2,
       "version_minor": 0
      },
      "text/plain": [
       "HBox(children=(IntProgress(value=0, max=2), HTML(value='')))"
      ]
     },
     "metadata": {},
     "output_type": "display_data"
    },
    {
     "name": "stdout",
     "output_type": "stream",
     "text": [
      "{0} 1212.0335004601436\n"
     ]
    },
    {
     "data": {
      "application/vnd.jupyter.widget-view+json": {
       "model_id": "",
       "version_major": 2,
       "version_minor": 0
      },
      "text/plain": [
       "HBox(children=(IntProgress(value=0, max=1), HTML(value='')))"
      ]
     },
     "metadata": {},
     "output_type": "display_data"
    },
    {
     "name": "stdout",
     "output_type": "stream",
     "text": [
      "set() 1345.921490384106\n"
     ]
    }
   ],
   "source": [
    "for S, err in fs.try_remove_all(k-5, 0.9, sampling=\"decaying\", freq=50):\n",
    "    print(S, err)"
   ]
  },
  {
   "cell_type": "markdown",
   "metadata": {},
   "source": [
    "#### Subset enumeration"
   ]
  },
  {
   "cell_type": "code",
   "execution_count": 27,
   "metadata": {},
   "outputs": [],
   "source": [
    "from itertools import chain, combinations\n",
    "from tqdm import tqdm_notebook as tqdm\n",
    "allSet = fs.idSet\n",
    "powerset = set(chain.from_iterable(combinations(allSet, r) for r in range(len(s)+1)))"
   ]
  },
  {
   "cell_type": "code",
   "execution_count": 28,
   "metadata": {},
   "outputs": [
    {
     "data": {
      "application/vnd.jupyter.widget-view+json": {
       "model_id": "c238782c1fea4d398a426b76494d6eaa",
       "version_major": 2,
       "version_minor": 0
      },
      "text/plain": [
       "HBox(children=(IntProgress(value=0, max=256), HTML(value='')))"
      ]
     },
     "metadata": {},
     "output_type": "display_data"
    }
   ],
   "source": [
    "rank = [(S, fs.scoreSubset(k, 0.9, S)) for S in tqdm(powerset)]"
   ]
  },
  {
   "cell_type": "code",
   "execution_count": 29,
   "metadata": {},
   "outputs": [
    {
     "data": {
      "text/plain": [
       "[((), 1089.3974225722643),\n",
       " ((0,), 1082.352247294386),\n",
       " ((3,), 1083.8249920882338),\n",
       " ((2,), 1085.5915765804527),\n",
       " ((7,), 1089.2724531846934),\n",
       " ((1,), 1092.7190244502624),\n",
       " ((6,), 1094.5835200014633),\n",
       " ((4,), 1095.735421897282),\n",
       " ((5,), 1104.7245176531167),\n",
       " ((0, 3), 648.9755061740756),\n",
       " ((1, 2), 651.5971370858912),\n",
       " ((0, 1), 651.7327508168125),\n",
       " ((1, 3), 653.8745403702983),\n",
       " ((1, 5), 654.0341137895666),\n",
       " ((2, 3), 654.3105708128404),\n",
       " ((0, 4), 655.7946536333411),\n",
       " ((1, 6), 656.1583081825768),\n",
       " ((0, 5), 656.2106484500819),\n",
       " ((0, 2), 658.2633684707639),\n",
       " ((3, 7), 658.6541756291876),\n",
       " ((1, 7), 660.0239140728168),\n",
       " ((1, 4), 660.8979865329584),\n",
       " ((2, 4), 662.4814648081768),\n",
       " ((3, 5), 662.6147033599873),\n",
       " ((3, 4), 662.9638083511946),\n",
       " ((0, 6), 663.1039504917479),\n",
       " ((5, 7), 666.2494396448685),\n",
       " ((0, 7), 666.2947177060692),\n",
       " ((5, 6), 667.6999637670235),\n",
       " ((2, 7), 668.213540407104),\n",
       " ((2, 5), 668.2882546398574),\n",
       " ((6, 7), 668.5327440907607),\n",
       " ((4, 7), 668.6283363151284),\n",
       " ((3, 6), 670.4145358448559),\n",
       " ((4, 5), 670.4470070848599),\n",
       " ((4, 6), 672.1006031562752),\n",
       " ((2, 6), 676.8916222103891),\n",
       " ((0, 1, 5), 455.01832381683954),\n",
       " ((0, 1, 4), 456.56614312828606),\n",
       " ((0, 1, 3), 456.6661504300719),\n",
       " ((0, 1, 6), 459.9930466094995),\n",
       " ((0, 1, 2), 460.35535158743403),\n",
       " ((1, 4, 5), 464.4920221037384),\n",
       " ((0, 2, 4), 464.670747058194),\n",
       " ((0, 2, 3), 464.8216092532983),\n",
       " ((0, 2, 5), 465.5790275676782),\n",
       " ((0, 3, 5), 465.92136250688435),\n",
       " ((0, 3, 4), 466.10746324302033),\n",
       " ((0, 4, 5), 466.3545697367524),\n",
       " ((1, 3, 4), 467.5307700262724),\n",
       " ((0, 4, 6), 468.0407193575038),\n",
       " ((0, 5, 6), 468.0828915812906),\n",
       " ((1, 3, 5), 468.450802863068),\n",
       " ((0, 2, 6), 468.96221975063895),\n",
       " ((1, 5, 7), 468.9752263852732),\n",
       " ((1, 2, 3), 468.97941806874644),\n",
       " ((1, 3, 6), 469.00200870341854),\n",
       " ((0, 4, 7), 469.5226901248081),\n",
       " ((1, 2, 4), 469.5240914852933),\n",
       " ((0, 5, 7), 470.2775394833946),\n",
       " ((1, 4, 7), 470.7974623796774),\n",
       " ((1, 2, 5), 470.8334201801204),\n",
       " ((2, 3, 7), 472.94454818701513),\n",
       " ((1, 5, 6), 473.406719201434),\n",
       " ((3, 5, 7), 473.8707394611016),\n",
       " ((1, 2, 7), 474.1400140528006),\n",
       " ((1, 4, 6), 474.55286265905914),\n",
       " ((0, 1, 7), 474.6044610192734),\n",
       " ((2, 3, 6), 474.76746821950576),\n",
       " ((1, 2, 6), 474.81735013493744),\n",
       " ((3, 4, 5), 474.88635581314844),\n",
       " ((2, 3, 4), 474.9852958932765),\n",
       " ((0, 2, 7), 475.6426480994988),\n",
       " ((0, 3, 6), 475.96413378797104),\n",
       " ((2, 4, 5), 476.16180702741235),\n",
       " ((0, 3, 7), 476.3910074142135),\n",
       " ((2, 6, 7), 476.53222338047294),\n",
       " ((4, 5, 6), 476.55481656588586),\n",
       " ((3, 4, 7), 476.88704286274384),\n",
       " ((1, 3, 7), 477.2239133790289),\n",
       " ((2, 4, 7), 477.71046992042756),\n",
       " ((4, 5, 7), 478.2898497637808),\n",
       " ((3, 5, 6), 478.50702932283116),\n",
       " ((1, 6, 7), 478.5372458899964),\n",
       " ((2, 3, 5), 478.6478862379608),\n",
       " ((3, 4, 6), 479.684895035524),\n",
       " ((2, 4, 6), 480.167604247536),\n",
       " ((3, 6, 7), 480.57855707755516),\n",
       " ((0, 6, 7), 482.1258122156811),\n",
       " ((2, 5, 6), 482.1642510935441),\n",
       " ((5, 6, 7), 482.2204315564322),\n",
       " ((4, 6, 7), 484.26708811640424),\n",
       " ((2, 5, 7), 485.9415807538613),\n",
       " ((0, 1, 3, 4), 339.65350135567246),\n",
       " ((0, 1, 3, 6), 340.2697462808104),\n",
       " ((0, 1, 2, 5), 340.55102421580455),\n",
       " ((0, 1, 3, 5), 341.99377857928766),\n",
       " ((0, 1, 4, 5), 342.35845797020954),\n",
       " ((0, 1, 4, 6), 344.78288738943706),\n",
       " ((0, 1, 4, 7), 345.1191172068829),\n",
       " ((0, 2, 4, 5), 346.33891561262277),\n",
       " ((0, 1, 5, 6), 346.35214319271074),\n",
       " ((0, 4, 5, 6), 347.32629161819193),\n",
       " ((0, 2, 3, 4), 347.67771104881115),\n",
       " ((0, 1, 2, 3), 347.8571191799194),\n",
       " ((0, 2, 3, 5), 348.8344977930912),\n",
       " ((0, 1, 2, 4), 350.33194143426016),\n",
       " ((1, 4, 5, 7), 350.4292392310116),\n",
       " ((0, 1, 2, 6), 350.5022221660528),\n",
       " ((0, 1, 5, 7), 351.75679140405884),\n",
       " ((0, 1, 6, 7), 352.5168644882337),\n",
       " ((1, 2, 3, 4), 352.8694832524658),\n",
       " ((0, 2, 5, 6), 353.09045182807296),\n",
       " ((0, 3, 4, 7), 353.5149534527753),\n",
       " ((0, 3, 5, 6), 353.695887789616),\n",
       " ((2, 3, 6, 7), 353.73829913347396),\n",
       " ((0, 3, 4, 5), 353.8811534275896),\n",
       " ((0, 4, 5, 7), 354.1805116755664),\n",
       " ((0, 2, 4, 7), 354.23616849344774),\n",
       " ((1, 2, 4, 5), 354.5394924851527),\n",
       " ((0, 3, 6, 7), 354.55277972762104),\n",
       " ((1, 2, 6, 7), 354.9563281926733),\n",
       " ((0, 1, 3, 7), 355.19099287416935),\n",
       " ((0, 3, 4, 6), 355.20139866059685),\n",
       " ((1, 4, 5, 6), 355.67354945056434),\n",
       " ((0, 2, 6, 7), 356.26381931289563),\n",
       " ((1, 2, 4, 6), 356.27441995391314),\n",
       " ((1, 2, 5, 7), 356.8136444243886),\n",
       " ((1, 2, 3, 7), 357.5605700625592),\n",
       " ((0, 1, 2, 7), 357.5784436835428),\n",
       " ((0, 2, 3, 6), 357.62968616617115),\n",
       " ((0, 3, 5, 7), 358.2161816849823),\n",
       " ((0, 4, 6, 7), 358.38932283195044),\n",
       " ((2, 3, 4, 5), 358.4960424968843),\n",
       " ((1, 4, 6, 7), 359.0359401733549),\n",
       " ((1, 3, 4, 6), 359.10471588131185),\n",
       " ((0, 2, 3, 7), 359.6216748012311),\n",
       " ((1, 3, 4, 7), 359.7121870099223),\n",
       " ((2, 3, 5, 7), 360.0643961367964),\n",
       " ((1, 2, 4, 7), 360.16664801298685),\n",
       " ((1, 3, 5, 6), 360.2211080644077),\n",
       " ((2, 3, 4, 6), 360.3338360638573),\n",
       " ((1, 3, 4, 5), 360.58988285620285),\n",
       " ((1, 2, 3, 5), 360.61838791335975),\n",
       " ((1, 2, 5, 6), 361.194748809103),\n",
       " ((1, 3, 6, 7), 361.2391132998913),\n",
       " ((1, 3, 5, 7), 361.52189936758674),\n",
       " ((2, 4, 5, 6), 361.62262769159685),\n",
       " ((1, 2, 3, 6), 361.7467761507379),\n",
       " ((0, 2, 5, 7), 361.9066826524703),\n",
       " ((0, 5, 6, 7), 362.0523200510497),\n",
       " ((2, 3, 5, 6), 363.32688998742594),\n",
       " ((2, 4, 5, 7), 363.4389168500153),\n",
       " ((0, 2, 4, 6), 364.0423287389799),\n",
       " ((1, 5, 6, 7), 365.0498577566907),\n",
       " ((3, 4, 6, 7), 365.37449267101476),\n",
       " ((2, 3, 4, 7), 365.9660400484842),\n",
       " ((3, 4, 5, 7), 366.764514540373),\n",
       " ((4, 5, 6, 7), 366.79548623321034),\n",
       " ((3, 4, 5, 6), 368.359352053689),\n",
       " ((2, 4, 6, 7), 370.0330506044382),\n",
       " ((3, 5, 6, 7), 370.1995772230043),\n",
       " ((2, 5, 6, 7), 374.85127218960037),\n",
       " ((0, 1, 3, 5, 6), 259.4958517271168),\n",
       " ((0, 1, 3, 4, 6), 260.7823465672971),\n",
       " ((0, 1, 2, 3, 6), 260.84836292413866),\n",
       " ((0, 1, 4, 5, 7), 261.2576500469832),\n",
       " ((0, 1, 2, 3, 4), 261.5039017128549),\n",
       " ((0, 1, 2, 4, 5), 262.28349173263916),\n",
       " ((0, 1, 4, 5, 6), 262.86521918611504),\n",
       " ((0, 1, 2, 5, 6), 263.0269382287221),\n",
       " ((0, 1, 2, 5, 7), 263.6204695698233),\n",
       " ((0, 1, 3, 4, 5), 263.6461260249661),\n",
       " ((0, 1, 2, 3, 5), 263.74406497535796),\n",
       " ((0, 1, 3, 4, 7), 264.3255800049833),\n",
       " ((0, 1, 3, 5, 7), 264.6530182675001),\n",
       " ((0, 2, 4, 5, 6), 265.36301642490355),\n",
       " ((0, 1, 2, 6, 7), 266.79966601899207),\n",
       " ((0, 1, 5, 6, 7), 267.8657026638327),\n",
       " ((0, 4, 5, 6, 7), 268.312969315805),\n",
       " ((0, 2, 3, 4, 5), 269.33948164171994),\n",
       " ((1, 3, 4, 5, 6), 269.7105606334049),\n",
       " ((0, 1, 2, 4, 6), 270.0338022358665),\n",
       " ((0, 3, 4, 6, 7), 270.15775660471024),\n",
       " ((1, 2, 4, 5, 7), 270.181813366505),\n",
       " ((1, 2, 4, 6, 7), 270.523147885592),\n",
       " ((0, 1, 2, 4, 7), 270.84502262324554),\n",
       " ((0, 1, 4, 6, 7), 271.3005241141565),\n",
       " ((0, 1, 3, 6, 7), 272.2899185058488),\n",
       " ((0, 3, 4, 5, 6), 273.1757048935355),\n",
       " ((1, 2, 3, 6, 7), 273.70110858863114),\n",
       " ((1, 2, 3, 4, 6), 273.86638355148824),\n",
       " ((0, 2, 3, 6, 7), 274.0153180782459),\n",
       " ((1, 2, 3, 4, 5), 274.67101716371945),\n",
       " ((0, 2, 3, 4, 6), 274.746210725254),\n",
       " ((0, 3, 4, 5, 7), 275.1289022959564),\n",
       " ((1, 3, 4, 6, 7), 275.7011165312133),\n",
       " ((1, 2, 3, 5, 7), 275.85532866808217),\n",
       " ((1, 2, 3, 5, 6), 276.17193484259514),\n",
       " ((1, 2, 5, 6, 7), 276.34040387961113),\n",
       " ((1, 4, 5, 6, 7), 276.4729463989077),\n",
       " ((0, 2, 4, 5, 7), 276.50032062697625),\n",
       " ((0, 3, 5, 6, 7), 276.51370996142134),\n",
       " ((1, 2, 3, 4, 7), 277.2543841288031),\n",
       " ((0, 1, 2, 3, 7), 277.68523846423886),\n",
       " ((2, 3, 4, 6, 7), 277.9314470747936),\n",
       " ((0, 2, 3, 5, 7), 278.1479651195293),\n",
       " ((0, 2, 3, 4, 7), 278.5532182224261),\n",
       " ((0, 2, 5, 6, 7), 278.77200091700706),\n",
       " ((0, 2, 4, 6, 7), 279.17244669043714),\n",
       " ((2, 3, 4, 5, 7), 280.13517471255454),\n",
       " ((0, 2, 3, 5, 6), 280.18063683636547),\n",
       " ((1, 2, 4, 5, 6), 281.10028601853986),\n",
       " ((1, 3, 4, 5, 7), 282.3668056532491),\n",
       " ((2, 3, 4, 5, 6), 282.53692466258025),\n",
       " ((1, 3, 5, 6, 7), 284.90329684241334),\n",
       " ((2, 4, 5, 6, 7), 285.3890473723429),\n",
       " ((2, 3, 5, 6, 7), 285.75037657314294),\n",
       " ((3, 4, 5, 6, 7), 290.39180076827444),\n",
       " ((0, 1, 3, 4, 5, 6), 181.7850921135997),\n",
       " ((0, 1, 2, 4, 5, 6), 192.92145223602853),\n",
       " ((0, 1, 2, 4, 5, 7), 193.43545296118455),\n",
       " ((0, 1, 2, 3, 5, 6), 194.7560043008502),\n",
       " ((0, 1, 2, 3, 4, 6), 194.9397093999631),\n",
       " ((0, 1, 4, 5, 6, 7), 196.8350835141773),\n",
       " ((0, 1, 2, 3, 4, 5), 198.7765167980733),\n",
       " ((0, 1, 2, 5, 6, 7), 199.11096116324765),\n",
       " ((0, 1, 3, 4, 6, 7), 199.4837820856191),\n",
       " ((0, 1, 3, 4, 5, 7), 200.15001286453813),\n",
       " ((0, 1, 2, 3, 4, 7), 200.9428543978289),\n",
       " ((0, 2, 3, 4, 5, 6), 201.3962998090244),\n",
       " ((0, 1, 2, 3, 6, 7), 202.41463467389357),\n",
       " ((0, 3, 4, 5, 6, 7), 202.5095552366341),\n",
       " ((0, 1, 3, 5, 6, 7), 203.20602456041874),\n",
       " ((0, 1, 2, 3, 5, 7), 204.14413284847586),\n",
       " ((0, 2, 4, 5, 6, 7), 204.79837527604553),\n",
       " ((1, 2, 3, 4, 5, 6), 205.28267362035362),\n",
       " ((1, 2, 3, 4, 6, 7), 205.4513972397614),\n",
       " ((0, 2, 3, 4, 6, 7), 205.7788418001977),\n",
       " ((0, 1, 2, 4, 6, 7), 206.54937796782806),\n",
       " ((1, 2, 4, 5, 6, 7), 208.40619817966598),\n",
       " ((0, 2, 3, 5, 6, 7), 208.5981843514565),\n",
       " ((0, 2, 3, 4, 5, 7), 209.28881245316717),\n",
       " ((1, 2, 3, 4, 5, 7), 209.31781634101938),\n",
       " ((1, 3, 4, 5, 6, 7), 210.56233429495413),\n",
       " ((1, 2, 3, 5, 6, 7), 211.94734963190123),\n",
       " ((2, 3, 4, 5, 6, 7), 217.46799386981962),\n",
       " ((0, 1, 2, 3, 4, 5, 6), 117.30383130660906),\n",
       " ((0, 1, 3, 4, 5, 6, 7), 127.73192304240489),\n",
       " ((0, 2, 3, 4, 5, 6, 7), 133.82744204093856),\n",
       " ((0, 1, 2, 4, 5, 6, 7), 134.1101297398094),\n",
       " ((0, 1, 2, 3, 4, 5, 7), 134.35491536185614),\n",
       " ((0, 1, 2, 3, 4, 6, 7), 137.35504732001843),\n",
       " ((0, 1, 2, 3, 5, 6, 7), 138.66192645264073),\n",
       " ((1, 2, 3, 4, 5, 6, 7), 140.28046930209607),\n",
       " ((0, 1, 2, 3, 4, 5, 6, 7), 0.0)]"
      ]
     },
     "execution_count": 29,
     "metadata": {},
     "output_type": "execute_result"
    }
   ],
   "source": [
    "sorted(sorted(rank, key=lambda x: x[1]), key=lambda x: len(x[0]))"
   ]
  },
  {
   "cell_type": "markdown",
   "metadata": {},
   "source": [
    "### Test with optimal policy"
   ]
  },
  {
   "cell_type": "code",
   "execution_count": 8,
   "metadata": {},
   "outputs": [],
   "source": [
    "np.random.seed(0)\n",
    "wenv.seed(0)\n",
    "\n",
    "k = 20\n",
    "num_ep = 1000\n",
    "trajectories = episodes_with_len(wenv, num_ep, k, policy=env.optimalPolicy())"
   ]
  },
  {
   "cell_type": "code",
   "execution_count": 9,
   "metadata": {},
   "outputs": [],
   "source": [
    "fs = BackwardFeatureSelector(est, trajectories)"
   ]
  },
  {
   "cell_type": "code",
   "execution_count": 10,
   "metadata": {},
   "outputs": [
    {
     "data": {
      "application/vnd.jupyter.widget-view+json": {
       "model_id": "2ae9490606bc48bfb65eff6a11674dcb",
       "version_major": 2,
       "version_minor": 0
      },
      "text/plain": [
       "HBox(children=(IntProgress(value=0, max=8), HTML(value='')))"
      ]
     },
     "metadata": {},
     "output_type": "display_data"
    },
    {
     "data": {
      "application/vnd.jupyter.widget-view+json": {
       "model_id": "",
       "version_major": 2,
       "version_minor": 0
      },
      "text/plain": [
       "HBox(children=(IntProgress(value=0, max=8), HTML(value='')))"
      ]
     },
     "metadata": {},
     "output_type": "display_data"
    },
    {
     "name": "stdout",
     "output_type": "stream",
     "text": [
      "{0, 1, 2, 3, 4, 5, 6} 11.90474118124679\n"
     ]
    },
    {
     "data": {
      "application/vnd.jupyter.widget-view+json": {
       "model_id": "",
       "version_major": 2,
       "version_minor": 0
      },
      "text/plain": [
       "HBox(children=(IntProgress(value=0, max=7), HTML(value='')))"
      ]
     },
     "metadata": {},
     "output_type": "display_data"
    },
    {
     "name": "stdout",
     "output_type": "stream",
     "text": [
      "{0, 1, 2, 3, 4, 5} 19.433641233189626\n"
     ]
    },
    {
     "data": {
      "application/vnd.jupyter.widget-view+json": {
       "model_id": "",
       "version_major": 2,
       "version_minor": 0
      },
      "text/plain": [
       "HBox(children=(IntProgress(value=0, max=6), HTML(value='')))"
      ]
     },
     "metadata": {},
     "output_type": "display_data"
    },
    {
     "name": "stdout",
     "output_type": "stream",
     "text": [
      "{0, 1, 2, 3, 4} 36.55428189883335\n"
     ]
    },
    {
     "data": {
      "application/vnd.jupyter.widget-view+json": {
       "model_id": "",
       "version_major": 2,
       "version_minor": 0
      },
      "text/plain": [
       "HBox(children=(IntProgress(value=0, max=5), HTML(value='')))"
      ]
     },
     "metadata": {},
     "output_type": "display_data"
    },
    {
     "name": "stdout",
     "output_type": "stream",
     "text": [
      "{0, 1, 2, 3} 48.98077883374398\n"
     ]
    },
    {
     "data": {
      "application/vnd.jupyter.widget-view+json": {
       "model_id": "",
       "version_major": 2,
       "version_minor": 0
      },
      "text/plain": [
       "HBox(children=(IntProgress(value=0, max=4), HTML(value='')))"
      ]
     },
     "metadata": {},
     "output_type": "display_data"
    },
    {
     "name": "stdout",
     "output_type": "stream",
     "text": [
      "{0, 1, 3} 117.06815802530032\n"
     ]
    },
    {
     "data": {
      "application/vnd.jupyter.widget-view+json": {
       "model_id": "",
       "version_major": 2,
       "version_minor": 0
      },
      "text/plain": [
       "HBox(children=(IntProgress(value=0, max=3), HTML(value='')))"
      ]
     },
     "metadata": {},
     "output_type": "display_data"
    },
    {
     "name": "stdout",
     "output_type": "stream",
     "text": [
      "{0, 1} 235.51673126010547\n"
     ]
    },
    {
     "data": {
      "application/vnd.jupyter.widget-view+json": {
       "model_id": "",
       "version_major": 2,
       "version_minor": 0
      },
      "text/plain": [
       "HBox(children=(IntProgress(value=0, max=2), HTML(value='')))"
      ]
     },
     "metadata": {},
     "output_type": "display_data"
    },
    {
     "name": "stdout",
     "output_type": "stream",
     "text": [
      "{0} 625.9457548432281\n"
     ]
    },
    {
     "data": {
      "application/vnd.jupyter.widget-view+json": {
       "model_id": "",
       "version_major": 2,
       "version_minor": 0
      },
      "text/plain": [
       "HBox(children=(IntProgress(value=0, max=1), HTML(value='')))"
      ]
     },
     "metadata": {},
     "output_type": "display_data"
    },
    {
     "name": "stdout",
     "output_type": "stream",
     "text": [
      "set() 221.59986083387997\n",
      "\n"
     ]
    }
   ],
   "source": [
    "for S, err in fs.try_remove_all(k, 0.9):\n",
    "    print(S, err)"
   ]
  },
  {
   "cell_type": "code",
   "execution_count": 11,
   "metadata": {},
   "outputs": [
    {
     "data": {
      "application/vnd.jupyter.widget-view+json": {
       "model_id": "b0f7ca3b7d364b5c8cb7934a74541f7e",
       "version_major": 2,
       "version_minor": 0
      },
      "text/plain": [
       "HBox(children=(IntProgress(value=0, max=8), HTML(value='')))"
      ]
     },
     "metadata": {},
     "output_type": "display_data"
    },
    {
     "data": {
      "application/vnd.jupyter.widget-view+json": {
       "model_id": "",
       "version_major": 2,
       "version_minor": 0
      },
      "text/plain": [
       "HBox(children=(IntProgress(value=0, max=8), HTML(value='')))"
      ]
     },
     "metadata": {},
     "output_type": "display_data"
    },
    {
     "name": "stdout",
     "output_type": "stream",
     "text": [
      "{0, 1, 2, 3, 4, 5, 6} 11.90474118124679\n"
     ]
    },
    {
     "data": {
      "application/vnd.jupyter.widget-view+json": {
       "model_id": "",
       "version_major": 2,
       "version_minor": 0
      },
      "text/plain": [
       "HBox(children=(IntProgress(value=0, max=7), HTML(value='')))"
      ]
     },
     "metadata": {},
     "output_type": "display_data"
    },
    {
     "name": "stdout",
     "output_type": "stream",
     "text": [
      "{0, 1, 2, 3, 4, 5} 19.433641233189626\n"
     ]
    },
    {
     "data": {
      "application/vnd.jupyter.widget-view+json": {
       "model_id": "",
       "version_major": 2,
       "version_minor": 0
      },
      "text/plain": [
       "HBox(children=(IntProgress(value=0, max=6), HTML(value='')))"
      ]
     },
     "metadata": {},
     "output_type": "display_data"
    },
    {
     "name": "stdout",
     "output_type": "stream",
     "text": [
      "{0, 1, 2, 3, 4} 36.554281898833366\n"
     ]
    },
    {
     "data": {
      "application/vnd.jupyter.widget-view+json": {
       "model_id": "",
       "version_major": 2,
       "version_minor": 0
      },
      "text/plain": [
       "HBox(children=(IntProgress(value=0, max=5), HTML(value='')))"
      ]
     },
     "metadata": {},
     "output_type": "display_data"
    },
    {
     "name": "stdout",
     "output_type": "stream",
     "text": [
      "{0, 1, 2, 3} 48.980778833743976\n"
     ]
    },
    {
     "data": {
      "application/vnd.jupyter.widget-view+json": {
       "model_id": "",
       "version_major": 2,
       "version_minor": 0
      },
      "text/plain": [
       "HBox(children=(IntProgress(value=0, max=4), HTML(value='')))"
      ]
     },
     "metadata": {},
     "output_type": "display_data"
    },
    {
     "name": "stdout",
     "output_type": "stream",
     "text": [
      "{0, 1, 3} 117.06815802530029\n"
     ]
    },
    {
     "data": {
      "application/vnd.jupyter.widget-view+json": {
       "model_id": "",
       "version_major": 2,
       "version_minor": 0
      },
      "text/plain": [
       "HBox(children=(IntProgress(value=0, max=3), HTML(value='')))"
      ]
     },
     "metadata": {},
     "output_type": "display_data"
    },
    {
     "name": "stdout",
     "output_type": "stream",
     "text": [
      "{0, 1} 235.5167312601055\n"
     ]
    },
    {
     "data": {
      "application/vnd.jupyter.widget-view+json": {
       "model_id": "",
       "version_major": 2,
       "version_minor": 0
      },
      "text/plain": [
       "HBox(children=(IntProgress(value=0, max=2), HTML(value='')))"
      ]
     },
     "metadata": {},
     "output_type": "display_data"
    },
    {
     "name": "stdout",
     "output_type": "stream",
     "text": [
      "{0} 625.9457548432281\n"
     ]
    },
    {
     "data": {
      "application/vnd.jupyter.widget-view+json": {
       "model_id": "",
       "version_major": 2,
       "version_minor": 0
      },
      "text/plain": [
       "HBox(children=(IntProgress(value=0, max=1), HTML(value='')))"
      ]
     },
     "metadata": {},
     "output_type": "display_data"
    },
    {
     "name": "stdout",
     "output_type": "stream",
     "text": [
      "set() 221.59986083387986\n",
      "\n"
     ]
    }
   ],
   "source": [
    "for S, err in fs.try_remove_all(k, 0.9, sum_cmi=False):\n",
    "    print(S, err)"
   ]
  },
  {
   "cell_type": "markdown",
   "metadata": {},
   "source": [
    "#### Subset enumeration"
   ]
  },
  {
   "cell_type": "code",
   "execution_count": 21,
   "metadata": {},
   "outputs": [],
   "source": [
    "allSet = fs.idSet\n",
    "powerset = set(chain.from_iterable(combinations(allSet, r) for r in range(len(s)+1)))"
   ]
  },
  {
   "cell_type": "code",
   "execution_count": 15,
   "metadata": {},
   "outputs": [
    {
     "data": {
      "application/vnd.jupyter.widget-view+json": {
       "model_id": "da9b08c55b69442289b3a3f1b3b24a84",
       "version_major": 2,
       "version_minor": 0
      },
      "text/plain": [
       "HBox(children=(IntProgress(value=0, max=256), HTML(value='')))"
      ]
     },
     "metadata": {},
     "output_type": "display_data"
    },
    {
     "name": "stdout",
     "output_type": "stream",
     "text": [
      "\n"
     ]
    }
   ],
   "source": [
    "rank = [(S, fs.scoreSubset(k, 0.9, S)) for S in tqdm(powerset)]"
   ]
  },
  {
   "cell_type": "code",
   "execution_count": 16,
   "metadata": {},
   "outputs": [
    {
     "data": {
      "text/plain": [
       "[((), 221.5998608338799),\n",
       " ((0,), 625.9457548432282),\n",
       " ((1,), 635.3424755068335),\n",
       " ((2,), 642.7158633576871),\n",
       " ((3,), 644.7962109483158),\n",
       " ((4,), 660.1351901059298),\n",
       " ((5,), 670.2079399991328),\n",
       " ((6,), 676.1227449043595),\n",
       " ((7,), 678.4537399010048),\n",
       " ((0, 1), 235.5167312601055),\n",
       " ((1, 4), 254.68858677241468),\n",
       " ((0, 5), 257.5352041964055),\n",
       " ((4, 5), 273.7993482696362),\n",
       " ((0, 3), 293.498390421585),\n",
       " ((1, 2), 296.63678222277406),\n",
       " ((1, 3), 301.13734417316135),\n",
       " ((0, 2), 301.82855485052335),\n",
       " ((3, 4), 308.4231809691274),\n",
       " ((0, 7), 309.6576878970556),\n",
       " ((1, 6), 311.24110453816087),\n",
       " ((2, 5), 313.67527508174584),\n",
       " ((1, 7), 315.12442064288945),\n",
       " ((0, 6), 316.6779060771711),\n",
       " ((2, 3), 317.32540282114155),\n",
       " ((2, 4), 318.23823323021696),\n",
       " ((3, 5), 319.1750682186439),\n",
       " ((4, 7), 324.41078195823815),\n",
       " ((5, 6), 327.67282576166275),\n",
       " ((2, 7), 332.02519706381776),\n",
       " ((5, 7), 332.2462813383383),\n",
       " ((3, 6), 332.37827167814856),\n",
       " ((4, 6), 332.89067907738803),\n",
       " ((6, 7), 346.6599897876572),\n",
       " ((0, 4), 616.2582233507645),\n",
       " ((1, 5), 625.4233394539102),\n",
       " ((2, 6), 633.1684627892213),\n",
       " ((3, 7), 635.2171836521239),\n",
       " ((0, 1, 3), 117.06815802530029),\n",
       " ((0, 1, 2), 119.05235801997475),\n",
       " ((0, 1, 7), 124.94484753474588),\n",
       " ((0, 1, 6), 128.9674288658129),\n",
       " ((0, 3, 5), 138.29460590280812),\n",
       " ((1, 3, 4), 140.1063542711682),\n",
       " ((1, 2, 4), 140.30081602665007),\n",
       " ((0, 2, 5), 140.38020420377913),\n",
       " ((0, 5, 7), 144.93910070831038),\n",
       " ((1, 4, 7), 146.3129249804644),\n",
       " ((1, 4, 6), 147.99638165071778),\n",
       " ((0, 5, 6), 148.82534751261707),\n",
       " ((2, 4, 5), 155.3953771559325),\n",
       " ((3, 4, 5), 155.71548790570253),\n",
       " ((4, 5, 7), 160.85798792999836),\n",
       " ((4, 5, 6), 162.92744714300008),\n",
       " ((0, 2, 3), 181.50175404018387),\n",
       " ((1, 2, 3), 185.69339230607304),\n",
       " ((0, 3, 6), 191.60153000573868),\n",
       " ((0, 2, 7), 192.609724600188),\n",
       " ((2, 3, 4), 194.12610033610252),\n",
       " ((1, 2, 7), 195.5998318355867),\n",
       " ((1, 3, 6), 196.6641634509396),\n",
       " ((2, 3, 5), 199.76660619551808),\n",
       " ((0, 6, 7), 202.91450562461105),\n",
       " ((3, 4, 6), 203.03588561940816),\n",
       " ((2, 4, 7), 204.24481584467563),\n",
       " ((1, 6, 7), 204.89416604881634),\n",
       " ((2, 5, 7), 208.98836756877756),\n",
       " ((3, 5, 6), 209.74404969365045),\n",
       " ((4, 6, 7), 213.2269607535921),\n",
       " ((5, 6, 7), 217.75877842845685),\n",
       " ((0, 1, 5), 229.79461325439303),\n",
       " ((0, 1, 4), 230.48392667366483),\n",
       " ((1, 4, 5), 249.6322739264658),\n",
       " ((0, 4, 5), 253.3262427690944),\n",
       " ((0, 3, 7), 288.98427220037183),\n",
       " ((0, 3, 4), 289.40893420202195),\n",
       " ((1, 2, 5), 292.0384962196901),\n",
       " ((1, 2, 6), 292.71438678289974),\n",
       " ((1, 3, 5), 296.28667538234566),\n",
       " ((0, 2, 4), 297.1893889228121),\n",
       " ((1, 3, 7), 297.39028507257217),\n",
       " ((0, 2, 6), 297.6026031306625),\n",
       " ((3, 4, 7), 304.25813230020833),\n",
       " ((0, 4, 7), 305.55976598772406),\n",
       " ((1, 5, 6), 306.8243598862287),\n",
       " ((2, 5, 6), 309.67658270415444),\n",
       " ((1, 5, 7), 310.7576881966765),\n",
       " ((0, 4, 6), 312.18306762198785),\n",
       " ((2, 3, 6), 313.11036141823513),\n",
       " ((2, 3, 7), 313.1818272926539),\n",
       " ((2, 4, 6), 314.26808904536364),\n",
       " ((3, 5, 7), 315.70525049315626),\n",
       " ((2, 6, 7), 327.8661321082748),\n",
       " ((3, 6, 7), 328.3660651925684),\n",
       " ((0, 1, 2, 3), 48.98077883374398),\n",
       " ((0, 1, 2, 7), 57.40539678608795),\n",
       " ((0, 1, 3, 6), 58.803676009797755),\n",
       " ((0, 1, 6, 7), 64.1160538842375),\n",
       " ((0, 2, 3, 5), 80.18720776191165),\n",
       " ((1, 2, 3, 4), 83.37226493823339),\n",
       " ((0, 2, 5, 7), 84.2422243399302),\n",
       " ((0, 3, 5, 6), 87.26790382022114),\n",
       " ((1, 2, 4, 7), 87.60580416003734),\n",
       " ((0, 5, 6, 7), 89.5714054466889),\n",
       " ((1, 3, 4, 6), 89.57311281599672),\n",
       " ((1, 4, 6, 7), 93.02295937988703),\n",
       " ((2, 3, 4, 5), 101.31567478829591),\n",
       " ((2, 4, 5, 7), 104.05178718045865),\n",
       " ((3, 4, 5, 6), 105.62150643521834),\n",
       " ((4, 5, 6, 7), 108.12704556694462),\n",
       " ((0, 1, 3, 4), 111.55131783864998),\n",
       " ((0, 1, 3, 5), 111.72077170401221),\n",
       " ((0, 1, 2, 4), 113.72401944014702),\n",
       " ((0, 1, 2, 5), 113.91064005306409),\n",
       " ((0, 1, 3, 7), 115.0152282953979),\n",
       " ((0, 1, 2, 6), 116.15708242309594),\n",
       " ((0, 1, 4, 7), 119.64812521749431),\n",
       " ((0, 1, 5, 7), 119.90909495217619),\n",
       " ((0, 1, 5, 6), 123.80416157871979),\n",
       " ((0, 1, 4, 6), 124.26459231877843),\n",
       " ((0, 3, 4, 5), 134.1641758132793),\n",
       " ((1, 3, 4, 5), 136.8230333108174),\n",
       " ((0, 3, 5, 7), 136.88363750962344),\n",
       " ((0, 2, 4, 5), 136.9135949625244),\n",
       " ((1, 2, 4, 5), 137.0094245458349),\n",
       " ((0, 2, 5, 6), 138.27518274169208),\n",
       " ((1, 2, 4, 6), 138.42402456889752),\n",
       " ((1, 3, 4, 7), 138.76472715931402),\n",
       " ((0, 4, 5, 7), 141.0148549460218),\n",
       " ((1, 4, 5, 7), 143.23687382539615),\n",
       " ((1, 4, 5, 6), 144.60699215286857),\n",
       " ((0, 4, 5, 6), 145.1699730235092),\n",
       " ((2, 4, 5, 6), 154.19386162274998),\n",
       " ((3, 4, 5, 7), 154.68104009239516),\n",
       " ((0, 2, 3, 7), 178.1036888198585),\n",
       " ((0, 2, 3, 4), 178.48408200571302),\n",
       " ((0, 2, 3, 6), 178.80408634379066),\n",
       " ((1, 2, 3, 5), 181.9306840190051),\n",
       " ((1, 2, 3, 6), 182.94807371066616),\n",
       " ((1, 2, 3, 7), 183.29464271330824),\n",
       " ((0, 3, 6, 7), 188.57808311683337),\n",
       " ((0, 3, 4, 6), 188.7478289310722),\n",
       " ((0, 2, 4, 7), 189.50109754761047),\n",
       " ((0, 2, 6, 7), 189.8278772473895),\n",
       " ((2, 3, 4, 7), 191.45939378824687),\n",
       " ((2, 3, 4, 6), 191.67803897161772),\n",
       " ((1, 2, 5, 7), 191.86976098588522),\n",
       " ((1, 3, 5, 6), 192.83680281005093),\n",
       " ((1, 2, 6, 7), 192.90180467489483),\n",
       " ((1, 3, 6, 7), 194.25386478805578),\n",
       " ((2, 3, 5, 6), 197.2137730737363),\n",
       " ((2, 3, 5, 7), 197.3982859102407),\n",
       " ((0, 4, 6, 7), 200.23044072337098),\n",
       " ((3, 4, 6, 7), 200.40668939280317),\n",
       " ((1, 5, 6, 7), 201.40524616756346),\n",
       " ((2, 4, 6, 7), 201.68845693483004),\n",
       " ((2, 5, 6, 7), 206.48704115414708),\n",
       " ((3, 5, 6, 7), 207.33576938423698),\n",
       " ((0, 1, 4, 5), 224.4940109404526),\n",
       " ((0, 3, 4, 7), 284.85323397988105),\n",
       " ((1, 2, 5, 6), 287.97047723268304),\n",
       " ((1, 3, 5, 7), 292.57346681205155),\n",
       " ((0, 2, 4, 6), 292.99277421807466),\n",
       " ((2, 3, 6, 7), 308.9899729512955),\n",
       " ((0, 1, 2, 3, 4), 36.55428189883335),\n",
       " ((0, 1, 2, 3, 5), 38.94244744864562),\n",
       " ((0, 1, 2, 3, 6), 46.07112745197466),\n",
       " ((0, 1, 2, 3, 7), 47.84495825190443),\n",
       " ((0, 1, 2, 4, 7), 47.86454501081299),\n",
       " ((0, 1, 3, 4, 6), 49.593653755601224),\n",
       " ((0, 1, 2, 5, 7), 49.66495359547358),\n",
       " ((0, 1, 3, 5, 6), 50.348121341539624),\n",
       " ((0, 1, 2, 6, 7), 55.07166925668993),\n",
       " ((0, 1, 4, 6, 7), 55.59028222767431),\n",
       " ((0, 1, 3, 6, 7), 57.29153725883373),\n",
       " ((0, 1, 5, 6, 7), 57.35745907973264),\n",
       " ((0, 2, 3, 4, 5), 75.01878390843949),\n",
       " ((0, 2, 3, 5, 6), 78.46511566217143),\n",
       " ((0, 2, 4, 5, 7), 79.14588495498707),\n",
       " ((1, 2, 3, 4, 5), 79.32942519663453),\n",
       " ((0, 2, 3, 5, 7), 79.37334156641874),\n",
       " ((1, 2, 3, 4, 6), 81.68606943513605),\n",
       " ((0, 2, 5, 6, 7), 82.57239862343107),\n",
       " ((1, 2, 3, 4, 7), 82.8254412131084),\n",
       " ((0, 3, 4, 5, 6), 83.28802374722737),\n",
       " ((1, 2, 4, 5, 7), 84.13788591637316),\n",
       " ((0, 4, 5, 6, 7), 84.99518684151955),\n",
       " ((1, 3, 4, 5, 6), 85.68498631107106),\n",
       " ((0, 3, 5, 6, 7), 85.79004648247808),\n",
       " ((1, 2, 4, 6, 7), 86.02548237697944),\n",
       " ((1, 3, 4, 6, 7), 88.40892249186693),\n",
       " ((1, 4, 5, 6, 7), 89.61261257587951),\n",
       " ((2, 3, 4, 5, 6), 100.19392314037495),\n",
       " ((2, 3, 4, 5, 7), 100.70609989889826),\n",
       " ((2, 4, 5, 6, 7), 103.00658209884756),\n",
       " ((3, 4, 5, 6, 7), 104.32787968068519),\n",
       " ((0, 1, 3, 4, 5), 105.65074877448963),\n",
       " ((0, 1, 2, 4, 5), 108.07560297678788),\n",
       " ((0, 1, 3, 4, 7), 109.26978119738801),\n",
       " ((0, 1, 3, 5, 7), 109.53509253424892),\n",
       " ((0, 1, 2, 4, 6), 110.78619143743028),\n",
       " ((0, 1, 2, 5, 6), 110.91243200002428),\n",
       " ((0, 1, 4, 5, 7), 114.05692893908497),\n",
       " ((0, 1, 4, 5, 6), 118.58397079693852),\n",
       " ((0, 3, 4, 5, 7), 132.51283645849017),\n",
       " ((0, 2, 4, 5, 6), 134.8760920986524),\n",
       " ((1, 2, 4, 5, 6), 134.91279492390908),\n",
       " ((1, 3, 4, 5, 7), 135.29697564362104),\n",
       " ((0, 2, 3, 4, 7), 174.99958791344238),\n",
       " ((0, 2, 3, 6, 7), 175.32463811487506),\n",
       " ((0, 2, 3, 4, 6), 175.75863466529535),\n",
       " ((1, 2, 3, 5, 6), 179.06477907779495),\n",
       " ((1, 2, 3, 5, 7), 179.46410535918443),\n",
       " ((1, 2, 3, 6, 7), 180.2504745087914),\n",
       " ((0, 3, 4, 6, 7), 185.56135796574247),\n",
       " ((0, 2, 4, 6, 7), 186.73995250259384),\n",
       " ((2, 3, 4, 6, 7), 189.02635476863836),\n",
       " ((1, 2, 5, 6, 7), 189.27665263678855),\n",
       " ((1, 3, 5, 6, 7), 190.33039236128744),\n",
       " ((2, 3, 5, 6, 7), 194.686543319185),\n",
       " ((0, 1, 2, 3, 4, 5), 19.433641233189626),\n",
       " ((0, 1, 2, 3, 4, 6), 32.98656368836628),\n",
       " ((0, 1, 2, 3, 4, 7), 34.84378871678203),\n",
       " ((0, 1, 2, 3, 5, 6), 35.32789088966659),\n",
       " ((0, 1, 2, 3, 5, 7), 37.06243498834202),\n",
       " ((0, 1, 2, 4, 5, 7), 37.4047161607485),\n",
       " ((0, 1, 3, 4, 5, 6), 38.22899086085966),\n",
       " ((0, 1, 2, 3, 6, 7), 44.94300893698447),\n",
       " ((0, 1, 2, 4, 6, 7), 45.28501613040409),\n",
       " ((0, 1, 4, 5, 6, 7), 46.677706839796144),\n",
       " ((0, 1, 2, 5, 6, 7), 47.062972774154616),\n",
       " ((0, 1, 3, 4, 6, 7), 47.97446608568564),\n",
       " ((0, 1, 3, 5, 6, 7), 48.26877694143678),\n",
       " ((0, 2, 3, 4, 5, 6), 72.995175416831),\n",
       " ((0, 2, 3, 4, 5, 7), 74.16869478697704),\n",
       " ((1, 2, 3, 4, 5, 6), 77.36608956487949),\n",
       " ((0, 2, 4, 5, 6, 7), 77.4678512894278),\n",
       " ((0, 2, 3, 5, 6, 7), 77.8246858177667),\n",
       " ((1, 2, 3, 4, 5, 7), 78.39511122186788),\n",
       " ((1, 2, 3, 4, 6, 7), 81.08109062637678),\n",
       " ((0, 3, 4, 5, 6, 7), 81.75884974732031),\n",
       " ((1, 2, 4, 5, 6, 7), 82.35005905727375),\n",
       " ((1, 3, 4, 5, 6, 7), 84.21535525870439),\n",
       " ((2, 3, 4, 5, 6, 7), 99.50948729318804),\n",
       " ((0, 1, 3, 4, 5, 7), 103.13143065348048),\n",
       " ((0, 1, 2, 4, 5, 6), 105.02987808443048),\n",
       " ((0, 2, 3, 4, 6, 7), 172.21394759425718),\n",
       " ((1, 2, 3, 5, 6, 7), 176.26630621330168),\n",
       " ((0, 1, 2, 3, 4, 5, 6), 11.90474118124679),\n",
       " ((0, 1, 2, 3, 4, 5, 7), 14.879543398915935),\n",
       " ((0, 1, 2, 3, 4, 6, 7), 31.3552838345238),\n",
       " ((0, 1, 2, 3, 5, 6, 7), 33.47068832907708),\n",
       " ((0, 1, 2, 4, 5, 6, 7), 33.9459381216273),\n",
       " ((0, 1, 3, 4, 5, 6, 7), 35.958711573393316),\n",
       " ((0, 2, 3, 4, 5, 6, 7), 72.29199146215129),\n",
       " ((1, 2, 3, 4, 5, 6, 7), 76.34257971072772),\n",
       " ((0, 1, 2, 3, 4, 5, 6, 7), 0.0)]"
      ]
     },
     "execution_count": 16,
     "metadata": {},
     "output_type": "execute_result"
    }
   ],
   "source": [
    "sorted(sorted(rank, key=lambda x: x[1]), key=lambda x: len(x[0]))"
   ]
  }
 ],
 "metadata": {
  "kernelspec": {
   "display_name": "feature_sel",
   "language": "python",
   "name": "feature_sel"
  },
  "language_info": {
   "codemirror_mode": {
    "name": "ipython",
    "version": 3
   },
   "file_extension": ".py",
   "mimetype": "text/x-python",
   "name": "python",
   "nbconvert_exporter": "python",
   "pygments_lexer": "ipython3",
   "version": "3.7.3"
  }
 },
 "nbformat": 4,
 "nbformat_minor": 2
}
