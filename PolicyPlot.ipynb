{
 "cells": [
  {
   "cell_type": "markdown",
   "metadata": {},
   "source": [
    "# Policy comparison "
   ]
  },
  {
   "cell_type": "code",
   "execution_count": 1,
   "metadata": {},
   "outputs": [
    {
     "name": "stderr",
     "output_type": "stream",
     "text": [
      "/home/daibak/.virtualenvs/feature_sel/lib/python3.7/site-packages/tqdm/autonotebook/__init__.py:18: TqdmExperimentalWarning: Using `tqdm.autonotebook.tqdm` in notebook mode. Use `tqdm.tqdm` instead to force console mode (e.g. in jupyter console)\n",
      "  \" (e.g. in jupyter console)\", TqdmExperimentalWarning)\n"
     ]
    }
   ],
   "source": [
    "import numpy as np\n",
    "import matplotlib.pyplot as plt\n",
    "%matplotlib inline\n",
    "\n",
    "from src.algorithm.backward_feature_selection import BackwardFeatureSelector\n",
    "from src.algorithm.info_theory.combo_estimators import NpeetEstimator\n",
    "from src.algorithm.utils import episodes_with_len\n",
    "from src.envs.lqgNdim import LQG_nD\n",
    "from src.wenvs import WrapperEnv"
   ]
  },
  {
   "cell_type": "code",
   "execution_count": 2,
   "metadata": {},
   "outputs": [],
   "source": [
    "%load_ext autoreload\n",
    "%autoreload 2"
   ]
  },
  {
   "cell_type": "code",
   "execution_count": 3,
   "metadata": {},
   "outputs": [],
   "source": [
    "weights = np.array([0.9, 0.9, 0.1, 0.1]*2)\n",
    "Q = np.diag(weights[:4])\n",
    "R = Q.copy()\n",
    "env = LQG_nD(0.9, n_dim=4, Q=Q, R=R)\n",
    "wenv = WrapperEnv(env, continuous_state=True, continuous_actions=True)"
   ]
  },
  {
   "cell_type": "code",
   "execution_count": 4,
   "metadata": {},
   "outputs": [],
   "source": [
    "policy_dict = {'RND' : None, \n",
    "               'OPT_DET' : env.gaussianPolicy(env.computeOptimalK(), Sigma=0), \n",
    "               'OPT_RND' : env.gaussianPolicy(env.computeOptimalK(), Sigma=2), \n",
    "               'GAU_DET' : env.gaussianPolicy(env.computeOptimalK()*2, Sigma=0), \n",
    "               'GAU_RND' : env.gaussianPolicy(env.computeOptimalK()*2, Sigma=2)}"
   ]
  },
  {
   "cell_type": "code",
   "execution_count": 5,
   "metadata": {},
   "outputs": [],
   "source": [
    "k = 20\n",
    "k_ahead = 20\n",
    "num_ep = 1000\n",
    "\n",
    "traj_dict = {}\n",
    "for pi in policy_dict:\n",
    "    wenv.seed(0)\n",
    "    trajectories = episodes_with_len(wenv, num_ep, k+k_ahead, policy=policy_dict[pi])\n",
    "    traj_dict[pi] = trajectories"
   ]
  },
  {
   "cell_type": "code",
   "execution_count": 6,
   "metadata": {},
   "outputs": [],
   "source": [
    "def evaluateFS(trajectories, k, gamma):\n",
    "    fs = BackwardFeatureSelector(NpeetEstimator(), trajectories, nproc=1)\n",
    "    return [(set(fs.idSet), 0.0)] + list(fs.try_all(k, gamma))"
   ]
  },
  {
   "cell_type": "code",
   "execution_count": null,
   "metadata": {},
   "outputs": [],
   "source": [
    "fs_dict = {}\n",
    "for pi in traj_dict:\n",
    "    res = evaluateFS(traj_dict[pi], k, 0.9)\n",
    "    fs_dict[pi] = res"
   ]
  },
  {
   "cell_type": "code",
   "execution_count": 8,
   "metadata": {},
   "outputs": [
    {
     "name": "stdout",
     "output_type": "stream",
     "text": [
      "RND\n",
      "({0, 1, 2, 3, 4, 5, 6, 7}, 0.0)\n",
      "({0, 1, 2, 4, 5, 6, 7}, 59.6184899853323)\n",
      "({0, 1, 2, 4, 5, 6}, 137.12495267980438)\n",
      "({0, 1, 4, 5, 6}, 184.04844618393835)\n",
      "({0, 1, 4, 5}, 269.06131087483647)\n",
      "({0, 1, 5}, 475.7000770970794)\n",
      "({1, 5}, 582.7550591602668)\n",
      "({1}, 682.6743770406352)\n",
      "(set(), 782.2583300584851)\n",
      "OPT_DET\n",
      "({0, 1, 2, 3, 4, 5, 6, 7}, 0.0)\n",
      "({0, 1, 3, 4, 5, 6, 7}, 1.4418336848108359e-07)\n",
      "({0, 1, 4, 5, 6, 7}, 2.0390607517458586e-07)\n",
      "({0, 1, 5, 6, 7}, 4.605350945041377e-06)\n",
      "({0, 1, 6, 7}, 6.452141584080397e-06)\n",
      "({0, 1, 6}, 0.0007157961016097007)\n",
      "({0, 1}, 0.0009671340236242585)\n",
      "({0}, 238.50833161396173)\n",
      "(set(), 291.3717630493637)\n",
      "OPT_RND\n",
      "({0, 1, 2, 3, 4, 5, 6, 7}, 0.0)\n",
      "({0, 1, 3, 4, 5, 6, 7}, 2.1197838386655374)\n",
      "({0, 1, 4, 5, 6, 7}, 12.028825272180875)\n",
      "({0, 1, 4, 5, 7}, 35.42332330466001)\n",
      "({0, 1, 4, 5}, 53.04288974674453)\n",
      "({0, 1, 5}, 154.76431913897096)\n",
      "({0, 1}, 210.47946524491076)\n",
      "({0}, 344.1665854236418)\n",
      "(set(), 416.1501801912648)\n",
      "GAU_DET\n",
      "({0, 1, 2, 3, 4, 5, 6, 7}, 0.0)\n",
      "({0, 1, 2, 3, 4, 5, 7}, 0.05256329974068939)\n",
      "({0, 1, 2, 3, 4, 5}, 0.07433573137635688)\n",
      "({0, 1, 2, 3, 4}, 18.22173630513328)\n",
      "({0, 1, 2, 3}, 18.2217363051333)\n",
      "({0, 1, 3}, 30.763276441017407)\n",
      "({0, 1}, 65.17363523937357)\n",
      "({0}, 271.71229694964524)\n",
      "(set(), 336.1460448919971)\n",
      "GAU_RND\n",
      "({0, 1, 2, 3, 4, 5, 6, 7}, 0.0)\n",
      "({0, 1, 2, 3, 4, 5, 7}, 2.4538548536640485)\n",
      "({0, 1, 2, 3, 4, 5}, 3.998540812062008)\n",
      "({0, 1, 3, 4, 5}, 15.700895287956987)\n",
      "({0, 1, 4, 5}, 65.3498238648257)\n",
      "({0, 1, 4}, 161.34887764032868)\n",
      "({0, 1}, 201.334028428134)\n",
      "({1}, 374.1457550682554)\n",
      "(set(), 435.00714053273856)\n"
     ]
    }
   ],
   "source": [
    "for pi in fs_dict:\n",
    "    print(pi)\n",
    "    for i in fs_dict[pi]:\n",
    "        print(i)"
   ]
  },
  {
   "cell_type": "code",
   "execution_count": 9,
   "metadata": {},
   "outputs": [],
   "source": [
    "def score_fs(history, weights):\n",
    "    res = []\n",
    "    for S in history:\n",
    "        score = weights[list(S)].sum() / (len(S) + 1)\n",
    "        res.append(score)\n",
    "    return np.array(res)"
   ]
  },
  {
   "cell_type": "code",
   "execution_count": 10,
   "metadata": {},
   "outputs": [],
   "source": [
    "score_dict = {}\n",
    "for pi in fs_dict:\n",
    "    hist = map(lambda x: x[0], fs_dict[pi])\n",
    "    score_dict[pi] = score_fs(hist, weights)"
   ]
  },
  {
   "cell_type": "code",
   "execution_count": 11,
   "metadata": {},
   "outputs": [],
   "source": [
    "def ideal_hist(weights):\n",
    "    S = set(range(len(weights)))\n",
    "    hist = [S.copy()]\n",
    "    for i in np.argsort(weights):\n",
    "        S.remove(i)\n",
    "        hist.append(S.copy())\n",
    "    return hist"
   ]
  },
  {
   "cell_type": "code",
   "execution_count": 12,
   "metadata": {},
   "outputs": [],
   "source": [
    "score_dict['Ideal'] = score_fs(ideal_hist(weights), weights)"
   ]
  },
  {
   "cell_type": "code",
   "execution_count": 13,
   "metadata": {},
   "outputs": [],
   "source": [
    "def plot_scores(score_dict):\n",
    "    markers = [\"x\", \"o\", \"*\", \"s\", \"^\", \"v\"]\n",
    "    fig = plt.figure(figsize=(9,5))\n",
    "    ax = plt.subplot(111)\n",
    "    for pi, m in zip(score_dict, markers):\n",
    "        y = score_dict[pi]\n",
    "        x = np.arange(len(y))\n",
    "        ax.step(x, y, where='mid', label=pi, marker=m, alpha=0.3)\n",
    "    ax.legend()\n",
    "    plt.xlabel(\"Number of Features Removed\")\n",
    "    plt.ylabel(\"Score\")\n",
    "    plt.title(\"Policy Comparison\")\n",
    "    plt.show()\n",
    "    return fig"
   ]
  },
  {
   "cell_type": "code",
   "execution_count": 14,
   "metadata": {},
   "outputs": [
    {
     "data": {
      "image/png": "[encoded data removed]",
      "text/plain": [
       "<Figure size 648x360 with 1 Axes>"
      ]
     },
     "metadata": {
      "needs_background": "light"
     },
     "output_type": "display_data"
    }
   ],
   "source": [
    "fig = plot_scores(score_dict)"
   ]
  },
  {
   "cell_type": "code",
   "execution_count": 15,
   "metadata": {},
   "outputs": [],
   "source": [
    "fig.savefig(\"images/policy-comparison.png\")"
   ]
  }
 ],
 "metadata": {
  "kernelspec": {
   "display_name": "feature_sel",
   "language": "python",
   "name": "feature_sel"
  },
  "language_info": {
   "codemirror_mode": {
    "name": "ipython",
    "version": 3
   },
   "file_extension": ".py",
   "mimetype": "text/x-python",
   "name": "python",
   "nbconvert_exporter": "python",
   "pygments_lexer": "ipython3",
   "version": "3.7.4"
  }
 },
 "nbformat": 4,
 "nbformat_minor": 4
}
